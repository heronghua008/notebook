{
 "cells": [
  {
   "cell_type": "markdown",
   "metadata": {},
   "source": [
    "# 字符串 str:\n",
    "- 作用：用来记录文本信息\n",
    "- 表示方法：在非注释中，凡是用引号括起来的部分都是字符串\n",
    "  - ‘     单引号\n",
    "  - “     双引号\n",
    "  - ’‘’   三单引号\n",
    "  - ”“”   三双引号\n",
    "- 空字符串的表示方法：\n",
    "  - ‘’  “”  '''''' \"\"\"\"\"\"\n",
    "  - 注：空字符串的的布尔值为False\n",
    "- 非空字符串表达方式：\n",
    "  - ‘hello’\n",
    "  - \"hello\"\n",
    "  - '''hello'''\n",
    "  - \"\"\"hello\"\"\"\n",
    "- 单引号和双引号的区别：\n",
    "  - 单引号内可以包含双引号\n",
    "  - 双引号内可以包含单引号\n",
    "- 三引号字符串的作用：\n",
    "  - 三引号字符串中的换行会自动转换为换行符‘\\n’\n",
    "  - 三引号内可包含单引号和双引号  "
   ]
  },
  {
   "cell_type": "code",
   "execution_count": 2,
   "metadata": {},
   "outputs": [
    {
     "name": "stdout",
     "output_type": "stream",
     "text": [
      "welcome to beijing.\n",
      "I like python!\n",
      "I am Studing!\n",
      "welcome to beijing.\n",
      "I like python!\n",
      "I am Studing!\n",
      "I'ma programer.my name is \"weimingze\"\n"
     ]
    }
   ],
   "source": [
    "# 示例:\n",
    "print('welcome to beijing.\\nI like python!\\nI am Studing!')\n",
    "print('''welcome to beijing.\n",
    "I like python!\n",
    "I am Studing!''')  # 等同于单引号加\\n    \n",
    "# 隐式字符串字面值拼接\n",
    "s = \"I'm\" 'a programer.' 'my name is \"weimingze\"'\n",
    "print(s)"
   ]
  },
  {
   "cell_type": "markdown",
   "metadata": {},
   "source": [
    "- 用转义序列代表特殊字符\n",
    "  - 字符串字面值中用字符‘\\’后跟一些字符代表特殊的一个字符\n",
    "  - \\'          单引号(')\n",
    "  - \\\"          双引号(\")\n",
    "  - \\n          换行\n",
    "  - \\a          响铃\n",
    "  - \\\\          一个反斜杠(\\)\n",
    "  - \\r          返回光标至行首\n",
    "  - \\f          换页\n",
    "  - \\t          水平制表符\n",
    "  - \\v          垂直制表符\n",
    "  - \\b          倒退光标\n",
    "  - \\0          空字符(字符的值为零)\n",
    "  - \\oxx        两位八进制表示的字符\n",
    "  - \\xXX        两位十六进制表示的字符\n",
    "  - \\uXXXX      Unicode 16的十六进制字符\n",
    "  - \\UXXXXXXXX  Unicode 32的十六进制字符\n",
    "- ASCII编码:\n",
    "  - man ascii<回车>\n",
    "  - 常用的ASCII编码:\n",
    "    - 字符----十进制----十六进制\n",
    "    - '0'-------48-------0x30\n",
    "    - 'A'-------65-------0x41\n",
    "    - 'a'-------97-------0x61\n",
    "- raw 字符串(原始字符串)\n",
    "  - 格式:\n",
    "    - r'字符串内容'\n",
    "    - r\"字符串内容\"\n",
    "    - r'''字符串内容'''\n",
    "    - r\"\"\"字符串内容\"\"\"\n",
    "  - 作用：让转义符号 \\ 无效"
   ]
  },
  {
   "cell_type": "code",
   "execution_count": 28,
   "metadata": {},
   "outputs": [
    {
     "name": "stdout",
     "output_type": "stream",
     "text": [
      "C:\\newfile\\test.py\n"
     ]
    }
   ],
   "source": [
    "# 示例\n",
    "a = r'C:\\newfile\\test.py'\n",
    "print(a)"
   ]
  },
  {
   "cell_type": "markdown",
   "metadata": {},
   "source": [
    "- len函数:\n",
    "  - len(s)  返回字符串中字符的个数"
   ]
  },
  {
   "cell_type": "code",
   "execution_count": 30,
   "metadata": {},
   "outputs": [
    {
     "name": "stdout",
     "output_type": "stream",
     "text": [
      "8\n",
      "4\n",
      "7\n",
      "5\n"
     ]
    }
   ],
   "source": [
    "# 字符串练习：\n",
    "# '1234abcd'　    此字符串有几个符\n",
    "# '5\\'4\"'        有几个字符\n",
    "# '\\\"A\\x34\\o56'  有几个字符\n",
    "# '\\a\\bc\\td'     有几个字符\n",
    "print(len('1234abcd'))\n",
    "print(len('5\\'4\"'))\n",
    "print(len('\\\"A\\x34\\o56'))\n",
    "print(len('\\a\\bc\\td'))"
   ]
  },
  {
   "cell_type": "markdown",
   "metadata": {},
   "source": [
    "- 序列的概念：(有序排列)\n",
    "  - 字符串是序列的一种\n",
    "- 字符串的运算：\n",
    "  - +加号运算符用于拼接字符串\n",
    "  - 例：\n",
    "      - x = \"abcd\"\n",
    "      - y = \"efg\"\n",
    "      - z = x + y\n",
    "      - print(z)  # abcdefg\n",
    "  - += 运算符原字符串与右侧字符串拼接生成新的字符串关联到原变量\n",
    "  - 例：\n",
    "      - x = \"abcd\"\n",
    "      - y = \"efg\"\n",
    "      - x += y  #  等同于 x = x + y\n",
    "      - print(x)  # abcdefg\n",
    "      - print(y)  # efg\n",
    "  - *运算符生成重复的字符串\n",
    "  - 格式:\n",
    "      - 字符串 * 整型表达式\n",
    "  - 例:\n",
    "      - x = \"ABCD\" * 3  # ABCDABCDABCD\n",
    "  - *= 生成重复的字符串并改变变量的绑定(关联)关系　\n",
    "  - 例：\n",
    "      - x = \"123\"\n",
    "      - x *= 4 \n",
    "      - print(x)\n",
    "- 字符串的比较:\n",
    "      > >= < <= == !=\n",
    "  - 例：\n",
    "      - 'A' < 'B'      # True\n",
    "      - 'ABC' < 'ABB'  # False\n",
    "      - 'ADC' < \"ABC\"  # False\n",
    "      - 'AD'  < 'ABC'  # False\n",
    "      - 'AB'  < 'ABC'  # True\n",
    "      - 'ABC' == 'abc' # flase\n",
    "      - \"ABCD\" != 'DCBA' # True\n",
    "- in / not in 运算符\n",
    "  - 作用：in用于序列，字典，集合等容器类中，用于判断某个值是否存在容器中，如果存在容器中返回True ,不存在则Flase\n",
    "  - 格式：\n",
    "    - 对象 in 序列\n",
    "  - 示例：\n",
    "    - x = 'Welcome to bejing'\n",
    "    - 'to' in x     # True\n",
    "    - 'hello' in x  # Flase"
   ]
  },
  {
   "cell_type": "code",
   "execution_count": 46,
   "metadata": {},
   "outputs": [
    {
     "name": "stdout",
     "output_type": "stream",
     "text": [
      "请输入宽度：10\n",
      "##########\n",
      "#        #\n",
      "#        #\n",
      "##########\n",
      "请输入长长的字符串：hfalskdjhfawhfashdfahuhgkajshfwherqwof\n"
     ]
    }
   ],
   "source": [
    "# 练习：\n",
    "# 1.写一个程序打印一个高度为4行的矩形方框\n",
    "#   要求：输入一个整数代表矩形宽度\n",
    "#   如：\n",
    "# 请输入宽度：10\n",
    "    ##########\n",
    "    #        #\n",
    "    #        #\n",
    "    ##########\n",
    "\n",
    "k = int(input(\"请输入宽度：\"))\n",
    "print(k * '#')\n",
    "print('#' + (k-2) * \" \" + '#')\n",
    "print('#' + (k-2) * \" \" + '#')\n",
    "print(k * '#')\n",
    "\n",
    "# 2.输入一个长长的字符串，判断你的名字是否在这个字符串内。如果存在，\n",
    "# 则打印‘你的名字出’否则不理睬\n",
    "s = input('请输入长长的字符串：')\n",
    "if 'heronghua' in s:\n",
    "    print('你的名字出现')"
   ]
  },
  {
   "cell_type": "markdown",
   "metadata": {},
   "source": [
    "- 字符串的索引 index\n",
    "  - python的字符串是不可以改变的字符序列\n",
    "\n",
    "  - 语法：\n",
    "    - 字符串[整数表达式]\n",
    "  - 说明：\n",
    "    - python序列都可以用索引(index)来访问序列中的对象\n",
    "    - python序列的正向索引是从0开始的，第二个索引为1 ..., 以此类推，最后一个索引是len(s)-1\n",
    "    - python序列的反向索引是从-1开始的，-1代表最后一个，-2代表倒数第二个，以此类推．第一个是-len(s)\n",
    "  - 示例：\n",
    "         >>> s = \"ABCD\"\n",
    "         >>> print(s[0])  # A\n",
    "        A\n",
    "         >>> print(s[2])  # C\n",
    "        C\n",
    "         >>> print(s[-1])\n",
    "        D\n",
    "         >>> print(s[-4])\n",
    "        A\n",
    "         >>> print(s[-8])  # 出错\n"
   ]
  },
  {
   "cell_type": "code",
   "execution_count": 7,
   "metadata": {},
   "outputs": [
    {
     "name": "stdout",
     "output_type": "stream",
     "text": [
      "请输入字符串：DKJFA\n",
      "第一个字符串 D\n",
      "最后一个字符 A\n",
      "中间的字符 J\n",
      "字符串长度 5\n"
     ]
    }
   ],
   "source": [
    "# 练习：\n",
    "#   输入一个字符串，\n",
    "#      1. 打印这个字符串的第一个字符\n",
    "#      2. 打印这个字符串的最后一个字符\n",
    "#      3. 如果此字符串长度为奇数，打印中间的字符\n",
    "#      注：\n",
    "#        求字符串长度的函数len(x) \n",
    "Z = input('请输入字符串：')\n",
    "print('第一个字符串',Z[0])\n",
    "print('最后一个字符',Z[-1])\n",
    "if len(Z) % 2 == 1:\n",
    "    print('中间的字符',Z[len(Z)//2])\n",
    "print('字符串长度',len(Z))"
   ]
  },
  {
   "cell_type": "markdown",
   "metadata": {},
   "source": [
    "- 切片 slice\n",
    "  - 从字符串序列中取出相应的元素，重新组成一个字符串序列\n",
    "\n",
    "  - 语法:\n",
    "    - 字符串[(开始索引b):(结束索引e)(:(步长s))]\n",
    "    - 注: 小括号() 括起的部分代表可以省略\n",
    "  - 语法说明：\n",
    "    - 1. 开始索引是切片切下的位置,0代表第一个元素,1代表第二个元素,-1 代表最后一个元素\n",
    "    - 2. 结束索引是切片的终止索引（但不包含终止点）\n",
    "    - 3. 步长是切片每次获取完当前元素后移动的方向和偏移量\n",
    "       - 1) 没有步长，相当于取值完毕后向右移动一个索引的位置（默认为1)\n",
    "       - 2) 当步长为正整数时，最正向切片\n",
    "       - 3) 当步长的负整数时，取反向切片,反向切片时，默认的起始位置为最后一个元素，终止位置是第一个元素的前一个位置\n",
    "  - 示例：\n",
    "        s = 'ABCDE'\n",
    "        s[2:-2]  # 'C'\n",
    "        s[:-2]   # 'ABC'\n",
    "        s[:-2:2] # 'AC'\n",
    "        s[-1:0:-1] # 'EDCB'\n",
    "        s[-1:-100:-2]  # 'ECA'\n",
    "        s[::-2]   # 'ECA'         "
   ]
  },
  {
   "cell_type": "code",
   "execution_count": 28,
   "metadata": {},
   "outputs": [
    {
     "name": "stdout",
     "output_type": "stream",
     "text": [
      "请输入一个字符串123\n",
      "2\n",
      "请输入一个字符串123321\n",
      "回文\n"
     ]
    }
   ],
   "source": [
    "# 练习：\n",
    "# 1.写一个程序,输入一个字符串，把字符串的第一个字符和最后一个字符去掉，打印出来\n",
    "s = input('请输入一个字符串')\n",
    "print(s[1:-1])\n",
    "\n",
    "\n",
    "# 2. 输入任意一个字符串，判断这个字符串是否是回文\n",
    "#     回文示例:\n",
    "#       上海自来水来自海上\n",
    "#       ABCCBA\n",
    "#     回文是指中心对称的文字\n",
    "#   提示：\n",
    "#   　　把输入的字符串反转后判断与原输入的字符串是否一致\n",
    "#   　　如果一致既为回文\n",
    "f = input('请输入一个字符串')\n",
    "if f == f[::-1]:\n",
    "    print('回文')\n",
    "else:\n",
    "    print(\"不是\")"
   ]
  },
  {
   "cell_type": "markdown",
   "metadata": {},
   "source": [
    "- python3中常用的序列函数:\n",
    "  - len(s)  返回序列的长度\n",
    "  - max(x)  返回序列的最大值的元素\n",
    "  - min(x)  返回序列的最小值的元素\n",
    "- 字符串编码转换函数\n",
    "  - ord(c)   返回一个字符的Unicode值\n",
    "  - chr(i)   返回i这个值所对应的字符\n",
    "- 示例：\n",
    "  - i = ord('魏')\n",
    "  - print(i)  # 39759\n",
    "  - c = chr(39759)\n",
    "  - print(c)  # 魏\n",
    "- 整数传换为字符串函数:\n",
    "  - hex(i)  将整数转换为 十六进制字符串\n",
    "  - oct(i)  将整数转换为 八进制字符串\n",
    "  - bin(i)  将整数转换为 二进制字符串\n",
    "\n",
    "- 字符串构造函数\n",
    "  - str(obj='')   将对象转换为字符串"
   ]
  },
  {
   "cell_type": "markdown",
   "metadata": {},
   "source": [
    "# 练习:\n",
    "      1.输入一个字符串，把输入的字符串的空格全部去掉，打印出处理后的字符串的长度和内容\n",
    "      2.用字符串*运算符打印三角形，输入一个整数，此整数代表此三角形离左侧的空格个如：\n",
    "      请输入距离：3\n",
    "      \n",
    "      3.输入三行文字，让这三行文字在一个方框内居中显示\n",
    "      （请不要输入中文）\n",
    "      如:\n",
    "        请输入第1行: hello tarena!\n",
    "        请输入第2行: my name is weimingze.\n",
    "        请输入第3行: today is sunday!\n",
    "      显示如下：\n",
    "        +-----------------------+\n",
    "        |     hello tarena!     |\n",
    "        | my name is weimingze. |\n",
    "        |   today is sunday!    |\n",
    "        +-----------------------+\n",
    "      注：max() 函数可以输入多个参数，最终返回最大的一个\n",
    "      "
   ]
  },
  {
   "cell_type": "code",
   "execution_count": 47,
   "metadata": {},
   "outputs": [
    {
     "name": "stdout",
     "output_type": "stream",
     "text": [
      "请输入字符串：fdfd dfjd dfkjsd\n",
      "fdfddfjddfkjsd\n"
     ]
    }
   ],
   "source": [
    "# 1.输入一个字符串，把输入的字符串的空格全部去掉，打印出处理后的字符串的长度和内容\n",
    "z = input('请输入字符串：')\n",
    "print(z.replace(\" \",\"\"))"
   ]
  },
  {
   "cell_type": "code",
   "execution_count": 48,
   "metadata": {},
   "outputs": [
    {
     "name": "stdout",
     "output_type": "stream",
     "text": [
      "请输入一个整数：3\n",
      "      *\n",
      "     ***\n",
      "    *****\n",
      "   *******\n"
     ]
    }
   ],
   "source": [
    "# 2.用字符串*运算符打印三角形，输入一个整数，此整数代表此三角形离左侧的空格个如：\n",
    "#       请输入距离：3\n",
    "n = int(input(\"请输入一个整数：\"))\n",
    "print(n*\" \"+\"   *\")\n",
    "print(n*\" \"+\"  ***\")\n",
    "print(n*\" \"+\" *****\")\n",
    "print(n*\" \"+\"*******\")"
   ]
  },
  {
   "cell_type": "code",
   "execution_count": 49,
   "metadata": {},
   "outputs": [
    {
     "name": "stdout",
     "output_type": "stream",
     "text": [
      "请输入第一行：hello tarena!\n",
      "请输入第二行：my name is weimingze.\n",
      "请输入第三行：today is sunday!\n",
      "+ --------------------- +\n",
      "|     hello tarena!     |\n",
      "| my name is weimingze. |\n",
      "|    today is sunday!   |\n",
      "+ --------------------- +\n"
     ]
    }
   ],
   "source": [
    "# 3.输入三行文字，让这三行文字在一个方框内居中显示\n",
    "#       （请不要输入中文）\n",
    "#       如:\n",
    "#         请输入第1行: hello tarena!\n",
    "#         请输入第2行: my name is weimingze.\n",
    "#         请输入第3行: today is sunday!\n",
    "a = input('请输入第一行：')\n",
    "b = input('请输入第二行：')\n",
    "c = input('请输入第三行：')\n",
    "s = max(len(a),len(b),len(c))\n",
    "print('+','-'*s,'+')\n",
    "print('|',a.center(s),'|')\n",
    "print('|',b.center(s),'|')\n",
    "print('|',c.center(s),'|')\n",
    "print('+','-'*s,'+')"
   ]
  },
  {
   "cell_type": "code",
   "execution_count": null,
   "metadata": {},
   "outputs": [],
   "source": []
  },
  {
   "cell_type": "code",
   "execution_count": 1,
   "metadata": {},
   "outputs": [
    {
     "data": {
      "text/plain": [
       "'d'"
      ]
     },
     "execution_count": 1,
     "metadata": {},
     "output_type": "execute_result"
    }
   ],
   "source": []
  },
  {
   "cell_type": "code",
   "execution_count": null,
   "metadata": {},
   "outputs": [],
   "source": []
  }
 ],
 "metadata": {
  "kernelspec": {
   "display_name": "Python 3",
   "language": "python",
   "name": "python3"
  },
  "language_info": {
   "codemirror_mode": {
    "name": "ipython",
    "version": 3
   },
   "file_extension": ".py",
   "mimetype": "text/x-python",
   "name": "python",
   "nbconvert_exporter": "python",
   "pygments_lexer": "ipython3",
   "version": "3.6.4"
  }
 },
 "nbformat": 4,
 "nbformat_minor": 2
}
