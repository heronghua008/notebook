{
 "cells": [
  {
   "cell_type": "markdown",
   "metadata": {},
   "source": [
    "# 比较运算符：\n",
    "    <\n",
    "    <=\n",
    "    >\n",
    "    >=\n",
    "    ==\n",
    "    !=\n",
    "- 语法：\n",
    "    - 左表达式 < 右表达式 \n",
    "- 说明：\n",
    "    - 比较运算符返回布尔型的值\n",
    "  \n",
    "# 数值对象的构造（创建）函数\n",
    "- float(obj)用字符串或数字转换为浮点数，如果不能了参数则返回0\n",
    "- int(x,base=10) 或 int(x=0)用数字或字符串转换为整数，如果不给出参数则返回0\n",
    "- complex(r=0.0,i=0.0) 用数字创建一个复数（实部r,虚部为i)\n",
    "- bool(x) 用x创建一个布尔值（Ture/False）\n",
    "- 函数调用\n",
    "  - 函数名（传参列表）\n",
    "  - 说明：函数调用是表达式，一定会返回一个对象的引用关系\n",
    "- bool(x) 返回假值的情况\n",
    "  - None 空值\n",
    "  - Fales 布尔假值\n",
    "  - 0, 0.0 0j\n"
   ]
  },
  {
   "cell_type": "code",
   "execution_count": 12,
   "metadata": {},
   "outputs": [
    {
     "data": {
      "text/plain": [
       "False"
      ]
     },
     "execution_count": 12,
     "metadata": {},
     "output_type": "execute_result"
    }
   ],
   "source": [
    "# 练习：\n",
    "# 将数字3.14用变量pi绑定\n",
    "# 将pi变量转为整数 用变量i绑定\n",
    "# 将pi变量与i变量相减，结果用变量f绑定\n",
    "# 1.判断f是否等于0.14？为什么\n",
    "# 2.删除所有的变量\n",
    "pi = 3.14\n",
    "i = int(pi)\n",
    "f = pi - i\n",
    "f == 0.14"
   ]
  },
  {
   "cell_type": "markdown",
   "metadata": {},
   "source": [
    "# 内建的数值形函数：\n",
    "- abc(x)  取x的绝对值\n",
    "- round(number[,ndigits])对数值进行四舍五入，ndigits是小娄向右取整的倍数，负数表示铅左取整\n",
    "- pow(x,y,z=None)相当于x××y 或 x××y%z\n",
    "- help()函数可查看函数帮助文档 ： help(函数名)\n",
    "- 语句 statement\n",
    "  - 语句是由一些表达式等组成，通常一条语句可以独立执行来完成一部分事情并形成结果\n",
    "  - 一条语句建议定在一行内\n",
    "  - 多条语句写在一行内需要用分号（：）分开\n",
    "  - 示例：\n",
    "    - print(\"hello\")\n",
    "    - x = 100+200\n",
    "    - print(x）\n",
    "    - #写在一起为：print(\"hello\")：x = 100+200：print(x）\n",
    "- 基本输入输出\n",
    "  - 基本输入函数input\n",
    "  - 作用：从标准输入设备上读取一个字符串，末尾的换行符会被删除\n",
    "  - 格式：\n",
    "      - input('提示字符串')\n",
    "      - 返回输入的字符串\n",
    "      - 注：“提示字符串”可以为空\n",
    "- 基本输出函数 print\n",
    "  - 作用：将一系列的值以字符串形式输出到标准输出设备上。\n",
    "  - 格式：\n",
    "      - print(value,...,sep=\" \",end=\"\\n\")\n",
    "  - 关键字参数：\n",
    "      - sep 两个值之间分隔符，默认是空格\n",
    "      - end 输入完毕后再在末尾追加一个字符串，默认为换行“\\n”\n",
    "  - 示例：\n",
    "      - print(1,2,3,4)\n",
    "      - print(1,2,3,4,sep=\"=\")\n",
    "      - print(1,2,3,4,sep=\"=\",end=\"\")"
   ]
  },
  {
   "cell_type": "code",
   "execution_count": 64,
   "metadata": {
    "scrolled": true
   },
   "outputs": [
    {
     "name": "stdout",
     "output_type": "stream",
     "text": [
      "请输入小时：14\n",
      "请输入分钟：10\n",
      "请输入秒：56\n",
      "14:10:56\n",
      "距离0：0：0过了51056秒\n"
     ]
    }
   ],
   "source": [
    "# 练习：\n",
    "# 分三次输入当前的时间：\n",
    "# 小时，分钟，秒\n",
    "# 在终端打印时间距离0：0：0过了多少秒\n",
    "s = int(input(\"请输入小时：\"))\n",
    "f = int(input(\"请输入分钟：\"))\n",
    "m = int(input(\"请输入秒：\"))\n",
    "print(s,f,m,sep=\":\")\n",
    "print(\"距离0：0：0过了\",s*3600+f*60+m,\"秒\",sep=\"\")"
   ]
  },
  {
   "cell_type": "code",
   "execution_count": 66,
   "metadata": {},
   "outputs": [
    {
     "name": "stdout",
     "output_type": "stream",
     "text": [
      "请输入整数x：5\n",
      "请输入整数y：6\n",
      "5 6 的和 11\n",
      "5 6 的积 30\n",
      "5 6 的次方 15625\n"
     ]
    }
   ],
   "source": [
    "x = int(input(\"请输入整数x：\"))\n",
    "y = int(input(\"请输入整数y：\"))\n",
    "print(x,y,\"的和\",x+y)\n",
    "print(x,y,\"的积\",x*y)\n",
    "print(x,y,\"的次方\",x**y)"
   ]
  },
  {
   "cell_type": "markdown",
   "metadata": {},
   "source": [
    "# if 语句\n",
    "- 作用：让程序根据条件选择性的执行某条语句或某些语句\n",
    "- 语法：\n",
    "  - if 真值表达式1：\n",
    "      语句块1...\n",
    "  - elif 真值表达式2：\n",
    "      语句块2\n",
    "  - elif 真值表达式3：\n",
    "      语句块3\n",
    "  - ...\n",
    "  - else:\n",
    "      语句块4\n",
    "- 说明：\n",
    "  - eilf 子句也有一个或多个，也可以没有\n",
    "  - else 子句最多只能有一个，也可以没有"
   ]
  },
  {
   "cell_type": "code",
   "execution_count": 67,
   "metadata": {},
   "outputs": [
    {
     "name": "stdout",
     "output_type": "stream",
     "text": [
      "请输入一个整数：6\n",
      "你输入的是偶数\n"
     ]
    }
   ],
   "source": [
    "# 示例：\n",
    "# 让用户输入一个整数，让程序打印出用户输入的数是奇数还是偶数\n",
    "num = int(input(\"请输入一个整数：\"))\n",
    "if num % 2 == 0:\n",
    "    print(\"你输入的是偶数\")\n",
    "else:\n",
    "    print(\"你输入的是奇数\")"
   ]
  },
  {
   "cell_type": "code",
   "execution_count": 70,
   "metadata": {},
   "outputs": [
    {
     "name": "stdout",
     "output_type": "stream",
     "text": [
      "请输入一个整数：589\n",
      "这个数不在0～100之间\n"
     ]
    }
   ],
   "source": [
    "# 练习：\n",
    "# 输入一个整数，判断这个数是否在0～100之间\n",
    "num = int(input(\"请输入一个整数：\"))\n",
    "if 0 <= num <= 100:\n",
    "    print(\"这个数在0～100之间\")\n",
    "else:\n",
    "    print(\"这个数不在0～100之间\")"
   ]
  },
  {
   "cell_type": "code",
   "execution_count": 71,
   "metadata": {},
   "outputs": [
    {
     "name": "stdout",
     "output_type": "stream",
     "text": [
      "请输入一个整数：100\n",
      "正数\n"
     ]
    }
   ],
   "source": [
    "# 示例：\n",
    "# 此示例示意if_elif_else组合使用\n",
    "n = int(input(\"请输入一个整数：\"))\n",
    "if n > 0:\n",
    "    print(\"正数\")\n",
    "elif n == 0:\n",
    "    print(\"零\")\n",
    "else:\n",
    "    print(\"负数\")"
   ]
  },
  {
   "cell_type": "code",
   "execution_count": null,
   "metadata": {},
   "outputs": [],
   "source": [
    "# 练习：\n",
    "# 1.输入一个季度，这个季度有哪几个月，如果用户输出其他的数，提示您输错\n",
    "n = int(input(\"请输入季度：\"))\n",
    "if n == 1:\n",
    "    print(\"一，二，三月\")\n",
    "elif n == 2:\n",
    "    print(\"四，五，六月\")\n",
    "elif n == 3:\n",
    "    print(\"七，八，九月\")\n",
    "elif n == 4:\n",
    "    print(\"十，十一，十二月\")\n",
    "else:\n",
    "    print(\"您输入错误\")"
   ]
  },
  {
   "cell_type": "code",
   "execution_count": 72,
   "metadata": {},
   "outputs": [
    {
     "name": "stdout",
     "output_type": "stream",
     "text": [
      "请输入月份：5\n",
      "春\n"
     ]
    }
   ],
   "source": [
    "# 2.输入一年中的月份1-12,输出这个朋是哪个季度，如果用户输出其他的数，提示您输错\n",
    "n = int(input(\"请输入月份：\"))\n",
    "if 1 <= n <= 3:\n",
    "    print(\"冬\")\n",
    "elif 4 <= n <= 6:\n",
    "    print(\"春\")\n",
    "elif 7 <= n <= 9:\n",
    "    print(\"夏\")\n",
    "elif 10 <= n <= 12:\n",
    "    print(\"秋\")\n",
    "else:\n",
    "    print(\"您输入错误\")"
   ]
  },
  {
   "cell_type": "markdown",
   "metadata": {},
   "source": [
    "\n",
    "\n"
   ]
  },
  {
   "cell_type": "markdown",
   "metadata": {},
   "source": [
    "- if 语句嵌套：\n",
    "  - if 语句可以作语句嵌套到另一个语句的内部 \n",
    "- 条件表达式\n",
    "  - 语法：表达式1 if 真值表达式 else 表达式2\n",
    "  - 作用：根据真值表达式的取值(Ture/False),来决定执行表达式2,并返回相应的结果"
   ]
  },
  {
   "cell_type": "code",
   "execution_count": 1,
   "metadata": {},
   "outputs": [
    {
     "name": "stdout",
     "output_type": "stream",
     "text": [
      "请输入学生厅成绩：52\n",
      "成绩合法\n",
      "不及格\n"
     ]
    }
   ],
   "source": [
    "# 示例：\n",
    "# 输入一个学生的成绩：根据等级打印出优，良，及格，不及格\n",
    "score = int(input('请输入学生厅成绩：'))\n",
    "if 0 <= score <= 100:\n",
    "    print('成绩合法')\n",
    "    if score >= 90:\n",
    "        print(\"优\")\n",
    "    elif score >= 80:\n",
    "        print(\"良\")\n",
    "    elif score >= 60:\n",
    "        print(\"及格\")\n",
    "    else:\n",
    "        print(\"不及格\")\n",
    "else:\n",
    "    print(\"您输入错误！\")"
   ]
  },
  {
   "cell_type": "code",
   "execution_count": 12,
   "metadata": {},
   "outputs": [
    {
     "name": "stdout",
     "output_type": "stream",
     "text": [
      "请输入一个数：-0.2\n",
      "0.2\n"
     ]
    }
   ],
   "source": [
    "# 练习\n",
    "# 写一个程序输入一个数，用if语句计算这个数的绝对值，并打印出结果\n",
    "num = float(input(\"请输入一个数：\"))\n",
    "if num < 0:\n",
    "    num = -num\n",
    "    print(num)\n",
    "else:\n",
    "    print(num)"
   ]
  },
  {
   "cell_type": "code",
   "execution_count": 14,
   "metadata": {},
   "outputs": [
    {
     "name": "stdout",
     "output_type": "stream",
     "text": [
      "输入商品的总额：120\n",
      "100\n"
     ]
    }
   ],
   "source": [
    "# 示例：\n",
    "# 此示例示意条件表达式的用法\n",
    "# 商场促销，満100减20\n",
    "money = int(input('输入商品的总额：'))\n",
    "pay = money - 20 if money >= 100 else money\n",
    "print(pay)"
   ]
  },
  {
   "cell_type": "code",
   "execution_count": 22,
   "metadata": {},
   "outputs": [
    {
     "name": "stdout",
     "output_type": "stream",
     "text": [
      "请输入一个数：-6\n",
      "-6.0 的绝对值 6.0\n"
     ]
    }
   ],
   "source": [
    "# 练习\n",
    "# 写个程序输入一个数用条件表达式计算这个数的绝对值并打印结果 \n",
    "num = float(input(\"请输入一个数：\"))\n",
    "n = -num if num<0 else num\n",
    "print(num,'的绝对值',n)"
   ]
  },
  {
   "cell_type": "markdown",
   "metadata": {},
   "source": [
    "# pass 语句\n",
    "- 作用：通常用来填充语法空白\n",
    "- 语法：pass"
   ]
  },
  {
   "cell_type": "code",
   "execution_count": 24,
   "metadata": {},
   "outputs": [
    {
     "name": "stdout",
     "output_type": "stream",
     "text": [
      "请输入学生成绩：25\n"
     ]
    }
   ],
   "source": [
    "# 示例：\n",
    "# 输入学生成绩，如果不在0～100范围内，则提示您输入错误\n",
    "score = int(input('请输入学生成绩：'))\n",
    "if 0 <= score <= 100:\n",
    "    pass\n",
    "else:\n",
    "    print('你输入错误')"
   ]
  },
  {
   "cell_type": "markdown",
   "metadata": {},
   "source": [
    "# 布尔运算\n",
    "- 运算符（三个）：\n",
    "  - not    and    or\n",
    "- 布尔非操作：\n",
    "  - 语法：\n",
    "      not x\n",
    "  - 作用：\n",
    "      对x进行布尔取非，如bool(x)\n",
    "      为True 则返回Flase,否则返回True\n",
    "  - 示例：\n",
    "      - money = 103\n",
    "      - if not money >= 100:\n",
    "            pay = money\n",
    "      - else:\n",
    "            pay = money-20\n",
    "      - print(pay)\n",
    "- 布尔与操作：and\n",
    "  - 语法: x and y   \n",
    "  - 作用：优先返回假值对象\n",
    "- 布尔或操作：or\n",
    "  - 语法：x or y\n",
    "  - 作用：优先返回真值对象  "
   ]
  },
  {
   "cell_type": "code",
   "execution_count": 35,
   "metadata": {},
   "outputs": [
    {
     "name": "stdout",
     "output_type": "stream",
     "text": [
      "请输入学生成绩：5\n"
     ]
    }
   ],
   "source": [
    "#  示例：\n",
    "# 输入学生成绩，如果不在0～100范围内，则提示您输入错误\n",
    "score = int(input('请输入学生成绩：'))\n",
    "if score<0 or score> 100:\n",
    "    print('你输入的有误')"
   ]
  },
  {
   "cell_type": "markdown",
   "metadata": {},
   "source": [
    "# 正负号运算符\n",
    "- +（正号）\n",
    "- — (负号)\n",
    "- 一元运算符\n",
    "- 语法:\n",
    "    + 表达式\n",
    "    - 表达式\n",
    "- 示例:\n",
    "   - a = 5\n",
    "   - b = -a  # b = -5\n",
    "   - c = +a  # c = 5\n",
    "   - c2 = (2-3j)\n",
    "   - c3 = -c2  # c3 = (-2+3j) "
   ]
  },
  {
   "cell_type": "code",
   "execution_count": 64,
   "metadata": {},
   "outputs": [
    {
     "name": "stdout",
     "output_type": "stream",
     "text": [
      "请输入公里:16\n",
      "16.0 公里 44.05 元\n"
     ]
    }
   ],
   "source": [
    "# 练习：\n",
    "# 1.北京出租车计价算法：\n",
    "# 收费标准：\n",
    "#     3公里以内收费13元\n",
    "#     超过3公里的部分，基本单价2.3元/公里\n",
    "#     空驶费：超过15公里后，每公里加收单价的50%作为空驶费（即3.45元/公里）\n",
    "# 要求：输入公里数，打印出费用金额（以元为单位四舍五入）\n",
    "l = float(input(\"请输入公里:\"))\n",
    "if 0<l<=15:\n",
    "    if l<=3:\n",
    "        print(l,'公里',13,'元')\n",
    "    elif 3<l<=15:\n",
    "        print(l,'公里',round(13+(l-3)*2.3,2),'元')\n",
    "else:\n",
    "    print(l,'公里',round(13+(15-3)*2.3+(l-15)*3.45,2),'元')\n"
   ]
  },
  {
   "cell_type": "code",
   "execution_count": 69,
   "metadata": {},
   "outputs": [
    {
     "name": "stdout",
     "output_type": "stream",
     "text": [
      "请输入分数：56\n",
      "请输入分数：48\n",
      "请输入分数：58\n",
      "最高分 58\n",
      "最低分 48\n",
      "平均分 54.0\n"
     ]
    }
   ],
   "source": [
    "# 2.输入一个学生的三科成绩：\n",
    "#     打印出最高分数是多少？\n",
    "#     打印出最低分数是多少？\n",
    "#     打印出平均分是多少？\n",
    "# 方法1\n",
    "# a = int(input('请输入分数：'))\n",
    "# b = int(input('请输入分数：'))\n",
    "# c = int(input('请输入分数：'))\n",
    "# d = max(a,b,c)\n",
    "# f = min(a,b,c)\n",
    "# F = (a+b+c)/3\n",
    "# print('最高分',d)\n",
    "# print('最低分',f)\n",
    "# print('平均分',F)\n",
    "# 方法2\n",
    "a = int(input('请输入分数：'))\n",
    "b = int(input('请输入分数：'))\n",
    "c = int(input('请输入分数：'))\n",
    "amin = a if a<b else b\n",
    "amax = a if a>b else b\n",
    "amin = c if c<amin else amin\n",
    "amax = c if c>amax else amax\n",
    "F = (a+b+c)/3\n",
    "print('最高分',amax)\n",
    "print('最低分',amin)\n",
    "print('平均分',F)"
   ]
  },
  {
   "cell_type": "code",
   "execution_count": 68,
   "metadata": {},
   "outputs": [
    {
     "name": "stdout",
     "output_type": "stream",
     "text": [
      "请输入年份:2400\n",
      "闰年\n"
     ]
    }
   ],
   "source": [
    "# 3.给出一个年份，判断是否为闰年并打印结果，每四年一个闰年，每百年不闰，四百年又为闰年\n",
    "# 即 2016年闰年，2100年非闰年，2400的闰年\n",
    "year = int(input(\"请输入年份:\"))\n",
    "if year%4 == 0 and year % 100 != 0 or year%400==0:\n",
    "    print('闰年')\n",
    "else:\n",
    "    print('普通年')"
   ]
  },
  {
   "cell_type": "code",
   "execution_count": 65,
   "metadata": {},
   "outputs": [
    {
     "name": "stdout",
     "output_type": "stream",
     "text": [
      "请输入身高(米)：1.81\n",
      "请输入体重（公斤）：80\n",
      "BMI的值 24.42\n",
      "体重过重\n"
     ]
    }
   ],
   "source": [
    "# 4.BMI指数(Body Mass Index)又称身高体重指数BMI公式：BMI = 体重(公斤)/身高(米)的平方\n",
    "# 标准表：\n",
    "#     BMI < 18.5 体重过轻\n",
    "#     18.5<=BMI<=24 正常范围\n",
    "#     BMI>24 体重过重\n",
    "#     输入身高，打印BMI值，并打印体重状况\n",
    "s = float(input('请输入身高(米)：'))\n",
    "t = float(input('请输入体重（公斤）：'))\n",
    "b = round(t/s**2,2)\n",
    "print('BMI的值',b)\n",
    "if b < 18.5:\n",
    "    print(\"体重过轻\")\n",
    "elif 18.5<=b<=24:\n",
    "    print('正常范围')\n",
    "elif b>24:\n",
    "    print('体重过重')\n",
    "else:\n",
    "    print('你输入错误')"
   ]
  },
  {
   "cell_type": "code",
   "execution_count": 45,
   "metadata": {},
   "outputs": [
    {
     "data": {
      "text/plain": [
       "27.599999999999998"
      ]
     },
     "execution_count": 45,
     "metadata": {},
     "output_type": "execute_result"
    }
   ],
   "source": []
  }
 ],
 "metadata": {
  "kernelspec": {
   "display_name": "Python 3",
   "language": "python",
   "name": "python3"
  },
  "language_info": {
   "codemirror_mode": {
    "name": "ipython",
    "version": 3
   },
   "file_extension": ".py",
   "mimetype": "text/x-python",
   "name": "python",
   "nbconvert_exporter": "python",
   "pygments_lexer": "ipython3",
   "version": "3.6.4"
  }
 },
 "nbformat": 4,
 "nbformat_minor": 2
}
