{
 "cells": [
  {
   "cell_type": "markdown",
   "metadata": {},
   "source": [
    "# 迭代器 Iterator\n",
    "- 迭代器是访问可迭代对象的工具（对象）\n",
    "- 什么是迭代器\n",
    "  - 迭代器是指用iter(obj)函数返回的对象（实例）\n",
    "  - 迭代器可以用next(it)函数获取可迭代对象的数据\n",
    "- 迭代器相关函数\n",
    "  - iter(iterable)从可迭代对象中返回一个迭代器，\n",
    "  - iterable 必须是一个能提供一个迭代器的对象\n",
    "  - next(iterable)从迭代器iterator中获取下一个记录，如果无法获取下一条记录，则触发StopIteration异常通知\n",
    "- 说明：\n",
    "    迭代器只能往前取值，不能后退\n",
    "- 示例：\n",
    "  - L = [2,3,4,5]\n",
    "  - it = iter(L)\n",
    "  - next(it)\n",
    "  - it = iter(L)\n",
    "  - next(it)    # 2\n",
    "  - next(it)    # 3\n",
    "  - next(it)    # 4\n",
    "  - next(it)    # 5\n",
    "  - next(it)    # StopIteration\n",
    "  - 详见:\n",
    "    iterator.py\n",
    "- 用while语句遍历列表L中的全部元素"
   ]
  },
  {
   "cell_type": "code",
   "execution_count": 15,
   "metadata": {},
   "outputs": [
    {
     "name": "stdout",
     "output_type": "stream",
     "text": [
      "2 3 5 7 \n",
      "- --------------------\n",
      "2 3 5 7 "
     ]
    }
   ],
   "source": [
    "# iterator.py此示例示意用while语句和迭代器访问列表\n",
    "L = [2,3,5,7]\n",
    "it = iter(L)  # 先拿到用于访问L的迭代器\n",
    "while True:\n",
    "    try:\n",
    "        x = next(it)\n",
    "        print(x,end=\" \")\n",
    "    except StopIteration:\n",
    "        break\n",
    "print('\\n-',\"-\"*20)\n",
    "for i in L:\n",
    "    print(i,end=\" \")"
   ]
  },
  {
   "cell_type": "markdown",
   "metadata": {},
   "source": [
    "# 生成器 Generator (python 2.5 及之后)\n",
    "- 什么是生成器\n",
    "  - 生成器是能够动态提供数据的对象，生成器对象也是可迭代对象\n",
    "- 生成器有两种：\n",
    "  - 生成器函数\n",
    "  - 生成器表达式\n",
    "- 生成器函数定义\n",
    "  - 含有 yield 语句的函数是生成器函数，此函数被调用时将返回 一个生成器对象\n",
    "  - 注: yield 翻译为产生（或生成)\n",
    "- yield 语句\n",
    "  - 语法:\n",
    "    - yield 表达式\n",
    "  - 说明:\n",
    "      - yield用于def函数中，目的是将此函数作为生成器函数使用\n",
    "      - yield用来生成数据，供迭代器 next(it) 函数使用\n",
    "  - 示例见:\n",
    "  yield.py\n",
    "- 生成器的函数说明:\n",
    "  1. 生成器函数的调用将返回一个生成器对象，生成器对象是可迭代对象\n",
    "  2. 生成器函数调用return会触发一个StopIterantion异常\n",
    "- 示例见：\n",
    "   myinteger.py"
   ]
  },
  {
   "cell_type": "code",
   "execution_count": 2,
   "metadata": {},
   "outputs": [
    {
     "name": "stdout",
     "output_type": "stream",
     "text": [
      "即将生成 0\n",
      "0\n",
      "即将生成 1\n",
      "1\n",
      "即将生成 2\n",
      "2\n",
      "即将生成 3\n",
      "3\n"
     ]
    }
   ],
   "source": [
    "# myinteger.py此示例示意用生成函数生成一系列从0开始的整数\n",
    "def myinteger(n):\n",
    "    i = 0\n",
    "    while i < n:\n",
    "        print('即将生成',i)\n",
    "        yield i\n",
    "        i += 1\n",
    "for x in myinteger(4):\n",
    "    print(x)"
   ]
  },
  {
   "cell_type": "markdown",
   "metadata": {},
   "source": [
    "# 生成器表达式：\n",
    "- 语法：\n",
    "  - （表达式 for 变量 in 可迭代对象 if 真值表达式）\n",
    "- 说明\n",
    "  - 用推导式的形式生成一个新的生成器\n",
    "- 示例\n",
    "  - gen = (x**2 for x in range(1,5))\n",
    "  - it = iter(gen)\n",
    "  - next(it)\n",
    "  - next(it)\n",
    "  - next(it)\n",
    "  - next(it)\n",
    "  - next(it)　　# StopIteration\n",
    "- 看程序执行结果有什么不同："
   ]
  },
  {
   "cell_type": "code",
   "execution_count": 16,
   "metadata": {},
   "outputs": [
    {
     "name": "stdout",
     "output_type": "stream",
     "text": [
      "3\n",
      "4\n"
     ]
    }
   ],
   "source": [
    "# 程序1\n",
    "L = [2,3,5,7]\n",
    "lst = [x+1 for x in L]\n",
    "it = iter(lst)\n",
    "print(next(it)) \n",
    "L[1] = 30\n",
    "print(next(it)) \n",
    "# 程序2\n",
    "# L = [2,3,5,7]\n",
    "# lst = (x+1 for x in L)\n",
    "# it = iter(lst)\n",
    "# print(next(it)) # 3\n",
    "# L[1] = 30\n",
    "# print(next(it)) # 31"
   ]
  },
  {
   "cell_type": "markdown",
   "metadata": {},
   "source": [
    "- 迭代工具函数：\n",
    "  - 作用：\n",
    "    - 生成一个个性化的可迭代对象\n",
    "- 函数名 ------------------------------------------------------函数说明--------------------------------\n",
    "- zip(iter1 ,iter2, iter3,...)   返回一个zip对象，此对象用于生成一个元组，此元组的中的元素分别由iter1,iter2可迭代对象中的元组构成\n",
    "- enumerate(iterable,start=0)    生成带索引的枚举对象，返回迭代类型为索引-值对(index,value)对, 默认索引从零开始,也可以使用start绑定"
   ]
  },
  {
   "cell_type": "code",
   "execution_count": 11,
   "metadata": {},
   "outputs": [
    {
     "name": "stdout",
     "output_type": "stream",
     "text": [
      "中国移动 的客服号码是: 10086\n",
      "中国电信 的客服号码是: 10000\n",
      "中国联通 的客服号码是: 10010\n",
      "(10086, '中国移动')\n",
      "(10000, '中国电信')\n",
      "(10010, '中国联通')\n",
      "{10086: '中国移动', 10000: '中国电信', 10010: '中国联通'}\n",
      "(0, 10086, '中国移动')\n",
      "(1, 10000, '中国电信')\n",
      "(2, 10010, '中国联通')\n"
     ]
    }
   ],
   "source": [
    "#  示例：\n",
    "numbers = [10086, 10000, 10010, 95588]\n",
    "names = ['中国移动', '中国电信', '中国联通']\n",
    "for n, a in zip(numbers, names):  # 等同于序列赋值\n",
    "    print(a, '的客服号码是:', n)\n",
    "    \n",
    "for x in zip(numbers, names):\n",
    "    print(x)\n",
    "# 以下用zip函数生成一个字典\n",
    "d = dict(zip(numbers,names))  # {10086: '中国移动', 10000: '中国电信', 10010: '中国联通'}\n",
    "print(d)\n",
    "for x in zip(range(10), numbers, names):\n",
    "      print(x)"
   ]
  },
  {
   "cell_type": "markdown",
   "metadata": {},
   "source": [
    "- enumerate函数(枚举函数)\n",
    "- 格式\n",
    " - enumerate(iterable[,start])"
   ]
  },
  {
   "cell_type": "code",
   "execution_count": null,
   "metadata": {},
   "outputs": [],
   "source": [
    "# 示例:\n",
    "names = ['中国移动', '中国电信', '中国联通']\n",
    "for x in enumerate(names):\n",
    "    print(x)  # (0, '中国移动'), (1, '中国电信').\n",
    "\n",
    "for x in enumerate(names, start=100):\n",
    "    print(x)  # (100, '中国移动'), (101, '中国电信'), (102, '中国联通')"
   ]
  },
  {
   "cell_type": "markdown",
   "metadata": {},
   "source": [
    "# 字节串 bytes (也叫字节序列)\n",
    "- 作用:\n",
    "  - 存储以字节单位的数据\n",
    "- 说明:\n",
    "  - 字节串是不可变的字节序列\n",
    "  - 字节是0~255的整数\n",
    "- 创建空字节串的字面值\n",
    "      b = b ''      b 绑定空字节串\n",
    "      b = b \"\"      b 绑定空字节串\n",
    "      b = b \"\"\"\"\"    b 绑定空字节串\n",
    "      b = b ''''''   b 绑定空字节串\n",
    "- 创建非空字节串的字面值\n",
    "      b'ABCD'\n",
    "      b'\\x41\\x42'\n",
    "      b'hello tarena'\n",
    "- 字节串的构造函数 bytes\n",
    "      bytes()  生成一个空的字节串 等同于 b''\n",
    "      bytes(整型可迭代对象)  用可迭代对象初始化一个字节串\n",
    "      bytes(整数n)  生成n个值为零的字节串\n",
    "      bytes(字符串, encoding='utf-8') 用字符串的转换编码生成一个字节串 \n",
    "- 例:\n",
    "      b = bytes()\n",
    "      b = bytes(range(0,255)\n",
    "      b = bytes(10)\n",
    "      b = bytes('你好','utf-8')\n",
    "- 字节串的运算\n",
    "       + +=  *  *=\n",
    "       < <= > >= == !=\n",
    "       in / not in\n",
    "       索引/切片\n",
    "\n",
    "- 用于序列函数:\n",
    "       len(x), max(x), min(x), sum(x), all(x), any(x)\n",
    "- bytes 与 str的区别:\n",
    "  - bytes 存储字节(0-255)\n",
    "  - str  存储Unicode字符(0-65535)\n",
    "- bytes 与 str 转换\n",
    "            编码(encode)\n",
    "       str    ------>   bytes\n",
    "            b = s.encode('utf-8')\n",
    "            解码(decode)\n",
    "       bytes  ------>   str\n",
    "            s = b.decode('utf-8')"
   ]
  },
  {
   "cell_type": "markdown",
   "metadata": {},
   "source": [
    "# 字节数组 bytearray\n",
    "- 可变的字节序列\n",
    "- 创建字节数组的构造函数:\n",
    "       bytearray() 创建空的字节数组\n",
    "       bytearray(整数)\n",
    "       bytearray(整型可迭代对象)\n",
    "       bytearray(字符串,encoding='utf-8')\n",
    "           注: 以上参数等同于字节串\n",
    "- 字节数组的运算:\n",
    "      +  +=  *  *= \n",
    "      比较运算:  <  <= > >= == !=\n",
    "      in / not in \n",
    "      索引　/ 切片(字节数组支持索引和切片赋值，规则与列表相同)\n",
    "- bytearray的方法:\n",
    "  - B.clear()  清空字节数组\n",
    "  - B.append(n)  追加一个字节(n为0-255的整数)\n",
    "  - B.remove(value)  删除第一个出现的字节，如果没有出现，则产生ValueError错误\n",
    "  - B.reverse()  字节的顺序进行反转\n",
    "  - B.decode(encoding='utf-8')  # 解码\n",
    "  - B.find(sub[, start[, end]])  查找"
   ]
  },
  {
   "cell_type": "code",
   "execution_count": 17,
   "metadata": {},
   "outputs": [
    {
     "name": "stdout",
     "output_type": "stream",
     "text": [
      "请输入: her\n",
      "请输入: dkflks\n",
      "请输入: dfjk\n",
      "请输入: \n",
      "第1行: her\n",
      "第2行: dkflks\n",
      "第3行: dfjk\n"
     ]
    }
   ],
   "source": [
    "# 练习:\n",
    "#   写一个程序，读入任意行文字，当输入空行时结束输入\n",
    "#     打印带有行号的输入结果\n",
    "#       如:\n",
    "#         请输入:hello\n",
    "#         请输入:world\n",
    "#         请输入:python\n",
    "#         请输入:<回车>\n",
    "#       输入如下:\n",
    "#         第1行: hello\n",
    "#         第2行: world\n",
    "#         第3行: python\n",
    "\n",
    "def read_lines():\n",
    "    '''此函数读取用户输入的信息'''\n",
    "    L = []\n",
    "    while True:\n",
    "        s = input(\"请输入: \")\n",
    "        if not s:\n",
    "            break\n",
    "        L.append(s)\n",
    "    return L\n",
    "\n",
    "\n",
    "# def print_lines(L):\n",
    "#     '''打印带有行号的文字信息'''\n",
    "#     for t in enumerate(L, 1):\n",
    "#         print(\"第%d行: %s\" % t)\n",
    "\n",
    "def print_lines(L):\n",
    "    '''打印带有行号的文字信息'''\n",
    "    i = 1\n",
    "    for text in L:\n",
    "        print(\"第%d行: %s\" % (i, text))\n",
    "        i += 1\n",
    "\n",
    "\n",
    "if __name__ == '__main__':\n",
    "    lines = read_lines()\n",
    "    # print(lines)\n",
    "    print_lines(lines)\n"
   ]
  },
  {
   "cell_type": "code",
   "execution_count": null,
   "metadata": {},
   "outputs": [],
   "source": [
    "'''练习:\n",
    "  1. 写一个生成器函数myodd(x) 来生成一系列奇数\n",
    "    如:\n",
    "      myodd(10) 可以生成1, 3, 5, 7, 9'''\n"
   ]
  },
  {
   "cell_type": "code",
   "execution_count": null,
   "metadata": {},
   "outputs": [],
   "source": [
    "'''2. 写一个生成器函数primes(n) 来成生成n以内的所有素数\n",
    "     1) 打印100 以内的全部素数\n",
    "     2) 打印100 以内的全部素数的和'''"
   ]
  },
  {
   "cell_type": "code",
   "execution_count": null,
   "metadata": {},
   "outputs": [],
   "source": [
    "'''  3. 写一个生成器函数 myrange([start, ]stop[, step]) 来生成一系列整数\n",
    "     要求:\n",
    "       myrange功能与range功能完全相同\n",
    "       不允许调用range(函数)\n",
    "     用自己写的myrange结合生器表达式求1~10内奇数的平方和'''"
   ]
  }
 ],
 "metadata": {
  "kernelspec": {
   "display_name": "Python 3",
   "language": "python",
   "name": "python3"
  },
  "language_info": {
   "codemirror_mode": {
    "name": "ipython",
    "version": 3
   },
   "file_extension": ".py",
   "mimetype": "text/x-python",
   "name": "python",
   "nbconvert_exporter": "python",
   "pygments_lexer": "ipython3",
   "version": "3.6.4"
  }
 },
 "nbformat": 4,
 "nbformat_minor": 2
}
