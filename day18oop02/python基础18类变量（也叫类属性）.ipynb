{
 "cells": [
  {
   "cell_type": "markdown",
   "metadata": {},
   "source": [
    "# 类变量 class variable(也叫类属性)\n",
    "  - 类变量是类的属性,此属性属于类\n",
    "\n",
    "  - 作用:\n",
    "    - 用来记录类相关的数据\n",
    "\n",
    "  - 说明:\n",
    "    - 类变量可以通过类直接访问\n",
    "    - 类变量可以通过类的实例直接访问\n",
    "    - 类变量可以通过此类的实例的__class__属性间接访问\n",
    "  - 类变量的应用案例:\n",
    "    - 用类变量来记录对象的个数"
   ]
  },
  {
   "cell_type": "code",
   "execution_count": 20,
   "metadata": {},
   "outputs": [
    {
     "name": "stdout",
     "output_type": "stream",
     "text": [
      "Human的类变量count= 0\n",
      "100\n",
      "Human的类变量count= 0\n",
      "用h1对象访问Human的count变量 0\n",
      "100\n",
      "0\n",
      "h1.count= 101\n",
      "Human.count= 101\n",
      "1992850016\n",
      "1992850016\n"
     ]
    }
   ],
   "source": [
    "# 01_class_variable.py\n",
    "\n",
    "\n",
    "# 此示例示意类变量的定义和使用\n",
    "class Human:\n",
    "    count = 0 # 创建一个类变量\n",
    "    def __init__(self,n):\n",
    "        self.name = n\n",
    "\n",
    "print(\"Human的类变量count=\", Human.count)  # 0\n",
    "Human.count = 100\n",
    "print(Human.count)  # 100\n",
    "\n",
    "# 02_class_variable.py\n",
    "\n",
    "\n",
    "# 此示例示意Human类的实例可以访问count类变量\n",
    "class Human:\n",
    "    count = 0  # 创建一个类变量\n",
    "\n",
    "print(\"Human的类变量count=\", Human.count)  # 0\n",
    "h1 = Human()\n",
    "print(\"用h1对象访问Human的count变量\", h1.count)  # 0\n",
    "h1.count = 100\n",
    "print(h1.count)  # 100\n",
    "print(Human.count) # 0\n",
    "\n",
    "h1.__class__.count += 1\n",
    "h1.count += 1\n",
    "Human.count += 100\n",
    "print(\"h1.count=\", h1.count)  # 100\n",
    "print('Human.count=', Human.count)  # 1\n",
    "print(id(h1.__class__.count))\n",
    "print(id(Human.count))"
   ]
  },
  {
   "cell_type": "code",
   "execution_count": 34,
   "metadata": {},
   "outputs": [
    {
     "name": "stdout",
     "output_type": "stream",
     "text": [
      "当前汽车总数是: 0\n",
      "BYD 京A.88888 被创建\n",
      "1\n",
      "TESLA 京B.00000 被创建\n",
      "Audi, 京C.66666 被创建\n",
      "Audi, 京C.66666 被销毁\n",
      "当前汽车总数是: 3\n",
      "BYD 京A.88888 被销毁\n",
      "TESLA 京B.00000 被销毁\n",
      "当前汽车数是: 1\n"
     ]
    }
   ],
   "source": [
    "# 03_car_count.py\n",
    "\n",
    "\n",
    "# 此示例示意用类变量来记录对象的个数\n",
    "class Car:\n",
    "    count = 0  # 创建类变量, 用来记录汽车对象的总数\n",
    "    def __init__(self, info):\n",
    "        print(info, \"被创建\")\n",
    "        self.data = info  # 记录传入数据\n",
    "        self.__class__.count += 1  # 让车的总数加1\n",
    "\n",
    "    def __del__(self):\n",
    "        print(self.data, '被销毁')\n",
    "#         当车被销毁时总数自动减\n",
    "        self.__class__.count -= 1  \n",
    "\n",
    "print('当前汽车总数是:', Car.count)\n",
    "b1 = Car(\"BYD 京A.88888\")\n",
    "print(Car.count)\n",
    "b2 = Car('TESLA 京B.00000')\n",
    "b3 = Car('Audi, 京C.66666')\n",
    "print('当前汽车总数是:', Car.count)\n",
    "del b1\n",
    "del b2\n",
    "print(\"当前汽车数是:\", Car.count)"
   ]
  },
  {
   "cell_type": "markdown",
   "metadata": {},
   "source": [
    "- 类的文档字符串:\n",
    "  - 类内第一个没有赋值给任何变量的字符串是类的文档字符串\n",
    "\n",
    "- 说明:\n",
    "  - 类的文档字符串用类的__doc__属性可以访问\n",
    "  - 类的文档字符串可以用help()函数查看"
   ]
  },
  {
   "cell_type": "code",
   "execution_count": 7,
   "metadata": {},
   "outputs": [
    {
     "name": "stdout",
     "output_type": "stream",
     "text": [
      "No Python documentation found for '车的run方法'.\n",
      "Use help() to get the interactive help utility.\n",
      "Use help(str) for help on the str class.\n",
      "\n"
     ]
    }
   ],
   "source": [
    "# classdoc.py\n",
    "\n",
    "\n",
    "'''这是模块的标题\n",
    "\n",
    "此模块示意类的文档字符串\n",
    "'''\n",
    "class Car:\n",
    "    '''此类用来描述车的对象的行为\n",
    "    这是Car类的文档字符串'''\n",
    "    def run(self, speed):\n",
    "        '''车的run方法'''\n",
    "        pass\n",
    "help(Car.run.__doc__)"
   ]
  },
  {
   "cell_type": "markdown",
   "metadata": {},
   "source": [
    "- 类的\\__slots\\__列表\n",
    " - 作用:\n",
    "   - 限定一个类的实例只能有固定的属性(实例变量)\n",
    "   - 通常为防止错写属性名而发生运行时错误\n",
    " - 说明:\n",
    "   - 含有\\__slots\\__列表的类创建的实例对象没有\\__dict\\__属性,即此实例不用字典来保存对象的属性(实例变量)"
   ]
  },
  {
   "cell_type": "code",
   "execution_count": 19,
   "metadata": {},
   "outputs": [
    {
     "name": "stdout",
     "output_type": "stream",
     "text": [
      "58\n",
      "['name', 'score']\n",
      "12\n"
     ]
    }
   ],
   "source": [
    "# 04_slots.py\n",
    "\n",
    "\n",
    "# 此示例示意 类的变量 __slots__列表的作用\n",
    "class Student:\n",
    "    __slots__ = ['name', 'score']\n",
    "    def __init__(self, name, score):\n",
    "        self.name = name\n",
    "        self.score = score\n",
    "\n",
    "s1 = Student('小张', 58)\n",
    "print(s1.score)\n",
    "# s1.socre = 100  # 此处错写了属性名,但在运行时不会报错!\n",
    "s1.score = 12\n",
    "print(s1.__slots__)\n",
    "print(s1.score)  # 请问打印的值是多少?"
   ]
  },
  {
   "cell_type": "markdown",
   "metadata": {},
   "source": [
    "- 类方法 @classmethod\n",
    "  - 类方法是描述类的行为的方法,类方法属于类\n",
    "\n",
    "  - 说明:\n",
    "    1. 类方法需要用@classmethod装饰器定义\n",
    "    2. 类方法至少有一个形参,第一个形参用于绑定类,约定写为'cls'\n",
    "    3. 类和该类的实例都可以调用类方法\n",
    "    4. 类方法不能访问此类创建的实例的属性(只能访问类变量)\n"
   ]
  },
  {
   "cell_type": "code",
   "execution_count": 20,
   "metadata": {},
   "outputs": [
    {
     "name": "stdout",
     "output_type": "stream",
     "text": [
      "0\n",
      "1\n",
      "101\n"
     ]
    }
   ],
   "source": [
    "# 05_classmethod.py\n",
    "\n",
    "\n",
    "# 此示例示意类方法的定义方法和用法\n",
    "class Car:\n",
    "    count = 0  # 类变量\n",
    "\n",
    "    @classmethod\n",
    "    def getTotalCount(cls):\n",
    "        '''此方法为类方法,\n",
    "        第一个参数为cls,代表调用此方法的类'''\n",
    "        return cls.count\n",
    "\n",
    "    @classmethod\n",
    "    def updateCount(cls, number):\n",
    "        cls.count += number\n",
    "\n",
    "print(Car.getTotalCount()) # 用类来调用类方法\n",
    "# Car.count += 1  # 面向对象思想不提倡直接操作属性\n",
    "Car.updateCount(1)\n",
    "print(Car.getTotalCount())  # 1\n",
    "\n",
    "c1 = Car()  # 创建一个对象\n",
    "c1.updateCount(100)  # Car类的实例也可以调用类方法\n",
    "print(c1.getTotalCount())  # 101"
   ]
  },
  {
   "cell_type": "code",
   "execution_count": 31,
   "metadata": {},
   "outputs": [
    {
     "name": "stdout",
     "output_type": "stream",
     "text": [
      "0\n"
     ]
    }
   ],
   "source": [
    "# 06_classmethod.py\n",
    "\n",
    "\n",
    "# 此示例示意类方法的定义方法和用法\n",
    "class Car:\n",
    "    count = 0  # 类变量\n",
    "\n",
    "    @classmethod\n",
    "    def getInfo(cls):\n",
    "        return cls.count\n",
    "\n",
    "c1 = Car()  # 创建一个对象\n",
    "c1.count = 100\n",
    "v = c1.getInfo()  # 0/100\n",
    "print(v)\n"
   ]
  },
  {
   "cell_type": "markdown",
   "metadata": {},
   "source": [
    "- 问题:\n",
    "  1. 类方法属于类\n",
    "  2. 实例方法属于该类的实例\n",
    "  3. 请问: 类内能不能有函数,这个函数不属于类,也不属于实例\n",
    "\n",
    "- 静态方法 @staticmethod\n",
    "  - 静态方法不属于类,也不属于类的实例,它相当于定义在类内普通函数,只是它的作用域属于类\n",
    "# 小结：\n",
    "  - 实例方法，类方法，静态方法，函数"
   ]
  },
  {
   "cell_type": "code",
   "execution_count": 40,
   "metadata": {},
   "outputs": [
    {
     "name": "stdout",
     "output_type": "stream",
     "text": [
      "1+2= 3\n",
      "100+200= 300\n"
     ]
    }
   ],
   "source": [
    "# 07_staticmethod.py\n",
    "\n",
    "\n",
    "# 此示例示意静态方法的创建和使用\n",
    "\n",
    "class A:\n",
    "    @staticmethod\n",
    "    def myadd(x, y):\n",
    "        '''此方法为静态方法\n",
    "        此方法的形参不需要传入类或实例\n",
    "        '''\n",
    "        return x + y\n",
    "\n",
    "print('1+2=', A.myadd(1, 2))\n",
    "a = A()\n",
    "print('100+200=', a.myadd(100, 200))"
   ]
  },
  {
   "cell_type": "code",
   "execution_count": 14,
   "metadata": {},
   "outputs": [
    {
     "name": "stdout",
     "output_type": "stream",
     "text": [
      "请输入姓名：heronghua\n",
      "请输入年龄：25\n",
      "请输入成绩：98\n",
      "请输入姓名：wangxiaojin\n",
      "请输入年龄：24\n",
      "请输入成绩：97\n",
      "请输入姓名：\n",
      "学生人数： 1\n"
     ]
    }
   ],
   "source": [
    "# 练习\n",
    "#   1. 用类来描述一个学生的信息(可以修改之前的写的Student类)\n",
    "#     class Student:\n",
    "#           # 此处自己实现\n",
    "    \n",
    "#     要求该类的对象用于存储学生信息:\n",
    "#          姓名,年龄,成绩\n",
    "#     将这些对象存于列表中.可以任意添加和删除学生信息\n",
    "#        1. 打印出学生的个数\n",
    "#        2. 打印出所有学生的平均成绩\n",
    "#     (建议用类变量存储学生的个数,也可以把列表当作类变量)\n",
    "# class Student:\n",
    "# #     numstudent = 0\n",
    "# #     __slots__ = ['n','a', 's']\n",
    "#     def __init__(self,n,a,s):\n",
    "#         self.name = n\n",
    "#         self.age = a \n",
    "#         self.score = s\n",
    "# #         self.__class__.numstudent += 1\n",
    "        \n",
    "# a1 = Student(\"heronghua\",18,98)\n",
    "# a2 = Student(\"wangxiaojin\",22.97)\n",
    "# a3 = Student('xiamin',24,97)\n",
    "# print(a1.__class__.numstudent)\n",
    "class Student:\n",
    "    count = 0\n",
    "    def __init__(self,n,a,s):\n",
    "        self.name = n\n",
    "        self.age = a\n",
    "        self.score = s\n",
    "        self.__class__.count += 1\n",
    "    def __del__(self):\n",
    "        self.__class__.count -= 1\n",
    "L = []\n",
    "while True:\n",
    "    n = input('请输入姓名：')\n",
    "    if not n:\n",
    "        break\n",
    "    a = int(input('请输入年龄：'))\n",
    "    s = int(input(\"请输入成绩：\"))\n",
    "    L.append(Student(n,a,s))\n",
    "del L[1]\n",
    "print('学生人数：',Student.count)\n",
    "scores = 0\n",
    "for s in L:\n",
    "    scores += s.score\n",
    "print(\"平均成绩是: \",scores/Student.count)\n",
    "ages = sum((s.age for s in L ))\n",
    "print(\"平均年龄是\",ages/Student.count)"
   ]
  },
  {
   "cell_type": "markdown",
   "metadata": {},
   "source": [
    "# 继承 inheritance 和 派生 derived\n",
    "- 什么是继承/派生\n",
    "  1. 继承是指从已有的类中派生出新类,新类具有原类的行为,并能扩展新的行为\n",
    "  2. 派生就是从一个已有类中衍生(创建)新类,在新类上可以添加新的属性和行为\n",
    "- 作用：\n",
    "  1. 用继承派生机制，可以将一些共有功能加在基类中，实现代码共享\n",
    "  2. 在不改变超类的代码的基础上改变原有的功能\n",
    "- 继承说明：\n",
    "  - 任何类都直接或间接的继承自object类\n",
    "  - object类是一切类的超类(祖类)\n",
    "- 类的\\__base\\__ 属性\n",
    "  - \\__base\\__属性用来记录此类的基类 "
   ]
  },
  {
   "cell_type": "code",
   "execution_count": 23,
   "metadata": {},
   "outputs": [
    {
     "name": "stdout",
     "output_type": "stream",
     "text": [
      "说： 今天天气真好\n",
      "走了 5 公里\n",
      "--------------------\n",
      "走了 4 公里\n",
      "说： 走的有点累\n",
      "学习 python\n",
      "--------------------\n",
      "说： 今天晚上吃什么\n",
      "走了 3 公里\n",
      "教 继承/派生\n",
      "学习 魔方\n"
     ]
    }
   ],
   "source": [
    "# inherit.py\n",
    "\n",
    "\n",
    "# 此示例示意单继承的语句及定义方法：\n",
    "class Human:\n",
    "    '''此类用于描述人类的共性行为'''\n",
    "    def say(self,what):\n",
    "        print(\"说：\",what)\n",
    "    def walk(self,distance):\n",
    "        print(\"走了\",distance,'公里')\n",
    "\n",
    "class Student(Human):\n",
    "#     def say(self,what):\n",
    "#         print(\"说：\",what)\n",
    "#     def walk(self,distance):\n",
    "#         print(\"走了\",distance,'公里')\n",
    "    def study(self,subject):\n",
    "        print(\"学习\",subject)\n",
    "        \n",
    "class Teacher(Student):\n",
    "    def teach(self,teac):\n",
    "        print(\"教\",teac)\n",
    "    \n",
    "    \n",
    "    \n",
    "h1 = Human()\n",
    "h1.say('今天天气真好')\n",
    "h1.walk(5)\n",
    "print('-'*20)\n",
    "s1 = Student()\n",
    "s1.walk(4)\n",
    "s1.say('走的有点累')\n",
    "s1.study('python')\n",
    "print('-'*20)\n",
    "t1 = Teacher()\n",
    "t1.say(\"今天晚上吃什么\")\n",
    "t1.walk(3)\n",
    "t1.teach(\"继承/派生\")\n",
    "t1.study('魔方')"
   ]
  },
  {
   "cell_type": "markdown",
   "metadata": {},
   "source": [
    "- 覆盖 override\n",
    "  - 覆盖是指在有继承关系的类中,子类中实现了与基类同名的方法,在子类实例调用该方法时,实例调用的是子类中的覆盖版本的方法,这种现象叫做覆盖"
   ]
  },
  {
   "cell_type": "code",
   "execution_count": 31,
   "metadata": {},
   "outputs": [
    {
     "name": "stdout",
     "output_type": "stream",
     "text": [
      "B.work被调用 ！\n",
      "A.work被调用！\n",
      "A.work被调用！\n"
     ]
    }
   ],
   "source": [
    "# 示例覆盖 override\n",
    "class A:\n",
    "    def work(self):\n",
    "        print('A.work被调用！')\n",
    "        \n",
    "class B(A):\n",
    "    def work(self):\n",
    "#         pass\n",
    "        print('B.work被调用 ！')\n",
    "        \n",
    "b = B()\n",
    "b.work()\n",
    "b.__class__.__base__.work(b)\n",
    "a = A()\n",
    "a.work()\n",
    "\n"
   ]
  },
  {
   "cell_type": "markdown",
   "metadata": {},
   "source": [
    "- super 函数：\n",
    "  - super（type,obj）返回绑定超类的实例（要求Obj必须为type类型的实例）\n",
    "  - super()返回绑定超类的实例，等同于super(\\__class\\__.实例方法的第一个参数），必须用在方法内调用 \n",
    "- 作用\n",
    "  - 返回绑定超类的实现，用超类的实例来调用其父类的覆盖方法\n",
    "- 显式调用基类的初始化方法：\n",
    "  - 当子类中实现了\\__init\\__方法时，基类的\\__init\\__方法并不会被自动调用，此时需要显式调用\n",
    "- 示例\n"
   ]
  },
  {
   "cell_type": "code",
   "execution_count": 39,
   "metadata": {},
   "outputs": [
    {
     "name": "stdout",
     "output_type": "stream",
     "text": [
      "B.work被调用 ！\n",
      "A.work被调用！\n"
     ]
    }
   ],
   "source": [
    "class A:\n",
    "    def work(self):\n",
    "        print('A.work被调用！')\n",
    "        \n",
    "class B(A):\n",
    "    def work(self):\n",
    "#         pass\n",
    "        print('B.work被调用 ！')\n",
    "    def super_work(self):\n",
    "        self.work()\n",
    "        super().work()\n",
    "        \n",
    "b = B()\n",
    "# b.work()\n",
    "# super(B,b).work()\n",
    "b.super_work()\n",
    "# a = A()\n",
    "# a.work()"
   ]
  },
  {
   "cell_type": "code",
   "execution_count": 56,
   "metadata": {},
   "outputs": [
    {
     "name": "stdout",
     "output_type": "stream",
     "text": [
      "姓名： 小张\n",
      "年龄： 18\n",
      "Student.__init__被调用\n",
      "姓名： 老魏\n",
      "年龄： 35\n",
      "成绩: 60\n"
     ]
    }
   ],
   "source": [
    "class Human:\n",
    "    def __init__(self,n,a):\n",
    "        self.name = n\n",
    "        self.age = a\n",
    "    def infos(self):\n",
    "        print(\"姓名：\",self.name)\n",
    "        print(\"年龄：\",self.age)\n",
    "class Student(Human):\n",
    "    def __init__(self,n,a,s):\n",
    "        super().__init__(n,a)\n",
    "        self.score = s\n",
    "        print('Student.__init__被调用')\n",
    "    def infos(self):\n",
    "        super().infos()\n",
    "        print('成绩:',self.score)\n",
    "#         pass\n",
    "    \n",
    "h1 = Human('小张',18)\n",
    "h1.infos()\n",
    "s1 = Student('老魏',35,60)\n",
    "s1.infos()"
   ]
  },
  {
   "cell_type": "code",
   "execution_count": 4,
   "metadata": {},
   "outputs": [
    {
     "name": "stdout",
     "output_type": "stream",
     "text": [
      "此时学生对象的个数是: 3\n",
      "4\n",
      "此时学生个数为: 3\n",
      "平均成绩是: 99.0\n"
     ]
    },
    {
     "data": {
      "text/plain": [
       "'------------------------------------------------------------------------------------------------------\\n'"
      ]
     },
     "execution_count": 4,
     "metadata": {},
     "output_type": "execute_result"
    }
   ],
   "source": [
    "# 练习\n",
    "#   1. 用类来描述一个学生的信息(可以修改之前的写的Student类)\n",
    "#     class Student:\n",
    "#           # 此处自己实现\n",
    "\n",
    "#     要求该类的对象用于存储学生信息:\n",
    "#          姓名,年龄,成绩\n",
    "#     将这些对象存于列表中.可以任意添加和删除学生信息\n",
    "#        1. 打印出学生的个数\n",
    "#        2. 打印出所有学生的平均成绩\n",
    "#     (建议用类变量存储学生的个数,也可以把列表当作类变量)\n",
    "\n",
    "\n",
    "class Student:\n",
    "    count = 0  # 此类变量用来记录学生的个数\n",
    "\n",
    "    def __init__(self, n, a, s=0):\n",
    "        self.name = n\n",
    "        self.age = a\n",
    "        self.score = s\n",
    "        Student.count += 1  # 让对象个数加1\n",
    "    def __del__(self):\n",
    "        Student.count -= 1  # 对象销毁时count减1\n",
    "\n",
    "    def get_score(self):\n",
    "        return self.score\n",
    "\n",
    "    @classmethod\n",
    "    def getTotalCount(cls):\n",
    "        '''此方法用来得到学生对象的个数'''\n",
    "        return cls.count\n",
    "\n",
    "\n",
    "def test():\n",
    "    L = []  # 1班的学生\n",
    "    L.append(Student('小张', 20, 100))\n",
    "    L.append(Student('小王', 18, 97))\n",
    "    L.append(Student('小李', 19, 98))\n",
    "    print('此时学生对象的个数是:',\n",
    "          Student.getTotalCount())\n",
    "\n",
    "    L2 = []  # 2班学生\n",
    "    L2.append(Student('小赵', 18, 99))\n",
    "    print(Student.getTotalCount())  # 4\n",
    "    # 删除L中的一个学生\n",
    "    L.pop(1)\n",
    "    print(\"此时学生个数为:\", Student.getTotalCount())\n",
    "\n",
    "    all_student = L + L2\n",
    "    scores = 0  # 用此变量来记录所有学生的成绩总和\n",
    "    for s in all_student:\n",
    "        # scores += s.score  # 累加所有学生的成绩\n",
    "        scores += s.get_score()\n",
    "\n",
    "    print(\"平均成绩是:\", scores/len(all_student))\n",
    "\n",
    "\n",
    "if __name__ == '__main__':\n",
    "    test()\n",
    "\n",
    "'''------------------------------------------------------------------------------------------------------\n",
    "'''\n",
    "\n",
    "# class Student:\n",
    "#     count = 0\n",
    "#     def __init__(self, n, a, s):\n",
    "#         self.name, self.age, self.score = n, a, s\n",
    "#         self.__class__.count += 1\n",
    "#     def __del__(self):\n",
    "#         self.__class__.count -= 1\n",
    "    \n",
    "\n",
    "# L = []\n",
    "# L.append(Student(\"小张\", 20, 100))\n",
    "# L.append(Student(\"小李\", 19, 97))\n",
    "\n",
    "# # L.remove(Student(\"小李\", 19, 97))\n",
    "# del L[1]\n",
    "# L.append(Student(\"小赵\", 18, 70))\n",
    "# L.append(Student(\"小姜\", 17, 80))\n",
    "\n",
    "\n",
    "# print(\"当前有%d个学生对象\" % Student.count)\n",
    "# scores = 0\n",
    "# for s in L:\n",
    "#     scores += s.score\n",
    "# print(\"平均成绩是:\", scores/Student.count)\n",
    "\n",
    "# ages =  sum( (s.age for s in L) )\n",
    "# print('平均年龄是:', ages/Student.count)"
   ]
  },
  {
   "cell_type": "markdown",
   "metadata": {},
   "source": [
    "- 1. 看懂学生管理系统的类的封装的代码\n",
    "\n",
    "- 2. 写一个类Bicycle(自行车)类,有run方法,调用时显示骑行里程km\n",
    "      class Bicycle:\n",
    "          def run(self, km):\n",
    "              print(\"自行车骑行了\", km, \"公里\")\n",
    "\n",
    "      再写一个类EBicycle(电动自行车)类,在Bicycle类的基础上添加电池电量volume属性,有两个方法:\n",
    "         1. file_charge(self, vol) 用来充电,vol为电量\n",
    "         2. run(km) 方法每骑行10km消耗电量1度, 同时显示当前电量,当电量耗尽时,则调用Bicycle的run方法骑行\n",
    "        class EBicycle(Bicycle):\n",
    "             ...\n",
    "          b = Bicycle()\n",
    "          b.run(10)  # 自行车骑行了 10 公里\n",
    "          e = EBicycle(5)\n",
    "          e.run(10)  # 电动骑行了 10 公里\n",
    "          e.run(100) # 电动骑行了 40 公里, 自行车骑行了 60 公里\n",
    "          b.fill_charge(10)\n",
    "          b.run(100)"
   ]
  },
  {
   "cell_type": "code",
   "execution_count": 5,
   "metadata": {},
   "outputs": [
    {
     "name": "stdout",
     "output_type": "stream",
     "text": [
      "自行车骑行了10公里\n",
      "电动车骑了 10 公里\n",
      "本次剩余电量4.0\n",
      "电动车骑了 40.0 公里\n",
      "自行车骑行了60公里\n",
      "本次剩余电量0.0\n",
      "电动车骑了 100.0 公里\n",
      "本次剩余电量0.0\n"
     ]
    }
   ],
   "source": [
    "class Bicycle:\n",
    "    def run(self,km):\n",
    "        print(\"自行车骑行了%d公里\"%km)\n",
    "        \n",
    "class EBicycle(Bicycle):\n",
    "    def __init__(self,vol):\n",
    "        self.vol = vol\n",
    "        \n",
    "    def run(self,km):\n",
    "        e_km = min(self.vol*10,km)\n",
    "        if e_km > 0:\n",
    "            print(\"电动车骑了\",e_km,\"公里\")\n",
    "            self.vol -= e_km/10\n",
    "        km -= e_km\n",
    "        if km > 0:\n",
    "            super().run(km)\n",
    "        print(\"本次剩余电量%s\"%self.vol)\n",
    "        \n",
    "    def fill_charge(self,volume):\n",
    "        self.vol += volume\n",
    "\n",
    "b = Bicycle()\n",
    "b.run(10)\n",
    "e = EBicycle(5)\n",
    "e.run(10)\n",
    "e.run(100)\n",
    "e.fill_charge(10)\n",
    "e.run(100)"
   ]
  },
  {
   "cell_type": "code",
   "execution_count": 6,
   "metadata": {},
   "outputs": [
    {
     "data": {
      "text/plain": [
       "10"
      ]
     },
     "execution_count": 6,
     "metadata": {},
     "output_type": "execute_result"
    }
   ],
   "source": [
    "min(50,10)"
   ]
  }
 ],
 "metadata": {
  "kernelspec": {
   "display_name": "Python 3",
   "language": "python",
   "name": "python3"
  },
  "language_info": {
   "codemirror_mode": {
    "name": "ipython",
    "version": 3
   },
   "file_extension": ".py",
   "mimetype": "text/x-python",
   "name": "python",
   "nbconvert_exporter": "python",
   "pygments_lexer": "ipython3",
   "version": "3.6.4"
  }
 },
 "nbformat": 4,
 "nbformat_minor": 2
}
