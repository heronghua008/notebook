{
 "cells": [
  {
   "cell_type": "markdown",
   "metadata": {},
   "source": [
    "# 类变量 class variable(也叫类属性)\n",
    "  - 类变量是类的属性,此属性属于类\n",
    "\n",
    "  - 作用:\n",
    "    - 用来记录类相关的数据\n",
    "\n",
    "  - 说明:\n",
    "    - 类变量可以通过类直接访问\n",
    "    - 类变量可以通过类的实例直接访问\n",
    "    - 类变量可以通过此类的实例的__class__属性间接访问\n",
    "  - 类变量的应用案例:\n",
    "    - 用类变量来记录对象的个数"
   ]
  },
  {
   "cell_type": "code",
   "execution_count": 20,
   "metadata": {},
   "outputs": [
    {
     "name": "stdout",
     "output_type": "stream",
     "text": [
      "Human的类变量count= 0\n",
      "100\n",
      "Human的类变量count= 0\n",
      "用h1对象访问Human的count变量 0\n",
      "100\n",
      "0\n",
      "h1.count= 101\n",
      "Human.count= 101\n",
      "1992850016\n",
      "1992850016\n"
     ]
    }
   ],
   "source": [
    "# 01_class_variable.py\n",
    "\n",
    "\n",
    "# 此示例示意类变量的定义和使用\n",
    "class Human:\n",
    "    count = 0 # 创建一个类变量\n",
    "    def __init__(self,n):\n",
    "        self.name = n\n",
    "\n",
    "print(\"Human的类变量count=\", Human.count)  # 0\n",
    "Human.count = 100\n",
    "print(Human.count)  # 100\n",
    "\n",
    "# 02_class_variable.py\n",
    "\n",
    "\n",
    "# 此示例示意Human类的实例可以访问count类变量\n",
    "class Human:\n",
    "    count = 0  # 创建一个类变量\n",
    "\n",
    "print(\"Human的类变量count=\", Human.count)  # 0\n",
    "h1 = Human()\n",
    "print(\"用h1对象访问Human的count变量\", h1.count)  # 0\n",
    "h1.count = 100\n",
    "print(h1.count)  # 100\n",
    "print(Human.count) # 0\n",
    "\n",
    "h1.__class__.count += 1\n",
    "h1.count += 1\n",
    "Human.count += 100\n",
    "print(\"h1.count=\", h1.count)  # 100\n",
    "print('Human.count=', Human.count)  # 1\n",
    "print(id(h1.__class__.count))\n",
    "print(id(Human.count))"
   ]
  },
  {
   "cell_type": "code",
   "execution_count": 34,
   "metadata": {},
   "outputs": [
    {
     "name": "stdout",
     "output_type": "stream",
     "text": [
      "当前汽车总数是: 0\n",
      "BYD 京A.88888 被创建\n",
      "1\n",
      "TESLA 京B.00000 被创建\n",
      "Audi, 京C.66666 被创建\n",
      "Audi, 京C.66666 被销毁\n",
      "当前汽车总数是: 3\n",
      "BYD 京A.88888 被销毁\n",
      "TESLA 京B.00000 被销毁\n",
      "当前汽车数是: 1\n"
     ]
    }
   ],
   "source": [
    "# 03_car_count.py\n",
    "\n",
    "\n",
    "# 此示例示意用类变量来记录对象的个数\n",
    "class Car:\n",
    "    count = 0  # 创建类变量, 用来记录汽车对象的总数\n",
    "    def __init__(self, info):\n",
    "        print(info, \"被创建\")\n",
    "        self.data = info  # 记录传入数据\n",
    "        self.__class__.count += 1  # 让车的总数加1\n",
    "\n",
    "    def __del__(self):\n",
    "        print(self.data, '被销毁')\n",
    "#         当车被销毁时总数自动减\n",
    "        self.__class__.count -= 1  \n",
    "\n",
    "print('当前汽车总数是:', Car.count)\n",
    "b1 = Car(\"BYD 京A.88888\")\n",
    "print(Car.count)\n",
    "b2 = Car('TESLA 京B.00000')\n",
    "b3 = Car('Audi, 京C.66666')\n",
    "print('当前汽车总数是:', Car.count)\n",
    "del b1\n",
    "del b2\n",
    "print(\"当前汽车数是:\", Car.count)"
   ]
  },
  {
   "cell_type": "markdown",
   "metadata": {},
   "source": [
    "- 类的文档字符串:\n",
    "  - 类内第一个没有赋值给任何变量的字符串是类的文档字符串\n",
    "\n",
    "- 说明:\n",
    "  - 类的文档字符串用类的__doc__属性可以访问\n",
    "  - 类的文档字符串可以用help()函数查看"
   ]
  },
  {
   "cell_type": "code",
   "execution_count": 7,
   "metadata": {},
   "outputs": [
    {
     "name": "stdout",
     "output_type": "stream",
     "text": [
      "No Python documentation found for '车的run方法'.\n",
      "Use help() to get the interactive help utility.\n",
      "Use help(str) for help on the str class.\n",
      "\n"
     ]
    }
   ],
   "source": [
    "# classdoc.py\n",
    "\n",
    "\n",
    "'''这是模块的标题\n",
    "\n",
    "此模块示意类的文档字符串\n",
    "'''\n",
    "class Car:\n",
    "    '''此类用来描述车的对象的行为\n",
    "    这是Car类的文档字符串'''\n",
    "    def run(self, speed):\n",
    "        '''车的run方法'''\n",
    "        pass\n",
    "help(Car.run.__doc__)"
   ]
  },
  {
   "cell_type": "markdown",
   "metadata": {},
   "source": [
    "- 类的\\__slots\\__列表\n",
    " - 作用:\n",
    "   - 限定一个类的实例只能有固定的属性(实例变量)\n",
    "   - 通常为防止错写属性名而发生运行时错误\n",
    " - 说明:\n",
    "   - 含有\\__slots\\__列表的类创建的实例对象没有\\__dict\\__属性,即此实例不用字典来保存对象的属性(实例变量)"
   ]
  },
  {
   "cell_type": "code",
   "execution_count": 19,
   "metadata": {},
   "outputs": [
    {
     "name": "stdout",
     "output_type": "stream",
     "text": [
      "58\n",
      "['name', 'score']\n",
      "12\n"
     ]
    }
   ],
   "source": [
    "# 04_slots.py\n",
    "\n",
    "\n",
    "# 此示例示意 类的变量 __slots__列表的作用\n",
    "class Student:\n",
    "    __slots__ = ['name', 'score']\n",
    "    def __init__(self, name, score):\n",
    "        self.name = name\n",
    "        self.score = score\n",
    "\n",
    "s1 = Student('小张', 58)\n",
    "print(s1.score)\n",
    "# s1.socre = 100  # 此处错写了属性名,但在运行时不会报错!\n",
    "s1.score = 12\n",
    "print(s1.__slots__)\n",
    "print(s1.score)  # 请问打印的值是多少?"
   ]
  },
  {
   "cell_type": "markdown",
   "metadata": {},
   "source": [
    "- 类方法 @classmethod\n",
    "  - 类方法是描述类的行为的方法,类方法属于类\n",
    "\n",
    "  - 说明:\n",
    "    1. 类方法需要用@classmethod装饰器定义\n",
    "    2. 类方法至少有一个形参,第一个形参用于绑定类,约定写为'cls'\n",
    "    3. 类和该类的实例都可以调用类方法\n",
    "    4. 类方法不能访问此类创建的实例的属性(只能访问类变量)\n"
   ]
  },
  {
   "cell_type": "code",
   "execution_count": 20,
   "metadata": {},
   "outputs": [
    {
     "name": "stdout",
     "output_type": "stream",
     "text": [
      "0\n",
      "1\n",
      "101\n"
     ]
    }
   ],
   "source": [
    "# 05_classmethod.py\n",
    "\n",
    "\n",
    "# 此示例示意类方法的定义方法和用法\n",
    "class Car:\n",
    "    count = 0  # 类变量\n",
    "\n",
    "    @classmethod\n",
    "    def getTotalCount(cls):\n",
    "        '''此方法为类方法,\n",
    "        第一个参数为cls,代表调用此方法的类'''\n",
    "        return cls.count\n",
    "\n",
    "    @classmethod\n",
    "    def updateCount(cls, number):\n",
    "        cls.count += number\n",
    "\n",
    "print(Car.getTotalCount()) # 用类来调用类方法\n",
    "# Car.count += 1  # 面向对象思想不提倡直接操作属性\n",
    "Car.updateCount(1)\n",
    "print(Car.getTotalCount())  # 1\n",
    "\n",
    "c1 = Car()  # 创建一个对象\n",
    "c1.updateCount(100)  # Car类的实例也可以调用类方法\n",
    "print(c1.getTotalCount())  # 101"
   ]
  },
  {
   "cell_type": "code",
   "execution_count": 31,
   "metadata": {},
   "outputs": [
    {
     "name": "stdout",
     "output_type": "stream",
     "text": [
      "0\n"
     ]
    }
   ],
   "source": [
    "# 06_classmethod.py\n",
    "\n",
    "\n",
    "# 此示例示意类方法的定义方法和用法\n",
    "class Car:\n",
    "    count = 0  # 类变量\n",
    "\n",
    "    @classmethod\n",
    "    def getInfo(cls):\n",
    "        return cls.count\n",
    "\n",
    "c1 = Car()  # 创建一个对象\n",
    "c1.count = 100\n",
    "v = c1.getInfo()  # 0/100\n",
    "print(v)\n"
   ]
  },
  {
   "cell_type": "markdown",
   "metadata": {},
   "source": [
    "- 问题:\n",
    "  1. 类方法属于类\n",
    "  2. 实例方法属于该类的实例\n",
    "  3. 请问: 类内能不能有函数,这个函数不属于类,也不属于实例\n",
    "\n",
    "- 静态方法 @staticmethod\n",
    "  - 静态方法不属于类,也不属于类的实例,它相当于定义在类内普通函数,只是它的作用域属于类\n",
    "# 小结：\n",
    "  - 实例方法，类方法，静态方法，函数"
   ]
  },
  {
   "cell_type": "code",
   "execution_count": 40,
   "metadata": {},
   "outputs": [
    {
     "name": "stdout",
     "output_type": "stream",
     "text": [
      "1+2= 3\n",
      "100+200= 300\n"
     ]
    }
   ],
   "source": [
    "# 07_staticmethod.py\n",
    "\n",
    "\n",
    "# 此示例示意静态方法的创建和使用\n",
    "\n",
    "class A:\n",
    "    @staticmethod\n",
    "    def myadd(x, y):\n",
    "        '''此方法为静态方法\n",
    "        此方法的形参不需要传入类或实例\n",
    "        '''\n",
    "        return x + y\n",
    "\n",
    "print('1+2=', A.myadd(1, 2))\n",
    "a = A()\n",
    "print('100+200=', a.myadd(100, 200))"
   ]
  },
  {
   "cell_type": "code",
   "execution_count": 13,
   "metadata": {},
   "outputs": [
    {
     "name": "stdout",
     "output_type": "stream",
     "text": [
      "学生人数： 3\n"
     ]
    }
   ],
   "source": [
    "# 练习\n",
    "#   1. 用类来描述一个学生的信息(可以修改之前的写的Student类)\n",
    "#     class Student:\n",
    "#           # 此处自己实现\n",
    "    \n",
    "#     要求该类的对象用于存储学生信息:\n",
    "#          姓名,年龄,成绩\n",
    "#     将这些对象存于列表中.可以任意添加和删除学生信息\n",
    "#        1. 打印出学生的个数\n",
    "#        2. 打印出所有学生的平均成绩\n",
    "#     (建议用类变量存储学生的个数,也可以把列表当作类变量)\n",
    "# class Student:\n",
    "# #     numstudent = 0\n",
    "# #     __slots__ = ['n','a', 's']\n",
    "#     def __init__(self,n,a,s):\n",
    "#         self.name = n\n",
    "#         self.age = a \n",
    "#         self.score = s\n",
    "# #         self.__class__.numstudent += 1\n",
    "        \n",
    "# a1 = Student(\"heronghua\",18,98)\n",
    "# a2 = Student(\"wangxiaojin\",22.97)\n",
    "# a3 = Student('xiamin',24,97)\n",
    "# print(a1.__class__.numstudent)\n",
    "class Student:\n",
    "    count = 0\n",
    "    def __init__(self,n,a,s):\n",
    "        self.name = n\n",
    "        self.age = a\n",
    "        self.score = s\n",
    "        self.__class__.count += 1\n",
    "    def __del__(self):\n",
    "        self.__class__.count -= 1\n",
    "L = []\n",
    "L.append(Student('小张',20,100))\n",
    "L.append(Student('小黄',24,99))\n",
    "del L[1]\n",
    "L.append(Student('小明',24,99))\n",
    "L.append(Student('小吴',24,89))\n",
    "print('学生人数：',Student.count)"
   ]
  },
  {
   "cell_type": "markdown",
   "metadata": {},
   "source": [
    "# 继承（inheritance)和  派生（derived)\n",
    "- 什么是继承/派生"
   ]
  },
  {
   "cell_type": "code",
   "execution_count": null,
   "metadata": {},
   "outputs": [],
   "source": [
    "\n",
    "\n",
    "\n",
    "\n",
    "\n",
    "\n",
    "\n",
    "\n",
    "\n"
   ]
  }
 ],
 "metadata": {
  "kernelspec": {
   "display_name": "Python 3",
   "language": "python",
   "name": "python3"
  },
  "language_info": {
   "codemirror_mode": {
    "name": "ipython",
    "version": 3
   },
   "file_extension": ".py",
   "mimetype": "text/x-python",
   "name": "python",
   "nbconvert_exporter": "python",
   "pygments_lexer": "ipython3",
   "version": "3.6.4"
  }
 },
 "nbformat": 4,
 "nbformat_minor": 2
}
