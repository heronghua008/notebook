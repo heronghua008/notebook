{
 "cells": [
  {
   "cell_type": "markdown",
   "metadata": {},
   "source": [
    "## 1、日期时间函数\n",
    "\t1、NOW() 返回服务器当前时间 YYYY-MM-DD HH:MM:SS\n",
    "\t2、CURDATE() 返回当前日期 YYYY-MM-DD\n",
    "\t3、CURTIME() 返回当前时间 HH:MM:SS\n",
    "\n",
    "\t4、year(时间) 返回指定时间的年份\n",
    "\t5、date(时间) 返回指定时间的日期\n",
    "\t6、time(时间) 返回指定时间的时间\n"
   ]
  },
  {
   "cell_type": "code",
   "execution_count": null,
   "metadata": {},
   "outputs": [],
   "source": []
  }
 ],
 "metadata": {
  "kernelspec": {
   "display_name": "Python 3",
   "language": "python",
   "name": "python3"
  },
  "language_info": {
   "codemirror_mode": {
    "name": "ipython",
    "version": 3
   },
   "file_extension": ".py",
   "mimetype": "text/x-python",
   "name": "python",
   "nbconvert_exporter": "python",
   "pygments_lexer": "ipython3",
   "version": "3.6.4"
  }
 },
 "nbformat": 4,
 "nbformat_minor": 2
}
