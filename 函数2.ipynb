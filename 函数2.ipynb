{
 "cells": [
  {
   "cell_type": "code",
   "execution_count": 17,
   "metadata": {},
   "outputs": [
    {
     "name": "stdout",
     "output_type": "stream",
     "text": [
      "请输入数据5\n",
      "请输入数据6\n",
      "请输入数据4\n",
      "请输入数据8\n",
      "请输入数据5\n",
      "请输入数据4\n",
      "请输入数据0\n",
      "[5, 5]\n",
      "[6, 4, 8, 4]\n"
     ]
    }
   ],
   "source": [
    "# # 练习\n",
    "# L = [1,2,3,4,5]\n",
    "# def pow_sum(L):\n",
    "#     s = 0\n",
    "#     for x in L:\n",
    "#         s += x**2\n",
    "#     return s\n",
    "# sum = pow_sum(L)\n",
    "# print(\"L列表中数据的平方和\",sum) \n",
    "\n",
    "# sum = pow3_sum(L)\n",
    "# print(\"\")\n",
    "\n",
    "odd = []\n",
    "pri = []\n",
    "\n",
    "def read_num(o,p):\n",
    "    while True:\n",
    "        x = int(input(\"请输入数据\"))\n",
    "        if x == 0:\n",
    "            break\n",
    "        if x%2 == 0:\n",
    "            o.append(x)\n",
    "        if x%2 == 1:\n",
    "            p.append(x)\n",
    "        \n",
    "\n",
    "read_num(pri,odd)\n",
    "print(odd)\n",
    "print(pri)\n",
    "\n",
    "        "
   ]
  },
  {
   "cell_type": "markdown",
   "metadata": {},
   "source": [
    "1. 默认传参：\n",
    "语法：\n",
    "    def 函数名（形式参数1 = \n",
    "    "
   ]
  },
  {
   "cell_type": "code",
   "execution_count": 31,
   "metadata": {},
   "outputs": [
    {
     "ename": "TypeError",
     "evalue": "myfun() takes 0 positional arguments but 3 were given",
     "output_type": "error",
     "traceback": [
      "\u001b[0;31m---------------------------------------------------------------------------\u001b[0m",
      "\u001b[0;31mTypeError\u001b[0m                                 Traceback (most recent call last)",
      "\u001b[0;32m<ipython-input-31-aba3ab074e9e>\u001b[0m in \u001b[0;36m<module>\u001b[0;34m()\u001b[0m\n\u001b[1;32m      5\u001b[0m \u001b[0;31m#     print(\"c=\",c)\u001b[0m\u001b[0;34m\u001b[0m\u001b[0;34m\u001b[0m\u001b[0m\n\u001b[1;32m      6\u001b[0m \u001b[0;34m\u001b[0m\u001b[0m\n\u001b[0;32m----> 7\u001b[0;31m \u001b[0mmyfun\u001b[0m\u001b[0;34m(\u001b[0m\u001b[0;36m1\u001b[0m\u001b[0;34m,\u001b[0m\u001b[0;36m2\u001b[0m\u001b[0;34m,\u001b[0m\u001b[0;36m3\u001b[0m\u001b[0;34m)\u001b[0m\u001b[0;34m\u001b[0m\u001b[0m\n\u001b[0m",
      "\u001b[0;31mTypeError\u001b[0m: myfun() takes 0 positional arguments but 3 were given"
     ]
    }
   ],
   "source": [
    "# L = [*，1,2,3]\n",
    "def myfun(*,a,b):\n",
    "    print(\"a=\",a)\n",
    "    print(\"b=\",b)\n",
    "#     print(\"c=\",c)\n",
    "    \n",
    "myfun(1,2,3)"
   ]
  },
  {
   "cell_type": "code",
   "execution_count": 42,
   "metadata": {},
   "outputs": [
    {
     "name": "stdout",
     "output_type": "stream",
     "text": [
      "[10, 11, 12, 13, 14, 15]\n",
      "<function myrange at 0x7f089e7d7f28>\n"
     ]
    }
   ],
   "source": [
    "# 写一个myrange(),要求myrange()\n",
    "def myrange(*a):\n",
    "    L = []\n",
    "    if len(a) == 1:\n",
    "        x = 0\n",
    "        y = a[0]\n",
    "        z = 1\n",
    "    elif len(a) == 2:\n",
    "        x,y = a\n",
    "        z = 1\n",
    "    elif len(a) == 3:\n",
    "        x,y,z = a\n",
    "#     else:\n",
    "#         print(\"输入错误\")\n",
    "    while x<y:\n",
    "        L.append(x)\n",
    "        x += z\n",
    "    print(L)\n",
    "    \n",
    "myrange(10,16)\n",
    "print(myrange)"
   ]
  },
  {
   "cell_type": "code",
   "execution_count": 5,
   "metadata": {},
   "outputs": [
    {
     "name": "stdout",
     "output_type": "stream",
     "text": [
      "L.index(v [, begin[, end]]):返回对应元素的索引下标, begin为开始索引，end为结束索引,当 value 不存在时触发ValueError错误\n",
      "L.insert(index, obj):将某个元素插放到列表中指定的位置\n",
      "L.count(x):返回列表中元素的个数\n",
      "L.remove(x):从列表中删除第一次出现在列表中的值\n",
      "L.copy():复制此列表（只复制一层，不会复制深层对象)\n",
      "L.append(x):向列表中追加单个元素\n",
      "L.extend(lst):向列表追加另一个列表\n",
      "L.clear():清空列表,等同于 L[:] = []\n",
      "L.sort(reverse=False):将列表中的元素进行排序，默认顺序按值的小到大的顺序排列\n",
      "L.reverse():列表的反转，用来改变原列表的先后顺序\n",
      "L.pop([index]):删除索引对应的元素，如果不加索引，默认删除最后元素，同时返回删除元素的引用关系\n",
      "S.split(sep=None):将字符串使用sep作为分隔符分割S字符串，返回分割后的字符串列表，当不给定参数时默认用空白字符作为分隔符分割\n",
      "S.join(iterable):用可迭代对象中提供的字符串,返回一个中间用S进行分隔的字符串\n"
     ]
    }
   ],
   "source": []
  }
 ],
 "metadata": {
  "kernelspec": {
   "display_name": "Python 3",
   "language": "python",
   "name": "python3"
  },
  "language_info": {
   "codemirror_mode": {
    "name": "ipython",
    "version": 3
   },
   "file_extension": ".py",
   "mimetype": "text/x-python",
   "name": "python",
   "nbconvert_exporter": "python",
   "pygments_lexer": "ipython3",
   "version": "3.6.4"
  }
 },
 "nbformat": 4,
 "nbformat_minor": 2
}
