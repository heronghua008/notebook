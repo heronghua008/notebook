{
 "cells": [
  {
   "cell_type": "markdown",
   "metadata": {},
   "source": [
    "# 装饰器 decorators(专业提高编）\n",
    "- 问题：\n",
    "  - 函数名是变量，它绑定一个函数\n",
    "  - 函数名 / 函数名（）区别\n",
    "- 什么是装饰器\n",
    "  - 装饰器是一个函数，主要作用是用来包装另一个函数或类（后面会讲）\n",
    "  - 作用：是在不改变原函数名（或类名）的情况下改变被包装对旬的行为\n",
    "- 函数装饰器：\n",
    "  - 函数装饰器是指装饰器是一个函数，传入的是一个函数，返回的也是一个函数\n",
    "- 语法：\n",
    "      def 装饰器函数名（参数）：\n",
    "          语句块\n",
    "          return 函数对象\n",
    "      @装饰吕函数名<换行>\n",
    "      def 函数名（形参列表)：\n",
    "          语句块"
   ]
  },
  {
   "cell_type": "code",
   "execution_count": 2,
   "metadata": {},
   "outputs": [
    {
     "name": "stdout",
     "output_type": "stream",
     "text": [
      "装饰器函数被调用了...\n",
      "++++++++这是myfunc调用之前+++++++\n",
      "函数myfunc被调用\n",
      "--------这是myfunc调用之后-------\n"
     ]
    }
   ],
   "source": [
    "'''示例装饰器'''\n",
    "# def mydeco(fn):\n",
    "#     def fx():\n",
    "#         print('fx函数被调用')\n",
    "#     return fx\n",
    "# def myfunc():\n",
    "#     print(\"函数myfunc被调用\")\n",
    "    \n",
    "# myfunc = mydeco(myfunc) # 这样的写法可以用装饰器来代替\n",
    "# myfunc()\n",
    "\n",
    "# def mydeco(fn):\n",
    "#     def fx():\n",
    "#         print('fx函数被调用')\n",
    "#     return fx\n",
    "# # myfunc加了mydeco装饰器，等 同于在myfunc创建之后调用\n",
    "# # myfunc = mydeco(myfunc)\n",
    "# @mydeco  #等同于 myfunc = mydeco(myfunc)\n",
    "# def myfunc():\n",
    "#     print(\"函数myfunc被调用\")\n",
    "\n",
    "def mydeco(fn):\n",
    "    print('装饰器函数被调用了...')\n",
    "    def fx():\n",
    "        print('++++++++这是myfunc调用之前+++++++')\n",
    "        # 要想在此处调用被装饰的函数myfunc怎么操作 \n",
    "        fn()# 调用被装饰函数\n",
    "        print('--------这是myfunc调用之后-------')\n",
    "    return fx\n",
    "@mydeco\n",
    "def myfunc():\n",
    "    print(\"函数myfunc被调用\")\n",
    "\n",
    "myfunc()\n",
    "# print(\"我不知道\")\n",
    "# myfunc()\n",
    "# print(\"我不知道\")\n",
    "# myfunc()"
   ]
  },
  {
   "cell_type": "code",
   "execution_count": 39,
   "metadata": {},
   "outputs": [
    {
     "name": "stdout",
     "output_type": "stream",
     "text": [
      "正在检查权限....\n",
      "小张 存钱 200 元\n",
      "发短信给 小张 办理了 200 元\n",
      "正在检查权限....\n",
      "小赵 存钱 400 元\n",
      "发短信给 小赵 办理了 400 元\n",
      "正在检查权限....\n",
      "小李 取钱 500 元\n"
     ]
    }
   ],
   "source": [
    "''' 此示例示意装饰器在不改变原函数和调用者行为的情况下来改变原有函数的功能\n",
    "\n",
    "'''\n",
    "# 小姜写了一人装饰器函数用来发送短信\n",
    "def send_message(fn):\n",
    "    def fy(name,x):\n",
    "        fn(name,x) # 先办业务\n",
    "        print('发短信给',name,'办理了',x,'元')\n",
    "    return fy\n",
    "# 小赵写了一个装饰器函数\n",
    "def privillage_check(fn):\n",
    "    def fx(name,x):\n",
    "        print(\"正在检查权限....\")\n",
    "        fn(name,x) # 权限通过可以调用相应函数\n",
    "    return fx\n",
    "# 写一个操作数据函数（此函数用来示意存钱操作）\n",
    "@send_message\n",
    "@privillage_check\n",
    "def savemoney(name,x): # 魏老师写的函数，用于存钱\n",
    "    print(name,'存钱',x,'元')\n",
    "@privillage_check\n",
    "def withdraw(name,x):  # 冯老師写的函数，用于存钱\n",
    "    print(name,'取钱',x,'元')\n",
    "# -----以下是调用老小闵写的程序-------- \n",
    "savemoney('小张',200)\n",
    "savemoney('小赵',400)\n",
    "\n",
    "withdraw('小李',500)"
   ]
  },
  {
   "cell_type": "markdown",
   "metadata": {},
   "source": [
    "# 函数的文档字符串\n",
    "- 函数内第一次末赋值给任何变量的字符串是此此函数的文档字符串\n",
    "- 语法：\n",
    "      def 函数名（形参列表）\n",
    "      ‘’‘函数的文档字符串’‘’\n",
    "      函数语句块\n",
    "- 示例：\n",
    "      def hello():\n",
    "          '''此函数用来打招呼...\n",
    "          这是函数的文档字符串'''\n",
    "          pass\n",
    "      >>> help(hello)\n",
    "- 说明：\n",
    "      1.文档字符串通常用来说明本函数的功能和使用方法\n",
    "      2.在交互模式下，输入：help(函数名）\n",
    "      可以查看函数文档字符串\n",
    "- 函数的__doc__属性\n",
    "      __doc__属性用于绑定该函数的文档字符串\n",
    "- 函数的__name__属性\n",
    "      __name__属性用于记录函数的名称  "
   ]
  },
  {
   "cell_type": "markdown",
   "metadata": {},
   "source": [
    "# 函数的定义语法：\n",
    "      @装饰器1\n",
    "      @装饰器2\n",
    "      ...\n",
    "      def 函数名（位置形参，*元组形参（或*），命名关键字形参，**字符形参）：\n",
    "          '''文档字符串'''\n",
    "          语句块"
   ]
  },
  {
   "cell_type": "markdown",
   "metadata": {},
   "source": [
    "# 模块 Moule\n",
    "- 什么是模块\n",
    "  - 模块是一个包含有一系列数据，函数，类等 组成的程序组\n",
    "  - 模块是一个文件，模块文件名通常以.py结尾\n",
    "- 模块的作用：\n",
    "  - 1.让一些相关的数据，函数，类等 有逻辑的组织在一起，使逻辑结构更加清晰\n",
    "  - 2.模块中的变量，函数，和类等 可提供给其它模块或程序使用\n",
    "- 模块的分类：\n",
    "  - 1.内置模块(builtins)在解析器的内部可以直接使用\n",
    "  - 2.标准库模块，安装python时已安装具可直接使用\n",
    "  - 3.第三方模块（通常为开源），需要自己安装\n",
    "  - 4.用户自己编定的模块（可以作为其它人的第三方模块）\n",
    "- 模块的导入 import\n",
    "- import 语句\n",
    "  - 语法\n",
    "    - import 模块名1[as 模块新名1]，模块名2[as 模块新名2]，....\n",
    "  - 示例：\n",
    "    - import math # 导入数学模块\n",
    "    - import sys , os #导入sys和os模块\n",
    "    - import copy as cp\n",
    "  - 作用：\n",
    "    - 将一个模块整体导入 到当前模块中\n",
    "  - 属性用法：\n",
    "    - 模块名.属性名\n",
    "    - help(obj)可以查看模块的文档字符串  "
   ]
  },
  {
   "cell_type": "code",
   "execution_count": 53,
   "metadata": {},
   "outputs": [
    {
     "name": "stdout",
     "output_type": "stream",
     "text": [
      "请输入面积100\n",
      "请输入半径10\n",
      "圆的面积 314.1592653589793\n",
      "圆的半径 5.641895835477563\n"
     ]
    }
   ],
   "source": [
    "'''练习\n",
    "1.输入一个圆的半径，打印出这个圆的面积\n",
    "2.输入一个圆面积，打印出这个圆的半径\n",
    "（要求用math模块内的函数和变量）'''\n",
    "import math\n",
    "s = float(input('请输入面积'))\n",
    "r = float(input('请输入半径'))\n",
    "area = math.pi*r**2\n",
    "print('圆的面积',area)\n",
    "print('圆的半径',math.sqrt(s/math.pi))\n"
   ]
  },
  {
   "cell_type": "markdown",
   "metadata": {},
   "source": [
    "- from import 语句\n",
    "  - 语法:\n",
    "         from 模块名 import 模块属性名1 [as 属性新名1][,模块属性名2[as 属性新名2], ...]\n",
    "  - 作用：\n",
    "          将某模块内的一个或多个属性导入到当前模块的作用域\n",
    "\n",
    "  - 示例:\n",
    "        from math import pi\n",
    "        from math import pow, sqrt\n",
    "        from math import factorial as fac\n",
    "        ...\n",
    "- from import *语句\n",
    "  - 语句：\n",
    "        from 模块名 import *\n",
    "  - 作用：\n",
    "        将某模块的所有属性都导入到当前模块\n",
    "  - 示例:\n",
    "        from math import *\n",
    "- dir 函数:\n",
    "      dir([对象])  返回一个字符串列表\n",
    "- 作用:\n",
    "  - 一、如果没有参数调用，则返回当前作用域内的所有变量的列表\n",
    "  - 二、如果给定一个对象作为参数，则返回这个对象的所有变量的列表\n",
    "    - 对于一个模块，返回这个模块的全部变量\n",
    "    - 对于一个类对象,返回类对象的所有变量，并递归基类对象的所有变量\n",
    "    - 对于其它对象，返回所有的变量，类变量，基类变量\n",
    "\n",
    "# 数学模块 math\n",
    "    模块名: math\n",
    "    注：\n",
    "    linux下为内建模块\n",
    "    Mac OS下为标准库模块\n",
    "    数学模块用法：\n",
    "    import math\n",
    "    # 或\n",
    "    from math import *\n",
    "    变量\t描述\n",
    "    math.e\t自然对数的底e\n",
    "    math.pi\t圆周率pi\n",
    "    函数名\t描述\n",
    "    math.ceil(x)\t对x向上取整，比如x=1.2，返回2\n",
    "    math.floor(x)\t对x向下取整，比如x=1.2，返回1\n",
    "    math.sqrt(x)\t返回x的平方根\n",
    "    math.factorial(x)\t求x的阶乘\n",
    "    math.log(x[, base])\t返回以base为底x的对数, 如果不给出base,则以自然对数e为底\n",
    "    math.log10(x)\t求以10为底x的对数\n",
    "    math.pow(x, y)\t返回 x**y (x的y次方)\n",
    "    math.fabs(x)\t返回浮点数x的绝对值\n",
    "    角度和弧度degrees互换\t\n",
    "    math.degree(x)\t将弧度x转换为角度\n",
    "    math.radians(x)\t将角度x转换为弧度\n",
    "    三角函数\t\n",
    "    math.sin(x)\t返回x的正弦(x为弧度)\n",
    "    math.cos(x)\t返回x的余弦(x为弧度)\n",
    "    math.tan(x)\t返回x的正切(x为弧度)\n",
    "    math.asin(x)\t返回x的反正弦(返回值为为弧度)\n",
    "    math.acos(x)\t返回x的反余弦(返回值为为弧度)\n",
    "    math.atan(x)\t返回x的反正切(返回值为为弧度) "
   ]
  },
  {
   "cell_type": "code",
   "execution_count": 69,
   "metadata": {},
   "outputs": [
    {
     "name": "stdout",
     "output_type": "stream",
     "text": [
      "请输入你的出生的年份1989\n",
      "请输入你的出生的月份2\n",
      "请输入你的出生的生日16\n",
      "您已出生10715天\n",
      "您的出生的是星期五\n",
      "3\n"
     ]
    }
   ],
   "source": [
    "'''\n",
    "练习：\n",
    "  写一个程序，输入你的出生日期\n",
    "    1) 算出你已经出生了多少天?\n",
    "    2) 算出你出生那天是星期几?\n",
    "'''\n",
    "import time\n",
    "a = int(input('请输入你的出生的年份'))\n",
    "b = int(input('请输入你的出生的月份'))\n",
    "c = int(input('请输入你的出生的生日'))\n",
    "t = time.mktime((a,b,c,0,0,0,0,0,0))\n",
    "d = time.time()\n",
    "z = d - t\n",
    "print('您已出生%d天'%(z/60/60//24))\n",
    "he = time.localtime(t)\n",
    "week = {0:'星期一',1:'星期二',2:'星期三',3:'星期四',4:'星期五',5:'星期六',6:'星期日',}\n",
    "print('您的出生的是%s'%week[he[6]+1])                                                                                                                                                                                                                                                                                                                                                                                                                                                                                                                                                                                                                                                                                                                                                                                                                                                                                                                                                                                                                                                                                                                                                                                                                                                                                                                                                                                                                                                                                                                                                                                                                                                                                                                                                                                                                                                                                                                                                                                                                                                                                                                                                                                                                                                                                                                                                                                                                                                                                                                                                                                                 "
   ]
  },
  {
   "cell_type": "code",
   "execution_count": null,
   "metadata": {},
   "outputs": [
    {
     "name": "stdout",
     "output_type": "stream",
     "text": [
      " 09:02:50 "
     ]
    }
   ],
   "source": [
    "# 1. 写一个程序，以电子时间格式显示时间:\n",
    "#      HH:MM:SS\n",
    "#     (要求：不停显示当前时间即可)\n",
    "import time\n",
    "def show_time():\n",
    "    while True:\n",
    "        t = time.localtime()\n",
    "#         print(t[3],t[4],t[5],sep=':',end=\"\\r\")\n",
    "        print(\"\\r %02d:%02d:%02d\"%(t[3],t[4],t[5]),end=\" \")\n",
    "        time.sleep(1)\n",
    "show_time()\n",
    "\n",
    "# # 2. 编写一个闹钟程序，启动时设置定时时间，到时间后打印\"时间到\" 然后退出\n",
    "\n",
    "# def show_time():\n",
    "#     a=int(input(\"请输入时间\"))  \n",
    "#     b=int(input(\"请输入分钟\")) \n",
    "#     while True:\n",
    "#         t = time.localtime()\n",
    "#         print(t[3],t[4],t[5],sep=':',end=\"\\r\")\n",
    "#         time.sleep(1)\n",
    "#         if t[3] == a and t[4] == b:\n",
    "#             print(\"时间到...\")\n",
    "#             break\n",
    "\n",
    "# show_time()\n",
    "#   3. 编写函数fun,其功能是求下列多项式的和:\n",
    "#     Sn = 1 + 1/1! + 1/2! + 1/3! + 1/4! +...+ 1/n!\n",
    "#     建议用数学模块中的math.factorial来求\n",
    "#     当n为50时，Sn的值\n",
    "from math import factorial as fac\n",
    "# def fun(n):\n",
    "#     sn = 1\n",
    "#     s = 1\n",
    "#     while s<=n:\n",
    "#         sn+= 1/fac(s)\n",
    "#         s +=1\n",
    "#     return sn\n",
    "# print(fun(500))\n",
    "def fun(n):\n",
    "    if n == 1:\n",
    "        return 2\n",
    "    return 1/fac(n) + fun(n-1)\n",
    "print(fun(500))"
   ]
  },
  {
   "cell_type": "code",
   "execution_count": 80,
   "metadata": {},
   "outputs": [
    {
     "name": "stdout",
     "output_type": "stream",
     "text": [
      "1529406850.6936789\n"
     ]
    }
   ],
   "source": []
  }
 ],
 "metadata": {
  "kernelspec": {
   "display_name": "Python 3",
   "language": "python",
   "name": "python3"
  },
  "language_info": {
   "codemirror_mode": {
    "name": "ipython",
    "version": 3
   },
   "file_extension": ".py",
   "mimetype": "text/x-python",
   "name": "python",
   "nbconvert_exporter": "python",
   "pygments_lexer": "ipython3",
   "version": "3.6.4"
  }
 },
 "nbformat": 4,
 "nbformat_minor": 2
}
