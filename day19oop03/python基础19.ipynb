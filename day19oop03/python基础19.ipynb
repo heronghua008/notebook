{
 "cells": [
  {
   "cell_type": "markdown",
   "metadata": {},
   "source": [
    "- 用于类的函数\n",
    "  - issubclass(cls, class_or_tuple)   判断一个类是否继承自其它的类,如果此类cls是class或 tuple中的一个派生子类则返回True,否则返回False"
   ]
  },
  {
   "cell_type": "code",
   "execution_count": 52,
   "metadata": {},
   "outputs": [
    {
     "name": "stdout",
     "output_type": "stream",
     "text": [
      "False\n",
      "True\n",
      "True\n"
     ]
    }
   ],
   "source": [
    "# issubclass.py\n",
    "class A:\n",
    "    pass\n",
    "class B(A):\n",
    "    pass\n",
    "class C(B):\n",
    "    pass\n",
    "print(issubclass(B,C))\n",
    "print(issubclass(C,(A,B)))\n",
    "print(issubclass(bool,(C,B,A,int)))"
   ]
  },
  {
   "cell_type": "markdown",
   "metadata": {},
   "source": [
    "# 封装 enclosure\n",
    "  - 封装是指隐藏类的实现细节，让使用者不用关心这些细节\n",
    "  - 封装的目的是让使用者通过尽可能少的方法（或属性）操作对象\n",
    "- 私有属性和方法：\n",
    "  - python类中以双下划线\"\\__\"开头"
   ]
  },
  {
   "cell_type": "code",
   "execution_count": 79,
   "metadata": {},
   "outputs": [
    {
     "name": "stdout",
     "output_type": "stream",
     "text": [
      "A类的infos访问的__p1属性 45\n",
      "45\n",
      "我是A类的__m1方法!\n"
     ]
    }
   ],
   "source": [
    "# 01_enclosure.py\n",
    "\n",
    "\n",
    "# 此示例示意使用私有属性和私有方法:\n",
    "class A:\n",
    "    def __init__(self,n):\n",
    "        self.__p1 = n  #__p1为私有属性,在类的外部不可访问\n",
    "\n",
    "    def infos(self,n):\n",
    "        self.__p1 = n\n",
    "        print(\"A类的infos访问的__p1属性\",self.__p1)\n",
    "    def test(self):\n",
    "        print(self.__p1)  # 可以访问\n",
    "        self.__m1()  # A类的方法可以调用A类的私有方法\n",
    "\n",
    "    def __m1(self):\n",
    "        '''我是私有方法,只有我自己的类中的方法才能调用我哦'''\n",
    "        print(\"我是A类的__m1方法!\")\n",
    "\n",
    "a = A(20)  # 创建对象\n",
    "# print(a.__p1)  # 在类外看不到__p1属性,访问失败!\n",
    "a.infos(45)\n",
    "a.test()\n",
    "# a.__m1()  # 出错.无法调用私有方法a"
   ]
  },
  {
   "cell_type": "markdown",
   "metadata": {},
   "source": [
    "- 多态 polymorphic\n",
    "- 什么是多态\n",
    "  - 字面意思：多种状态\n",
    "  - 状态：\n",
    "    - 静态（编译时状态）\n",
    "    - 动态（运行时状态） # python 只有动态\n",
    "  - 多态是指在有继承/派生关系的类中，调用基类对象的方法，实际能调用子类覆盖方法的现象叫多态\n",
    "  - 说明：\n",
    "    - 多态调用的方法与对象相关，不与类型相关\n",
    "    - python全部对象只有运行时状态（动态）\n",
    "    - 没有“c++语言”里的编译时状态（静态）"
   ]
  },
  {
   "cell_type": "code",
   "execution_count": 2,
   "metadata": {},
   "outputs": [
    {
     "name": "stdout",
     "output_type": "stream",
     "text": [
      "正在画一个圆\n",
      "正在画一个点\n"
     ]
    }
   ],
   "source": [
    "# 02_poly.py\n",
    "\n",
    "# 此示例示意python的多态（静态）\n",
    "class Shape:\n",
    "    def draw(self):\n",
    "        print(\"Shape.draw被调用\")\n",
    "\n",
    "class Point(Shape):\n",
    "    def draw(self):\n",
    "#         super().draw()\n",
    "        \n",
    "        print('正在画一个点')\n",
    "\n",
    "class Circle(Point):\n",
    "    def draw(self):\n",
    "        print(\"正在画一个圆\")\n",
    "#         super().draw()\n",
    "\n",
    "def my_draw(s):\n",
    "    s.draw()  # 此处显示出多态中的动态\n",
    "\n",
    "s1 = Circle()\n",
    "s2 = Point()\n",
    "\n",
    "my_draw(s1)  # 调用Circle里的draw\n",
    "my_draw(s2)  # 调用Point里的draw"
   ]
  },
  {
   "cell_type": "markdown",
   "metadata": {},
   "source": [
    "# 面向对象的编程语言的特征\n",
    " - 封装\n",
    " - 继承/派生 \n",
    " - 多态\n",
    "- 多继承 muliple inheritance\n",
    "  - 多继承是指一个子类继续自两个或两个以上的基类\n",
    "  - 语法：\n",
    "    - class 类名（基类名1，基类名2，...)\n",
    "  - 说明：\n",
    "    - 一个子类同时继承自多个父类，父类中的方法可以同时被继承下来如果两个父类中有同名的方法，则在子类中又没有覆盖，此方法时，调用结果难以确定 "
   ]
  },
  {
   "cell_type": "code",
   "execution_count": 89,
   "metadata": {},
   "outputs": [
    {
     "name": "stdout",
     "output_type": "stream",
     "text": [
      "飞机以海拔 10000 的高度飞行\n",
      "汽车以 300 公里/小时的速度行驶\n"
     ]
    }
   ],
   "source": [
    "# 03_multi_inherit.py\n",
    "\n",
    "\n",
    "''' 此示例示意多继承的语句和使用\n",
    "'''\n",
    "class Car:\n",
    "    def run(self, speed):\n",
    "        print(\"汽车以\", speed, '公里/小时的速度行驶')\n",
    "\n",
    "class Plane:\n",
    "    def fly(self, height):\n",
    "        print(\"飞机以海拔\", height, '的高度飞行')\n",
    "\n",
    "class PlaneCar(Car, Plane):\n",
    "    '''PlaneCar同时继承自汽车类和飞机类'''\n",
    "\n",
    "p1 = PlaneCar()\n",
    "p1.fly(10000)\n",
    "p1.run(300)"
   ]
  },
  {
   "cell_type": "code",
   "execution_count": 1,
   "metadata": {},
   "outputs": [
    {
     "name": "stdout",
     "output_type": "stream",
     "text": [
      "A.m()被调用\n",
      "B.m()被调用\n"
     ]
    },
    {
     "data": {
      "text/plain": [
       "(__main__.AB, __main__.A, __main__.B, object)"
      ]
     },
     "execution_count": 1,
     "metadata": {},
     "output_type": "execute_result"
    }
   ],
   "source": [
    "# 04_multi_inherit_bug.py\n",
    "\n",
    "\n",
    "# 小张写了一个类A\n",
    "class A:\n",
    "    def m(self):\n",
    "        print(\"A.m()被调用\")\n",
    "\n",
    "# 小李写了一个类B:\n",
    "class B:\n",
    "    def m(self):\n",
    "        print('B.m()被调用')\n",
    "\n",
    "# 小王感觉小张和小李写的两个类自己可以用\n",
    "class AB(A,B):\n",
    "    pass\n",
    "#     def m(self):\n",
    "#         print(\"AB.m()被调用\")\n",
    "\n",
    "ab = AB()\n",
    "ab.m()  # 请问调用谁?\n",
    "super(A,ab).m()\n",
    "AB.__mro__"
   ]
  },
  {
   "cell_type": "markdown",
   "metadata": {},
   "source": [
    "- 继承的MRO(Method Resolution Order)问题\n",
    "  - 类内的\\__mro\\__属性用来记录继承方法的查找顺序\n",
    "- 函数重写 overwrite\n",
    "  - 什么是函数重写\n",
    "    - 在自定义的类内添加相应的方法，让自定义的类生成的对象（实例）像内建对象一样进行函数操作\n",
    "- 对象转字符串函数：\n",
    "  - repr(x) 返回一个能代表此对象的表达式字符串，通常：\n",
    "    - eval(repr(obj)) = obj\n",
    "    - str(obj) 通过给定的对象返回一个字符串(这个字符串通常是给人看的)\n",
    "- 对象转字符串函数的重写方法\n",
    "  - repr() 函数的重写方法\n",
    "        def __repr__(self):\n",
    "            ....\n",
    "            return 能够表达self内容的字符串\n",
    "  - str()  函数的重写方法：\n",
    "        def __str__(self):\n",
    "            ....\n",
    "            return 人能看懂的字符串\n",
    "- 说明:\n",
    "        1. str(obj) 函数优先调用obj.__str__()方法返回字符串\n",
    "        2. 如果obj没有__str__()方法,则调用obj.__repr__()方法返回的字符串\n",
    "        3. 如果obj没有__repr__()方法,则调用object类的 __repr__() 实例方法显示<xxxx>格式的字答鼓足 "
   ]
  },
  {
   "cell_type": "code",
   "execution_count": 90,
   "metadata": {
    "scrolled": true
   },
   "outputs": [
    {
     "name": "stdout",
     "output_type": "stream",
     "text": [
      "__repr__被调用\n",
      "MyNumber(100)\n"
     ]
    }
   ],
   "source": [
    "# 07_str_repr.py\n",
    "\n",
    "\n",
    "# 此示例示意一个自定义的数字类型重写 repr和 str的方法\n",
    "class MyNumber:\n",
    "    def __init__(self, value):\n",
    "        self.data = value\n",
    "    def __str__(self):\n",
    "        print(\"__str__被调用\")\n",
    "        return \"数字: %d\" % self.data\n",
    "    def __repr__(self):\n",
    "        print(\"__repr__被调用\")\n",
    "        return 'MyNumber(%d)' % self.data\n",
    "\n",
    "n1 = MyNumber(100)\n",
    "# print(str(n1))  # 调用 n1.__str__(self)\n",
    "print(repr(n1))\n",
    "# print(n1)\n",
    "# # n2 = eval(\"MyNumber(100)\")\n",
    "# print(n2)"
   ]
  },
  {
   "cell_type": "markdown",
   "metadata": {},
   "source": [
    "- 内建函数的重写\n",
    "      __abs__        abs(obj)\n",
    "      __len__        len(obj)\n",
    "      __reversed__   reversed(obj)\n",
    "      __round__      round(obj)"
   ]
  },
  {
   "cell_type": "code",
   "execution_count": 131,
   "metadata": {},
   "outputs": [
    {
     "name": "stdout",
     "output_type": "stream",
     "text": [
      "100\n"
     ]
    }
   ],
   "source": [
    "class MyInteger:\n",
    "    def __init__(self,v):\n",
    "        self.data = v\n",
    "    def __repr__(self):\n",
    "        return \"MyInteger(%d)\"%self.data\n",
    "    def __abs__(self):\n",
    "        if self.data < 0:\n",
    "            return MyInteger(-self.data)\n",
    "        return self.data\n",
    "    def __len__(self):\n",
    "        if type(self.data) is str:\n",
    "            return len(self.data)\n",
    "    def __int__(self):\n",
    "        return int(self.data)\n",
    "\n",
    "# i1 = MyInteger(-100)\n",
    "# print(i1)\n",
    "# n = abs(i1)\n",
    "# print(n)\n",
    "# i2 = MyInteger(\"200\")\n",
    "# c = len(i2)\n",
    "# print(c)\n",
    "# # print(i2)\n",
    "n1 = MyInteger(100.5)\n",
    "n = int(n1)\n",
    "print(n)"
   ]
  },
  {
   "cell_type": "markdown",
   "metadata": {},
   "source": [
    "- 布尔测试函数重写\n",
    "  - 格式：\n",
    "        def __bool__(self):\n",
    "           ....\n",
    "  - 作用：\n",
    "    - 用于bool（obj)函数取值\n",
    "    - 用于if语句真值表达式中\n",
    "    - 用于while语句的值表达式中\n",
    "  - 说明：\n",
    "    - 当自定义类内有__bool__(self)\n",
    "    "
   ]
  },
  {
   "cell_type": "code",
   "execution_count": 154,
   "metadata": {},
   "outputs": [
    {
     "ename": "SyntaxError",
     "evalue": "invalid syntax (<ipython-input-154-12a26c1158ac>, line 14)",
     "output_type": "error",
     "traceback": [
      "\u001b[1;36m  File \u001b[1;32m\"<ipython-input-154-12a26c1158ac>\"\u001b[1;36m, line \u001b[1;32m14\u001b[0m\n\u001b[1;33m    Return False\u001b[0m\n\u001b[1;37m               ^\u001b[0m\n\u001b[1;31mSyntaxError\u001b[0m\u001b[1;31m:\u001b[0m invalid syntax\n"
     ]
    }
   ],
   "source": [
    "# bool.py\n",
    "\n",
    "# 此示例示意__bool__方法及用法\n",
    "class MyList:\n",
    "    def __init__(self,iterable=()):\n",
    "        self.data = [x for x in iterable]\n",
    "    def __repr__(self):\n",
    "        return \"MyList(%s)\"%self.data\n",
    "    def __len__(self):\n",
    "        return len(self.data)\n",
    "    def __bool__(self):\n",
    "        print(\"被调用\")\n",
    "        if len(self.data) ==0:\n",
    "            return False\n",
    "        for i in self.data:\n",
    "            if i:\n",
    "                return True\n",
    "        return False\n",
    "    \n",
    "myl = MyList([0,1,2])\n",
    "print(myl)\n",
    "print(bool(myl))\n",
    "print(len(myl))"
   ]
  },
  {
   "cell_type": "markdown",
   "metadata": {},
   "source": [
    "- 迭代器(高级)\n",
    "  - 什么是迭代器\n",
    "    - 可以通过next(it) 函数取值的对象就是迭代器\n",
    "  - 迭代器协议:\n",
    "    - 迭代器协议是指对象能够使用next函数获取下一项数据,在没有下一项数据时触发一个StopIterator来终止迭代的约定\n",
    "  - 实现方法:\n",
    "    - 类内需要有 \\__next\\__(self) 方法来实现迭代器协议\n",
    "  - 语法形式:\n",
    "        class MyIterator\n",
    "            def __next__(self):\n",
    "                迭代器协议的实现\n",
    "                return 数据\n",
    "\n",
    "  - 什么是可迭代对象\n",
    "    - 是指能用iter(obj) 函数返回迭代器的对象(实例)\n",
    "    - 可迭代对象内部一定要定义\\__iter\\__(self)方法来返回迭代器\n",
    "\n",
    "  - 可迭代对象的语法形式:\n",
    "        class MyIterable:\n",
    "            def __iter__(self):\n",
    "                语句块\n",
    "                return 迭代器"
   ]
  },
  {
   "cell_type": "code",
   "execution_count": 169,
   "metadata": {},
   "outputs": [
    {
     "name": "stdout",
     "output_type": "stream",
     "text": [
      "__iter__被调用\n",
      "MyIterator.__next__方法被调用!\n",
      "MyIterator.__next__方法被调用!\n",
      "MyIterator.__next__方法被调用!\n",
      "MyIterator.__next__方法被调用!\n",
      "MyIterator.__next__方法被调用!\n",
      "MyIterator.__next__方法被调用!\n",
      "[5, 6, 7, 8, 9]\n"
     ]
    }
   ],
   "source": [
    "# 此示例示意自定义的类MyRange实现可迭代对象 \n",
    "# 用自定义的类MyIterator实现迭代器\n",
    "class MyIterator:\n",
    "    def __init__(self,start,stop,step):\n",
    "        #此变量用来记录迭代器的起始位置和当前位置\n",
    "        self.start = start\n",
    "        self.stop = stop\n",
    "        self.step = step\n",
    "    def __next__(self):\n",
    "        print(\"MyIterator.__next__方法被调用!\")\n",
    "        '''此方法用于实现迭代器协议'''\n",
    "        if self.start >= self.stop:\n",
    "            raise StopIteration\n",
    "        r = self.start#先将要返回的数存于变量r中\n",
    "        self.start += self.step#迭代器后移\n",
    "        return r#送回给next(it)调用\n",
    "class MyRange:\n",
    "    def __init__(self,start,stop=None,step=1):\n",
    "        if stop is None:\n",
    "            stop = start\n",
    "            start = 0\n",
    "        self.start = start#起始值\n",
    "        self.stop = stop#终止值\n",
    "        self.step = step#步长\n",
    "    def __repr__(self):\n",
    "        return \"MyRange(%d,%d,%d)\"%(self.start,self.stop,self.step)\n",
    "    def __iter__(self):\n",
    "        '''此方法用于把MyRange类型创建的对象当做可迭代对象'''\n",
    "        print(\"__iter__被调用\")\n",
    "        return MyIterator(self.start,self.stop,self.step)#<<<此处必须返回迭代器\n",
    "L = [x for x in MyRange(5,10)]\n",
    "print(L)\n",
    "        "
   ]
  },
  {
   "cell_type": "code",
   "execution_count": 196,
   "metadata": {},
   "outputs": [
    {
     "name": "stdout",
     "output_type": "stream",
     "text": [
      "MyList([2, 3, 4, 6])\n",
      "MyList([2, 3, 4, 6, 'E'])\n",
      "2\n",
      "3\n",
      "4\n",
      "6\n",
      "E\n",
      "列表L的长度是:  5\n"
     ]
    }
   ],
   "source": [
    "'''练习:\n",
    "  写一个Mylist 实现和list内几乎一样的功能在Mylist类内用列表来存储数据\n",
    "  如:\n",
    "    class Mylist:\n",
    "        def __init__(self,iterable = ()):\n",
    "            self.data = [x for x in iterable]\n",
    "        def append(self,v):\n",
    "            ...用于添加数据\n",
    "        ...\n",
    "    L = Mylist(\"ABCD\")\n",
    "    print(L) #['A','B','C','D']\n",
    "    L.append('E')\n",
    "    print(L) #Mylist(['A','B','C','D','E'])\n",
    "    for x in L:\n",
    "        print(x)#ABCDE\n",
    "    print(\"列表L的长度是: \",len(L))#5'''\n",
    "class Mylist:\n",
    "    def __init__(self, iterator):\n",
    "        self.data = list(iterator)\n",
    "    def __repr__(self):\n",
    "        return 'MyList(%r)' % self.data\n",
    "    def append(self,v):\n",
    "        self.data += v\n",
    "    def __len__(self):\n",
    "        return len(self.data)\n",
    "    def __iter__(self):\n",
    "        return MyListIterator(self.data)\n",
    "\n",
    "class MyListIterator:\n",
    "    def __init__(self, iter_data):\n",
    "        self.cur = 0\n",
    "        self.it_data = iter_data\n",
    "\n",
    "    def __next__(self):\n",
    "        if self.cur >= len(self.it_data):\n",
    "            raise StopIteration\n",
    "        r = self.it_data[self.cur]  \n",
    "        self.cur += 1  \n",
    "        return r\n",
    "\n",
    "        \n",
    "L = Mylist([2,3,4,6])\n",
    "print(L) #['A','B','C','D']\n",
    "L.append('E')\n",
    "print(L) #Mylist(['A','B','C','D','E'])\n",
    "for x in L:\n",
    "    print(x)#ABCDE\n",
    "print(\"列表L的长度是: \",len(L))#5"
   ]
  },
  {
   "cell_type": "code",
   "execution_count": 191,
   "metadata": {},
   "outputs": [
    {
     "name": "stdout",
     "output_type": "stream",
     "text": [
      "['k', 'e']\n"
     ]
    }
   ],
   "source": []
  }
 ],
 "metadata": {
  "kernelspec": {
   "display_name": "Python 3",
   "language": "python",
   "name": "python3"
  },
  "language_info": {
   "codemirror_mode": {
    "name": "ipython",
    "version": 3
   },
   "file_extension": ".py",
   "mimetype": "text/x-python",
   "name": "python",
   "nbconvert_exporter": "python",
   "pygments_lexer": "ipython3",
   "version": "3.6.4"
  }
 },
 "nbformat": 4,
 "nbformat_minor": 2
}
