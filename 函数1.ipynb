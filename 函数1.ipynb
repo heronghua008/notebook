{
 "cells": [
  {
   "cell_type": "markdown",
   "metadata": {},
   "source": [
    "\n",
    "# 函数\n",
    " - 作用：\n",
    "     定义用户的函数\n",
    "  - 什么是函数\n",
    "      函数是可以重复执行的代码块，可以重复使用\n",
    "    \n",
    "- 语法：\n",
    "    def 函数名（参数列表）\n",
    "        语句块(代码块）\n",
    "- 语法说明：\n",
    "    函数名是语句块的名称\n",
    "    函数名的命名规则与变量名相同\n",
    "    函数的名字是一个变量，是绑定代码的名称\n",
    "    函数有自己的名字空间朵让函数处理外部数据需要用参数给函数传入一些数据，如果不需要传入参数，\n",
    "    参数列表可以为空\n",
    "    语句块部分不能为空，如果为空需要填充pass语句   \n",
    "- 函数调用：\n",
    "    函数名（实际参数）\n",
    "- 调用说明：\n",
    "    1.函数调用是一个表达式\n",
    "    2.如果没有return语句，函数执行完毕返回None 值对象\n",
    "    3.如果函数需要返回其他的值对象需要用return语句\n",
    "    "
   ]
  },
  {
   "cell_type": "code",
   "execution_count": 13,
   "metadata": {},
   "outputs": [
    {
     "name": "stdout",
     "output_type": "stream",
     "text": [
      "调用 (45,45)\n",
      "sum2 = 90\n",
      "hello world!\n",
      "hello tarena!\n",
      "hello everybody\n",
      "hello world!\n",
      "hello tarena!\n",
      "hello everybody\n"
     ]
    }
   ],
   "source": [
    "# 示例1\n",
    "def say_hello():\n",
    "    print('hello world!')\n",
    "    print(\"hello tarena!\")\n",
    "    print(\"hello everybody\")\n",
    "    \n",
    "    \n",
    "def mysum(a,b):#a、b是函数的实际参数\n",
    "    print(\"调用 (%s,%s)\"%(a,b))\n",
    "    sum2 = a + b\n",
    "    print(\"sum2 =\",sum2)\n",
    "\n",
    "#函数调用   \n",
    "mysum(45,45) \n",
    "# print(sum2) #出错 sum2 不存在\n",
    "say_hello()\n",
    "say_hello()"
   ]
  },
  {
   "cell_type": "markdown",
   "metadata": {},
   "source": [
    "- 函数调用：\n",
    "    函数名（实际参数）\n",
    "- 调用说明：\n",
    "    1.函数调用是一个表达式\n",
    "    2.如果没有return语句，函数执行完毕返回None 值对象\n",
    "    3.如果函数需要返回其他的值对象需要用return语句"
   ]
  },
  {
   "cell_type": "code",
   "execution_count": 18,
   "metadata": {},
   "outputs": [
    {
     "name": "stdout",
     "output_type": "stream",
     "text": [
      "hello\n",
      "None\n"
     ]
    }
   ],
   "source": [
    "#示例2\n",
    "def doNothing():\n",
    "    pass  #语句块部分不能为空，如果为空需要填充pass语句 如果不写就会出错 \n",
    "\n",
    "def h():\n",
    "    print(\"hello\")\n",
    "\n",
    "# print(h())  #相当于双下三行\n",
    "_a = h()     #_a = None\n",
    "print(_a)    # None\n",
    "del _a"
   ]
  },
  {
   "cell_type": "markdown",
   "metadata": {},
   "source": [
    "- return 语句\n",
    "- 语法：\n",
    "    return[表达式]\n",
    "    []可以省略\n",
    "- 作用\n",
    "    结束当前函数的执行，返回到调用该函数的地方，同时返回一个值对象的引用关系\n",
    "- 说明\n",
    "    1.return语句后跟的表达式可以省略，省略后相当于return None\n",
    "    2.如果函数内没有return语句，则函数执行完最后一条语句后返回None （相当于\n",
    "    在最后加了一条return None语句）\n",
    "    3.函数的调用可以返回一个值一组值  \n"
   ]
  },
  {
   "cell_type": "code",
   "execution_count": null,
   "metadata": {},
   "outputs": [],
   "source": [
    "# 示例3\n",
    "def fun1():\n",
    "    print(\"fun1被调用！\")\n",
    "    return 123\n",
    "    print(\"这是fun1的最后一行\")\n",
    "\n",
    "# r = fun1()\n",
    "# print(r)\n",
    "fun1()"
   ]
  },
  {
   "cell_type": "markdown",
   "metadata": {},
   "source": [
    "# 练习：\n",
    "    定义两个函数：\n",
    "        sum3(a,b,c)用于返回三个数的和\n",
    "        pow3(x) 用于返回x的三次方\n",
    "        用以上两个函数计算：\n",
    "        1.计算1的立方+2的立方+3的立方的和\n",
    "        2.计算1+2+3的和的立方"
   ]
  },
  {
   "cell_type": "code",
   "execution_count": null,
   "metadata": {},
   "outputs": [],
   "source": [
    "def sum3(a,b,c):\n",
    "    return a+b+c\n",
    "\n",
    "def pow3(x):\n",
    "    return x**3\n",
    "\n",
    "# 2.计算1+2+3的和的立方   \n",
    "X = pow3(sum3(1,2,3))\n",
    "print(X)\n",
    "# 1.计算1的立方+2的立方+3的立方的和\n",
    "s = sum3(pow3(1),pow3(2),pow3(3))\n",
    "print(s)"
   ]
  },
  {
   "cell_type": "markdown",
   "metadata": {},
   "source": [
    "# 函数的参数传递：\n",
    "    传递方式：\n",
    "        - 1.位置传参\n",
    "        - 2.*序列传参\n",
    "        - 3.**关键字传参\n",
    "    位置传参：\n",
    "        实参的对应关系与形式参数的对应关系是以位置来依次对应的\n",
    "    示例：\n",
    "        def su3(a,b,c):\n",
    "            return a+b+c"
   ]
  },
  {
   "cell_type": "code",
   "execution_count": 8,
   "metadata": {},
   "outputs": [
    {
     "name": "stdout",
     "output_type": "stream",
     "text": [
      "I am student\n",
      "我叫jingjing, 我今年18岁了，我住我家\n"
     ]
    }
   ],
   "source": [
    "# 关键字参数\n",
    "def stu(name=\"No name\",age=0,addr=\"No addr\"):\n",
    "    print(\"I am student\")\n",
    "    print(\"我叫{0}, 我今年{1}岁了，我住{2}\".format(name,age,addr))\n",
    "    \n",
    "n = \"jingjing\"\n",
    "a = 18\n",
    "addr = \"我家\"\n",
    "stu(name=n,age=a,addr=addr)"
   ]
  },
  {
   "cell_type": "code",
   "execution_count": 7,
   "metadata": {},
   "outputs": [
    {
     "name": "stdout",
     "output_type": "stream",
     "text": [
      "mingyue is 21,and he is a good student\n",
      "xiaojing is 23,and she is a good student\n"
     ]
    }
   ],
   "source": [
    "# 默认参数示例\n",
    "# 报名函数，需要知道学生性别\n",
    "# 学习python的学生基本都是男生，所以报名时候如果没有特别指定，我们默认是男生\n",
    "def reg(name, age, gender=\"male\"):\n",
    "    if gender == \"male\":\n",
    "        print(\"{0} is {1},and he is a good student\".format(name, age))\n",
    "    else:\n",
    "        print(\"{0} is {1},and she is a good student\".format(name, age))\n",
    "\n",
    "#调用默认参数函数案例1\n",
    "reg(\"mingyue\", 21)\n",
    "reg(\"xiaojing\", 23,\"female\")"
   ]
  },
  {
   "cell_type": "code",
   "execution_count": 9,
   "metadata": {},
   "outputs": [
    {
     "name": "stdout",
     "output_type": "stream",
     "text": [
      "Hello 大家好，我先自我介绍一下：\n",
      "<class 'dict'>\n",
      "{'name': 'liuying', 'age': 19, 'addr': '北京朝阳区', 'lover': '王小静', 'work': 'Teacher'}\n",
      "name ---> liuying\n",
      "age ---> 19\n",
      "addr ---> 北京朝阳区\n",
      "lover ---> 王小静\n",
      "work ---> Teacher\n",
      "--------------------------------------------------\n",
      "Hello 大家好，我先自我介绍一下：\n",
      "<class 'dict'>\n",
      "{'name': 'heronghua'}\n",
      "name ---> heronghua\n"
     ]
    }
   ],
   "source": [
    "# 收集参数\n",
    "# 自我介绍\n",
    "# 调用的时候需要使用关键字参数调用\n",
    "def stu(**kwargs):\n",
    "    print(\"Hello 大家好，我先自我介绍一下：\")\n",
    "    print(type(kwargs))\n",
    "    print(kwargs)\n",
    "    for k,v in kwargs.items():\n",
    "        print(k,\"--->\",v)\n",
    "    \n",
    "stu(name=\"liuying\", age=19, addr=\"北京朝阳区\", lover=\"王小静\", work=\"Teacher\")\n",
    "\n",
    "print(\"-\"*50)\n",
    "\n",
    "stu(name=\"heronghua\")"
   ]
  },
  {
   "cell_type": "code",
   "execution_count": 10,
   "metadata": {},
   "outputs": [
    {
     "name": "stdout",
     "output_type": "stream",
     "text": [
      "Hello 大家好，我先自我介绍一下：\n",
      "<class 'tuple'>\n",
      "('heronghua', 29, '江苏东台', 'single')\n",
      "heronghua\n",
      "29\n",
      "江苏东台\n",
      "single\n",
      "Hello 大家好，我先自我介绍一下：\n",
      "<class 'tuple'>\n",
      "('zou da shen',)\n",
      "zou da shen\n"
     ]
    }
   ],
   "source": [
    "def stu(*args):\n",
    "    print(\"Hello 大家好，我先自我介绍一下：\")\n",
    "    print(type(args))\n",
    "    print(args)\n",
    "    for item in args:\n",
    "        print(item)\n",
    "        \n",
    "stu(\"heronghua\",29,\"江苏东台\",\"single\")\n",
    " \n",
    "stu(\"zou da shen\")"
   ]
  },
  {
   "cell_type": "code",
   "execution_count": 8,
   "metadata": {},
   "outputs": [
    {
     "name": "stdout",
     "output_type": "stream",
     "text": [
      "请输入:565465484\n",
      "484564565\n"
     ]
    }
   ],
   "source": []
  },
  {
   "cell_type": "code",
   "execution_count": null,
   "metadata": {},
   "outputs": [],
   "source": []
  }
 ],
 "metadata": {
  "kernelspec": {
   "display_name": "Python 3",
   "language": "python",
   "name": "python3"
  },
  "language_info": {
   "codemirror_mode": {
    "name": "ipython",
    "version": 3
   },
   "file_extension": ".py",
   "mimetype": "text/x-python",
   "name": "python",
   "nbconvert_exporter": "python",
   "pygments_lexer": "ipython3",
   "version": "3.6.4"
  }
 },
 "nbformat": 4,
 "nbformat_minor": 2
}
