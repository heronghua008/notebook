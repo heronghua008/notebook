{
 "cells": [
  {
   "cell_type": "markdown",
   "metadata": {},
   "source": [
    "# day16回顾：\n",
    "- 文件 file\n",
    "  - 文件的打开模式：\n",
    "    - 二进制模式 ‘b’\n",
    "    - 文本模式   ‘t’\n",
    "  - 文件的操作模式：\n",
    "    - 读 ‘r’\n",
    "    - 写 ‘w’ ‘a’ ‘x’\n",
    "    - F.close()关闭\n",
    "    - F.read(n=-1)/F.readline()/F.readlines()\n",
    "    - F.write(x)/F.writelines(列表)\n",
    "    - F.seek(偏移量offset,起始位置whence)\n",
    "    - F.tell()\n",
    "    - 文件流对象是可迭代对象"
   ]
  },
  {
   "cell_type": "markdown",
   "metadata": {},
   "source": [
    "# 面向对象编程：Object-Oriented Programing\n",
    "- 什么是对象：\n",
    "  - 对象是指现实中的物体或实体\n",
    "- 什么是面向对象\n",
    "  - 把一切看成对象（实例），用各种对象之间的关系来描述事务\n",
    "- 对象都有什么特征：\n",
    "   - 对象有很多属性(名词)\n",
    "      - 姓名, 年龄, 性别, \n",
    "   - 对象有很多行为(动作,动词)\n",
    "      - 学习,吃饭,睡觉,踢球, 工作\n",
    "- 示意：\n",
    "      车(类)  -------> BYD E6(京A.88888)  实例\n",
    "            \\\n",
    "             \\.----> BMW  X5(京B.00000)  实例\n",
    "\n",
    "      狗(类) --------> 小京巴 (户籍号: 000001)\n",
    "           \\\n",
    "            \\------> 导盲犬 (户籍号: 000002)\n",
    "\n",
    "      int(类)  ------> 100(对象/实例)\n",
    "            \\\n",
    "             \\-----> 200(对象/实例)\n",
    "- 什么是类：class\n",
    "  - 拥有相同属性和行为的对象分为一组,即为一个类\n",
    "  - 类是用来描述对象的工具,用类可以创建同类对象(实例)\n",
    "- 类的创建语句:\n",
    "  - 语法:\n",
    "        class 类名(继承列表):\n",
    "           '''类的文档字符串'''\n",
    "           实例方法定义(类内的函数称为方法method)\n",
    "           类变量定义\n",
    "           类方法定义(@classmethod)\n",
    "           静态方法定义(@staticmethod)\n",
    "  - 作用:\n",
    "    - 创建一个类\n",
    "    - 用于描述此类对象的行为和属性\n",
    "    - 类用于创建此类的一个或多个对象(实例)\n",
    "  - 说明：\n",
    "    - 继承列表可以省略，省略继承列表表示类继承自object\n",
    "    - 类名必须为标识符\n",
    "    - 类名实质上是变量，它绑定一个类"
   ]
  },
  {
   "cell_type": "code",
   "execution_count": 22,
   "metadata": {},
   "outputs": [
    {
     "name": "stdout",
     "output_type": "stream",
     "text": [
      "1298916260552\n",
      "1298916260888\n",
      "1298916247752\n"
     ]
    }
   ],
   "source": [
    "# 示例\n",
    "# 此示例示意最简单一个类\n",
    "class Dog:\n",
    "    '''这个类用于描述一种小动物的行为和属性'''\n",
    "    pass\n",
    "dog1 = Dog() # 创建一个新的Dog类的对象\n",
    "print(id(dog1)) # 打印这个对象的id\n",
    "dog2 = Dog()\n",
    "print(id(dog2))\n",
    "\n",
    "# 对比\n",
    "lst1 = list()\n",
    "print(id(lst1))"
   ]
  },
  {
   "cell_type": "markdown",
   "metadata": {},
   "source": [
    "- 构造函数\n",
    "  - 表达式:\n",
    "    - 类名([创建传参列表])\n",
    "  - 作用:\n",
    "    - 创建这个类的实例对象,并返回此实例对象的引用关系\n",
    "- 实例说明：\n",
    "  - 实例有自己的作用域和名字空间，可以为该实例添加实例变量（也叫属性）\n",
    "  - 实例可以调用类方法和实例方法\n",
    "  - 实例可以访问类变量和实例变量\n",
    "- 实例方法（method):\n",
    "  - 语法:\n",
    "        class 类名(继承列表):\n",
    "           def 实例方法名(self, 参数1, 参数2, ...):\n",
    "             '''实例方法的文档字符串'''\n",
    "               语句块\n",
    "  - 作用:\n",
    "    - 用于描述一个对象的行为,让此类型的全部对象都拥有相同的行为\n",
    "  - 说明:\n",
    "    - 实例方法实质是函数,是定义在类内的函数\n",
    "    - 实例方法至少有一个形参,第一个形参代表调用这个方法的实例,一般命名为'self'\n",
    "  - 实例方法的调用语法:\n",
    "    - 实例.实例方法名(调用传参)\n",
    "    - 类名.实例方法名(实例, 调用传参)"
   ]
  },
  {
   "cell_type": "code",
   "execution_count": 28,
   "metadata": {},
   "outputs": [
    {
     "name": "stdout",
     "output_type": "stream",
     "text": [
      "1298915847024\n",
      "id为 1298915847024 小狗正在吃 骨头\n",
      "1298915847192\n",
      "id为 1298915847192 小狗正在吃 包子\n"
     ]
    }
   ],
   "source": [
    "# 示例\n",
    "# instance_methon1.py\n",
    "# 此示例示意定义Dog类，并让Dog创建的对象有相同的行为\n",
    "class Dog:\n",
    "    def eat(self,food): # self = dog1  food = \"骨头\"\n",
    "        print(\"id为\",id(self),\"小狗正在吃\",food)\n",
    "    \n",
    "dog1 = Dog() #创建一个新的Dog类的对象\n",
    "print(id(dog1))\n",
    "dog1.eat(\"骨头\")\n",
    "dog2 = Dog()\n",
    "print(id(dog2))\n",
    "dog2.eat('包子')"
   ]
  },
  {
   "cell_type": "code",
   "execution_count": 40,
   "metadata": {},
   "outputs": [
    {
     "name": "stdout",
     "output_type": "stream",
     "text": [
      "小狗正在吃 骨头\n",
      "小狗睡了1小时\n",
      "小狗正在玩 球\n",
      "小狗正在吃 包子\n",
      "小狗睡了3小时\n",
      "小狗正在玩 添鸡鸡\n"
     ]
    }
   ],
   "source": [
    "# 示例\n",
    "# instance_methon2.py\n",
    "# 此示例示意定义Dog类，并让Dog创建的对象有相同的行为\n",
    "class Dog:\n",
    "    '''这是自定义的类，用来描述小动物行为'''\n",
    "    def eat(self,food): # self = dog1  food = \"骨头\"\n",
    "        print(\"小狗正在吃\",food)\n",
    "    def sleep(self,hour):\n",
    "              print(\"小狗睡了{}小时\".format(hour))\n",
    "    def play(self,obj):\n",
    "        print(\"小狗正在玩\",obj)\n",
    "    \n",
    "dog1 = Dog() #创建一个新的Dog类的对象\n",
    "dog1.eat(\"骨头\")\n",
    "dog1.sleep(\"1\")\n",
    "dog1.play(\"球\")\n",
    "dog2 = Dog()\n",
    "dog2.eat('包子')\n",
    "dog2.sleep(\"3\")\n",
    "dog2.play(\"添鸡鸡\")"
   ]
  },
  {
   "cell_type": "markdown",
   "metadata": {},
   "source": [
    "- 实例属性 attribute(也叫实例变量)\n",
    "  - 每个实例都可以有自己的变量,此变量称为实例变量(也叫属性)\n",
    "  属性的使用语法:\n",
    "  实例.属性名\n",
    "\n",
    "  - 赋值规则:\n",
    "    - 首次为属性赋值则创建此属性\n",
    "    - 再次为属性赋值则必变属性的绑定关系\n",
    "  - 作用:\n",
    "    - 用来记录对象自身的数据"
   ]
  },
  {
   "cell_type": "code",
   "execution_count": 4,
   "metadata": {},
   "outputs": [
    {
     "name": "stdout",
     "output_type": "stream",
     "text": [
      "黄色 的 京巴\n",
      "黑色 的 导盲犬\n",
      "黄色 的 京巴 正在吃 骨头\n",
      "黄色 的 京巴 上次吃的是 骨头\n"
     ]
    }
   ],
   "source": [
    "# attribute.py\n",
    "\n",
    "\n",
    "# 此示例示意为每个对象添加实例属性，并通过对象的方法等访问\n",
    "class Dog:\n",
    "    def infos(self):\n",
    "        print(self.color,'的',self.kinds)\n",
    "    def eat(self,food):\n",
    "        print(self.color,'的',self.kinds,'正在吃',food)\n",
    "        self.food = food\n",
    "    def food_info(self):\n",
    "        print(self.color,'的',self.kinds,'上次吃的是',self.food)\n",
    "    \n",
    "dog1 = Dog()\n",
    "dog1.kinds = \"京巴\"  # 为dog1绑定的Dog对象添加kinds属性\n",
    "dog1.color = '白色'  # 创建color实例变量\n",
    "dog1.color = '黄色'  # 改变实例变量color的绑定关系\n",
    "\n",
    "dog2 = Dog()\n",
    "dog2.kinds = '导盲犬' \n",
    "dog2.color = \"黑色\"\n",
    "# print(dog1.color,'的',dog1.kinds) # 获取属性的数据\n",
    "# print(dog2.color,'的',dog2.kinds)\n",
    "dog1.infos()\n",
    "dog2.infos()\n",
    "dog1.eat('骨头')\n",
    "dog1.food_info()"
   ]
  },
  {
   "cell_type": "code",
   "execution_count": 52,
   "metadata": {},
   "outputs": [
    {
     "name": "stdout",
     "output_type": "stream",
     "text": [
      "小张今年20岁家庭住址:北京市朝阳区\n",
      "小李今年18岁家庭住址:未知\n"
     ]
    }
   ],
   "source": [
    "# 练习：定义一个描述人的信息的类：Human\n",
    "class Human:\n",
    "    '''描述一个人的信息'''\n",
    "    def set_info(self,name,age,address=\"未知\"):\n",
    "        '''此方法为’人‘添加：姓名，年龄，家庭住址属性'''\n",
    "        self.name = name\n",
    "        self.age = age\n",
    "        self.address = address\n",
    "    \n",
    "    \n",
    "    def show_info(self):\n",
    "        '''此处显示人的信息'''\n",
    "        print('{0}今年{1}岁家庭住址:{2}'.format(self.name,self.age,self.address))\n",
    "        \n",
    "h1 = Human()\n",
    "h1.set_info('小张',20,'北京市朝阳区')\n",
    "h2 = Human()\n",
    "h2.set_info('小李',18)\n",
    "h1.show_info() # 小张今年20岁家庭住址：北京市朝阳区\n",
    "h2.show_info() # 小李今年18岁家庭住址：不详"
   ]
  },
  {
   "cell_type": "markdown",
   "metadata": {},
   "source": [
    "- 删除属性\n",
    "  - del 语句\n",
    "  - del 对象.属性名\n",
    "- 示例：\n",
    "      class Dog:\n",
    "          pass\n",
    "      dog1.Dog()\n",
    "      dog1.color = '白色' # 添加属性\n",
    "      del dog1.color    # 删除属性\n",
    "- del 语句总结：\n",
    "  - 删除变量 del a\n",
    "  - 删除列表中的元素 del L[0]\n",
    "  - 删除字典中的键  def d[\"name\"]\n",
    "  - 删除对象的属性  del dog1.color\n",
    "- 初始化方法：\n",
    "  - 作用：\n",
    "    - 对新创建的对象添加属性等初始化操作\n",
    "  - 语法格式：\n",
    "        class 类名（继承列表）：\n",
    "            def __init__(self[,形参列表])\n",
    "                语句块\n",
    "        注：[]里的内容代表可省略\n",
    "  - 说明：\n",
    "        1.初始化方法名必须为__init__ 不可改变\n",
    "        2.初始化方法会在构造函数创建实例后自动调用,且将实例自身通过第一个参数self传入__init__方法\n",
    "        3.构造函数的实参将通过__init__方法的形参列表传入 __init__ 方法中\n",
    "        4.初始化方法内如果需要return 语句返回，则只能返回None"
   ]
  },
  {
   "cell_type": "code",
   "execution_count": 16,
   "metadata": {},
   "outputs": [
    {
     "name": "stdout",
     "output_type": "stream",
     "text": [
      "Car的初始化方法被调用\n",
      "Car的初始化方法被调用\n",
      "红色 的 奥迪 A6 正在以 200 公里/小时的速度行驶\n",
      "蓝色 的 TESLA Model S 正在以 180 公里/小时的速度行驶\n",
      "蓝色 TESLA Model S\n"
     ]
    }
   ],
   "source": [
    "# _init_method.py\n",
    "class Car:\n",
    "    def __init__(self,clr,brand,modle):\n",
    "        self.color = clr # 颜色\n",
    "        self.brand = brand # 品牌\n",
    "        self.modle = modle # 型号\n",
    "        print('Car的初始化方法被调用')\n",
    "    def run(self,speed):\n",
    "        print(self.color,'的',self.brand,self.modle,'正在以',speed,'公里/小时的速度行驶')\n",
    "c1 = Car('红色','奥迪','A6')\n",
    "c2 = Car('蓝色','TESLA','Model S')\n",
    "c1.run(200)\n",
    "c2.run(180)\n",
    "print(c2.color,c2.brand,c2.modle)"
   ]
  },
  {
   "cell_type": "code",
   "execution_count": 10,
   "metadata": {},
   "outputs": [
    {
     "name": "stdout",
     "output_type": "stream",
     "text": [
      "荣华 今年 17 岁 成绩是 99\n",
      "99\n",
      "<class '__main__.Student'>\n"
     ]
    }
   ],
   "source": [
    "# 练习 写一个学生类，用来描述学生信息 \n",
    "# 要求：修改前的Student 类,\n",
    "#    1) 为该类添加初始化方法,实现在创建对象时自动设置 '姓名', '年龄', '成绩' 属性\n",
    "#    2) 添加set_score方法能为对象修改成绩信息\n",
    "#    3) 添加show_info方法打印学生对象的信息\n",
    "class Student:\n",
    "    def __init__(m,n,a,score):\n",
    "        m.name = n\n",
    "        m.age = a\n",
    "        m.score = score\n",
    "    def set_score(m,score):\n",
    "        if 0<=score<=100:\n",
    "            m.score = score\n",
    "        else:\n",
    "            raise ValueError('值不在相应的范围内')\n",
    "                \n",
    "    def show_info(m):\n",
    "        print(m.name,\"今年\",m.age,\"岁\",'成绩是',m.score)\n",
    "        \n",
    "s1 = Student('荣华',17,80)\n",
    "s1.set_score(99)\n",
    "s1.show_info()\n",
    "print(s1.score)"
   ]
  },
  {
   "cell_type": "markdown",
   "metadata": {},
   "source": [
    "- 析构方法：\n",
    "  - 语法:\n",
    "        class 类名(继承列表):\n",
    "            def __del__(self):\n",
    "               语句块\n",
    "               \n",
    "  - 说明:\n",
    "    - 析构方法在对象销毁时被自动调用\n",
    "    - python不建议在析构方法内做任何事情,因为对象销毁的时间难以确定\n",
    "  - 作用:\n",
    "    - 清理此对象所占用的资源"
   ]
  },
  {
   "cell_type": "code",
   "execution_count": null,
   "metadata": {},
   "outputs": [],
   "source": [
    "# del_metthod.py\n",
    "\n",
    "# 此示意析构方法的用法\n",
    "class Car:\n",
    "    def __init__(self,name):\n",
    "        self.name = name\n",
    "        print(\"汽车\",name,\"对象被创建\")\n",
    "    def __del__(self):\n",
    "        print(\"汽车\",self.name,\"对象被销毁\")\n",
    "c1 = Car(\"BYD E6\")\n",
    "# del c1\n",
    "# c1 = None\n",
    "# while True:\n",
    "#     pass\n",
    "print('程序结束')"
   ]
  },
  {
   "cell_type": "markdown",
   "metadata": {},
   "source": [
    "- 预置的实例属性\n",
    "      __dict__属性\n",
    "        __dict__属性绑定一个存储此实例自身变量的字典\n",
    "        \n",
    "      __class__属性\n",
    "        __class__属性绑定创建此实例的类（类实例）\n",
    "       作用:\n",
    "          可以借助此属性来访问创建此实例的类\n",
    "- 示例:\n",
    "        1. class Dog:\n",
    "            pass\n",
    "         dog1 = Dog()\n",
    "         print(dog1.__dict__) # {}\n",
    "         dog1.kinds = '京巴'\n",
    "         print(dog1.__dict__) # {'kinds': '京巴'}\n",
    "         \n",
    "        2.class Dog:\n",
    "            pass\n",
    "         dog1 = Dog()\n",
    "         dog2 = Dog()\n",
    "         dog3 = dog1.__class__()  # 创建dog1的同类对象\n",
    "- 用于类的函数：\n",
    "  - isinstance(obj, class_or_tuple) 返回这个对象obj 是否某个类class或某些类的实例,如果是则返回True, 否则返回False\n",
    "  - type(obj)  返回对象的类型   \n",
    "  - 示例：\n",
    "        class Dog:\n",
    "          pass\n",
    "        class Cat:\n",
    "          pass\n",
    "        animal = Dog()\n",
    "        isinstance(animal, Dog)  # True\n",
    "        isinstance(animal, Cat)  # False\n",
    "        isinstance(animal, (Cat, int, list))  # False\n",
    "        isinstance(animal, (Cat, int, Dog))  # True"
   ]
  },
  {
   "cell_type": "code",
   "execution_count": 20,
   "metadata": {},
   "outputs": [
    {
     "name": "stdout",
     "output_type": "stream",
     "text": [
      "张三 正在教 李四 学 python\n",
      "李四 正在教 张三 学 滑冰\n",
      "张三 上班赚了 1000 元钱\n",
      "张三 借给了 李四 200 元钱\n",
      "35 岁的 张三 有技能 ['滑冰'] ,钱包内的钱是 800\n",
      "8 岁的 李四 有技能 ['python'] ,钱包内的钱是 200\n"
     ]
    }
   ],
   "source": [
    "'''有两个人:\n",
    "    1.\n",
    "      姓名: 张三\n",
    "      年龄: 35\n",
    "    2.\n",
    "      姓名: 李四\n",
    "      年龄: 8\n",
    "    行为:\n",
    "      1. 教别人学东西 teach\n",
    "      2. 赚钱 work\n",
    "      3. 借钱 borrow\n",
    "  用程序描述如下事情：\n",
    "     张三 教 李四 学 python\n",
    "     李四 教 张三 学 滑冰\n",
    "     张三 上班赚了 1000元钱\n",
    "     李四向张三借了 200元\n",
    "     显示李四的全部信息\n",
    "     显示张三的全部信息'''\n",
    "class Human:\n",
    "    def __init__(self,n,a):\n",
    "        self.name = n\n",
    "        self.age = a\n",
    "        self.money = 0 # 钱数\n",
    "        self.skill = [] # 技能\n",
    "    def teach(self,other,skl):\n",
    "        other.skill.append(skl)\n",
    "        print(self.name,'正在教',other.name,'学',skl)\n",
    "       \n",
    "    def work(self,money):\n",
    "        self.money += money\n",
    "        print(self.name,\"上班赚了\",money,'元钱')\n",
    "        \n",
    "    def borrow(self,other,money):\n",
    "        # 先判断other有没有钱借\n",
    "        if other.money > money:\n",
    "            self.money += money\n",
    "            other.money -= money\n",
    "            print(other.name,'借给了',self.name,money,\"元钱\")\n",
    "            return True\n",
    "        print(other.name,\"没钱借给\",self.name)\n",
    "        return False\n",
    "    def show_info(self):\n",
    "        print(self.age,\"岁的\",self.name,\"有技能\",self.skill,\",钱包内的钱是\",self.money)\n",
    "    \n",
    "zhang3 = Human(\"张三\",35)\n",
    "li4 = Human(\"李四\",8)\n",
    "zhang3.teach(li4,'python')\n",
    "li4.teach(zhang3,\"滑冰\")\n",
    "zhang3.work(1000)\n",
    "li4.borrow(zhang3,200)\n",
    "zhang3.show_info()\n",
    "li4.show_info()        "
   ]
  },
  {
   "cell_type": "code",
   "execution_count": 22,
   "metadata": {},
   "outputs": [
    {
     "name": "stdout",
     "output_type": "stream",
     "text": [
      "请输入学生姓名：heronghua\n",
      "请输入年龄：28\n",
      "请输入成绩：98\n",
      "{'name': 'heronghua', 'age': 28, 'score': 98}\n"
     ]
    }
   ],
   "source": [
    "class Student:\n",
    "    def __init__(self, n, a, s):\n",
    "        self.name = n\n",
    "        self.age = a\n",
    "        self.score = s\n",
    "n = input(\"请输入学生姓名：\")\n",
    "a = int(input(\"请输入年龄：\"))\n",
    "s = int(input(\"请输入成绩：\"))\n",
    "a1 = Student(n,a,s)\n",
    "print(a1.__dict__)"
   ]
  }
 ],
 "metadata": {
  "kernelspec": {
   "display_name": "Python 3",
   "language": "python",
   "name": "python3"
  },
  "language_info": {
   "codemirror_mode": {
    "name": "ipython",
    "version": 3
   },
   "file_extension": ".py",
   "mimetype": "text/x-python",
   "name": "python",
   "nbconvert_exporter": "python",
   "pygments_lexer": "ipython3",
   "version": "3.6.4"
  }
 },
 "nbformat": 4,
 "nbformat_minor": 2
}
