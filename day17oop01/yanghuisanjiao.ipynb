{
 "cells": [
  {
   "cell_type": "code",
   "execution_count": 5,
   "metadata": {},
   "outputs": [
    {
     "name": "stdout",
     "output_type": "stream",
     "text": [
      "[1]\n",
      "[1, 1]\n",
      "[1, 2, 1]\n",
      "[1, 3, 3, 1]\n",
      "[1, 4, 6, 4, 1]\n",
      "[1, 5, 10, 10, 5, 1]\n",
      "[1, 6, 15, 20, 15, 6, 1]\n"
     ]
    }
   ],
   "source": [
    "def get_yanghui_list(n):\n",
    "    layer = []\n",
    "    L = [1]\n",
    "    for _ in range(n): # 循环\n",
    "        layer.append(L)\n",
    "        one_line = [1]\n",
    "        # 算出中间的数字\n",
    "        for i in range(len(L)-1):\n",
    "            one_line.append(L[i]+L[i+1])\n",
    "        one_line.append(1)\n",
    "        L = one_line\n",
    "    return layer\n",
    "for i in get_yanghui_list(7):\n",
    "    print(i)       "
   ]
  }
 ],
 "metadata": {
  "kernelspec": {
   "display_name": "Python 3",
   "language": "python",
   "name": "python3"
  },
  "language_info": {
   "codemirror_mode": {
    "name": "ipython",
    "version": 3
   },
   "file_extension": ".py",
   "mimetype": "text/x-python",
   "name": "python",
   "nbconvert_exporter": "python",
   "pygments_lexer": "ipython3",
   "version": "3.6.4"
  }
 },
 "nbformat": 4,
 "nbformat_minor": 2
}
