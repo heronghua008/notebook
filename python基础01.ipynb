{
 "cells": [
  {
   "cell_type": "markdown",
   "metadata": {},
   "source": [
    "# python 基础\n",
    "    创始人：Guido van Rossum(荷兰人）\n",
    "    时间： 1989 圣诞节期间\n",
    "    python的命名：源于一个喜剧团 Monty python\n",
    "\n",
    "# python 的应用领域\n",
    "    系统运维\n",
    "    网络编程\n",
    "    科学计算\n",
    "    人工智能，机器人\n",
    "    web 开发\n",
    "    大数据及数据库编程\n",
    "    云计算\n",
    "    教育\n",
    "    游戏，图像\n",
    "    其它\n",
    "# python 的优缺点\n",
    "    优点：\n",
    "        面向对象(Java,C++,Python)\n",
    "        免费\n",
    "        可移植\n",
    "        可混合编程(C/C++/Java/.net)\n",
    "        简单易学易用\n",
    "        应用领域广泛\n",
    "        开发效率高\n",
    "        开源\n",
    "    缺点：\n",
    "        与C/C++相比执行速度不够快\n",
    "        不能封闭源代码\n",
    "    python 的官网：\n",
    "        www.python.org\n",
    "# python 的版本\n",
    "    python v2.7 (2020结束维护）\n",
    "    python v3.5（当前教学的版本）\n",
    "    python v3.8 (最新版本）\n",
    "# python 的运行\n",
    "    python 的解释执行器\n",
    "        Cpython (python3)\n",
    "        Jython\n",
    "        Ironpython\n",
    "        pypy\n",
    "    第一个python程序\n",
    "        见：hello.py       "
   ]
  },
  {
   "cell_type": "code",
   "execution_count": 3,
   "metadata": {},
   "outputs": [
    {
     "name": "stdout",
     "output_type": "stream",
     "text": [
      "hello world\n",
      "hello tarana!\n",
      "today is friday!\n"
     ]
    }
   ],
   "source": [
    "# hello.py 第一个python程序\n",
    "print(\"hello world\")\n",
    "print(\"hello tarana!\")\n",
    "print(\"today is friday!\")"
   ]
  },
  {
   "cell_type": "markdown",
   "metadata": {},
   "source": [
    "# python 的注释：\n",
    "    # 开头，直到行尾\n",
    "    作用：让注释内容不参加解释执行\n",
    "# python 的核心数据类型：\n",
    "    数字（整数，浮点数，复数，布尔型）\n",
    "    字符串\n",
    "    列表等"
   ]
  },
  {
   "cell_type": "code",
   "execution_count": null,
   "metadata": {},
   "outputs": [],
   "source": []
  },
  {
   "cell_type": "code",
   "execution_count": null,
   "metadata": {},
   "outputs": [],
   "source": []
  }
 ],
 "metadata": {
  "kernelspec": {
   "display_name": "Python 3",
   "language": "python",
   "name": "python3"
  },
  "language_info": {
   "codemirror_mode": {
    "name": "ipython",
    "version": 3
   },
   "file_extension": ".py",
   "mimetype": "text/x-python",
   "name": "python",
   "nbconvert_exporter": "python",
   "pygments_lexer": "ipython3",
   "version": "3.6.4"
  }
 },
 "nbformat": 4,
 "nbformat_minor": 2
}
