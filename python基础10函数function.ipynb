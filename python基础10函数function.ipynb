{
 "cells": [
  {
   "cell_type": "markdown",
   "metadata": {},
   "source": [
    "# 函数 function\n",
    "- 什么是函数：\n",
    "      函数是可以重复执行的语句块，可以重复调用\n",
    "- 作用：\n",
    "      用于封装语句，提高代码的重用性\n",
    "      用于定义用户级别的函数\n",
    "- 语法：\n",
    "      del 函数名（形参列表）\n",
    "          语句块\n",
    "- 说明:\n",
    "  - 函数的名字就是语句块的名称\n",
    "  - 函数名的命名规则与变量名相同（函数名必须是标识符）\n",
    "  - 函数名是一个变量\n",
    "  - 函数有自己名字空间，在函数外部不可以访问函数内部的变量，在函数内部可以访问函数外部变量，要让函数处理外部数据需要用参数给函数传入一些数据\n",
    "  - 参数列表可能为空\n",
    "  - 语句部分不能为空，如果为空，需要用pass语句填充"
   ]
  },
  {
   "cell_type": "code",
   "execution_count": 13,
   "metadata": {},
   "outputs": [
    {
     "name": "stdout",
     "output_type": "stream",
     "text": [
      "hello world\n",
      "hello tarena!\n",
      "hello everyone\n"
     ]
    }
   ],
   "source": [
    "'''\n",
    "示例：\n",
    "'''\n",
    "def say_hello():\n",
    "    print('hello world')\n",
    "    print('hello tarena!')\n",
    "    print('hello everyone')\n",
    "#调用函数\n",
    "say_hello()"
   ]
  },
  {
   "cell_type": "markdown",
   "metadata": {},
   "source": [
    "- 函数调用：\n",
    "      函数调用（实际调用传递参数）\n",
    "- 说明：\n",
    "  - 函数调用是一个表达式\n",
    "  - 如果没有return语句，函数执行后返回None  \n",
    "  \n",
    "- 问题：\n",
    "      def mysum(a,b):\n",
    "          print(a + b)\n",
    "      r = mysum(100,200)   # r= None\n",
    "      print(r)         \n",
    "- 函数说明：\n",
    "  - 函数外部无法访问函数内部的局部变量\n",
    "  - 函数内部可以访问函数外部的变量，但不能修改函数外部变量的绑定关系\n",
    "  - 例如：\n",
    "        x = 0\n",
    "        def myadd(a,b):\n",
    "            x = a+b\n",
    "            print(x)\n",
    "        myadd(100,200)\n",
    "        print(x)   # 0      "
   ]
  },
  {
   "cell_type": "code",
   "execution_count": 23,
   "metadata": {},
   "outputs": [
    {
     "name": "stdout",
     "output_type": "stream",
     "text": [
      "用给传给我的第一个参数a是 2\n",
      "b= 200\n",
      "最大的是 200\n",
      "None\n"
     ]
    }
   ],
   "source": [
    "'''\n",
    "示例：\n",
    "    此示例示意函数的传参\n",
    "'''\n",
    "def mymax(a,b):#形参列表 \n",
    "    print('用给传给我的第一个参数a是',a)\n",
    "    print('b=',b)\n",
    "    if a > b:\n",
    "        print('最大的是',a)\n",
    "    else:\n",
    "        print('最大的是',b)\n",
    "    \n",
    "# 调用函数\n",
    "mymax(2,200)"
   ]
  },
  {
   "cell_type": "code",
   "execution_count": 21,
   "metadata": {},
   "outputs": [
    {
     "name": "stdout",
     "output_type": "stream",
     "text": [
      "两个数的和 5\n",
      "最小值 2\n"
     ]
    }
   ],
   "source": [
    "'''\n",
    "练习\n",
    "    用def 语句定义一个函数，此函数接收两个实参\n",
    "    1.在函数内打印丙个实参的和\n",
    "    2.在函数内打印两个实参的最小值\n",
    "'''\n",
    "def myfun(a,b):\n",
    "    print('两个数的和',a+b)\n",
    "    print('最小值',min(a,b))\n",
    "    \n",
    "myfun(2,3)"
   ]
  },
  {
   "cell_type": "markdown",
   "metadata": {},
   "source": [
    "# return 语句\n",
    "- 语法：\n",
    "  - return [表达式]  # []代表内容可以省略\n",
    "- 作用：\n",
    "  - 用于函数中，结束当前的函数的执行，返回到调用该函数的地方，同时返回表达式的引用关系\n",
    "- 说明：\n",
    "  - return语句后跟的表达式可以省略，省略后相当于 return None\n",
    "  - 如果函数没有return语句，则函数执行完最后一条语句后返回None(相当于在最后加了一条return None语句)\n",
    "  - 函数调用一定会返回一个对象的引用\n"
   ]
  },
  {
   "cell_type": "code",
   "execution_count": 17,
   "metadata": {},
   "outputs": [
    {
     "name": "stdout",
     "output_type": "stream",
     "text": [
      "200\n",
      "50\n",
      "ABCD\n"
     ]
    }
   ],
   "source": [
    "'''\n",
    "写一个函数 mymax, 实现返回两个数的最大值:\n",
    "     如:\n",
    "        def mymax(a, b):\n",
    "           ... 此处自己填写\n",
    "        print(mymax(100, 200))  # 200\n",
    "        print(mymax(50, 10))    # 50\n",
    "        print(mymax('ABC', 'ABCD')) # ABCD\n",
    "'''\n",
    "\n",
    "def mymax(a,b):\n",
    "  \n",
    "    return max(a,b)\n",
    "print(mymax(100,200))\n",
    "print(mymax(50, 10))\n",
    "print(mymax('ABC', 'ABCD'))"
   ]
  },
  {
   "cell_type": "code",
   "execution_count": 25,
   "metadata": {},
   "outputs": [
    {
     "name": "stdout",
     "output_type": "stream",
     "text": [
      "请输入一个整数：56\n",
      "请输入一个整数：46\n",
      "请输入一个整数：13\n",
      "请输入一个整数：-1\n",
      "[56, 46, 13]\n",
      "用户输入的最大数是: 56\n",
      "用户输入的最小数是: 13\n",
      "用户输入的平均值: 38.333333333333336\n"
     ]
    }
   ],
   "source": [
    "'''\n",
    "2. 写一个函数 input_number\n",
    "      def input_number():\n",
    "          ....\n",
    "      此函数用来获取用户循环输入的整数，当用户输入负数时结束输入\n",
    "      将用户输入数以列表的形式返回，再用内建函数max, min, sum 示出用户输入的最大值，最小值及和:\n",
    "      如:\n",
    "        L = input_number()\n",
    "        print(L)  # 打印此列表\n",
    "        print(\"用户输入的最大数是:\", max(L))\n",
    "        print(\"用户输入的最小数是:\", min(L))\n",
    "        print(\"用户输入平均值:\", sum(L))\n",
    "\n",
    "'''\n",
    "\n",
    "def input_number():\n",
    "    L = []\n",
    "    while True:\n",
    "        n = int(input(\"请输入一个整数：\"))\n",
    "        if n < 0:\n",
    "            return L\n",
    "        L.append(n)\n",
    "L = input_number()\n",
    "print(L)\n",
    "print(\"用户输入的最大数是:\", max(L))\n",
    "print(\"用户输入的最小数是:\", min(L))\n",
    "print(\"用户输入的平均值:\", sum(L)/len(L))        "
   ]
  },
  {
   "cell_type": "markdown",
   "metadata": {},
   "source": [
    "# 函数的参数传递\n",
    "- 传递方式\n",
    "    - 位置传递\n",
    "    - 序列传参\n",
    "    - 关键字传参\n",
    "    - 字典关键字传参\n",
    "- 位置传参:\n",
    "  - 实际参数(实参)的对应关系与形式参数(形参)的对应关系是按位置来依次对应的\n",
    "  - 示意：\n",
    "        def myfun(a, b, c):\n",
    "            pass\n",
    "\n",
    "        myfun(1, 2, 3)\n",
    "- 序列传参:\n",
    "  - 序列传参是指在函数调用过程中，用 * 将序列拆解后按位置传参的方式进行参数传递\n",
    "- 关键字传参：\n",
    "  - 关键字传参是指传参时，按着形参的名称给形参赋值\n",
    "  - 实参和形参按名称进行匹配\n",
    "- 字典关键字传参：\n",
    "  - 是指实参为字典，将字典用 ** 拆解后进行关键字传参\n",
    "- 说明:\n",
    "  - 字典的键名和形参名必须一致\n",
    "  - 字典键名必须为字符串\n",
    "  - 字典的键名要在形参中存在\n",
    "- 函数的综合传参\n",
    "  - 函数传参方式，在能确定形参能唯一匹配到相应实参的情况下可以任意组合\n",
    "  - 要求：\n",
    "        位置在前，关键字传参在后\n",
    "- 示例:\n",
    "        def myfun(a, b, c):\n",
    "            pass\n",
    "        myfun(100, *[200, 300])  # 正确\n",
    "        myfun(*'AB', 300)        # 正确\n",
    "        myfun(100, c=300, b=200) # 正确 \n",
    "        myfun(1, **{'c': 3, 'b': 2}) # 正确\n",
    "        myfun(**{'c': 3, 'b': 2}, a=1) # 正确\n",
    "        myfun(b=2, c=3, 1)  # 错误,不能确定1给谁?\n",
    "\n",
    "    \n",
    "\n",
    " "
   ]
  },
  {
   "cell_type": "code",
   "execution_count": 31,
   "metadata": {},
   "outputs": [],
   "source": [
    "'''\n",
    "示例：\n",
    "'''\n",
    "def myfun(a,b,c):\n",
    "    print('a=',a)\n",
    "    print('b=',b)\n",
    "    print('c=',c)\n",
    "\n",
    "s = 'ABC'\n",
    "l = [4,5,6]\n",
    "t = (1.2,2.2,3.3)\n",
    "myfun(*s)\n",
    "myfun(*l)\n",
    "myfun(*t)\n",
    "d = {'c': 33, 'b': 22, 'a': 11}\n",
    "myfun(**d)  # 拆解字典后再传参\n",
    "myfun(100, *[200, 300])  # 正确\n",
    "myfun(*'AB', 300)        # 正确\n",
    "myfun(100, c=300, b=200) # 正确 \n",
    "myfun(1, **{'c': 3, 'b': 2}) # 正确\n",
    "myfun(**{'c': 3, 'b': 2}, a=1) # 正确\n",
    "myfun(b=2, c=3, 1)  # 错误,不能确定1给谁?"
   ]
  },
  {
   "cell_type": "code",
   "execution_count": 42,
   "metadata": {},
   "outputs": [
    {
     "name": "stdout",
     "output_type": "stream",
     "text": [
      "请输入一个整数：1\n",
      "请输入一个整数：2\n",
      "请输入一个整数：3\n",
      "请输入一个整数：4\n",
      "请输入一个整数：5\n",
      "请输入一个整数：6\n",
      "请输入一个整数：-1\n",
      "所有的奇数 [1, 3, 5]\n",
      "所有的偶数 [2, 4, 6]\n"
     ]
    }
   ],
   "source": [
    "'''\n",
    "练习\n",
    "  1.利用上题input_nnumber获取用户输入的数字列表 \n",
    "  写一个函数split_number(L)传入到的列表\n",
    "  将所有的数字分为奇数和偶数，分别放在两个列表odds和\n",
    "  evens中\n",
    "  同时返回这两个列表打印其中的数据\n",
    "  \n",
    "'''\n",
    "def input_number():\n",
    "    L = []\n",
    "    while True:\n",
    "        n = int(input(\"请输入一个整数：\"))\n",
    "        if n < 0:\n",
    "            return L\n",
    "        L.append(n)\n",
    "# def split_number(L):\n",
    "#     odds=[]  #用来存入奇数\n",
    "#     evens=[]     #用来存入偶数\n",
    "#     for i in L:\n",
    "#         if i % 2 == 0:\n",
    "#             evens.append(i)\n",
    "#         else:\n",
    "#             odds.append(i)\n",
    "#     return odds,evens\n",
    "            \n",
    "    \n",
    "# L= input_number()\n",
    "# t = split_number(L) \n",
    "# odds,evens = t\n",
    "# print(\"所有的奇数\",odds)\n",
    "# print('所有的偶数',evens)\n",
    "\n",
    "def split_number(L):\n",
    "    odds=[i for i in L if i%2==1]\n",
    "    evens=[i for i in L if i%2==0]\n",
    "    return odds,evens\n",
    "L= input_number()\n",
    "t = split_number(L) \n",
    "odds,evens = t\n",
    "print(\"所有的奇数：\",odds)\n",
    "print('所有的偶数：',evens)\n"
   ]
  },
  {
   "cell_type": "markdown",
   "metadata": {},
   "source": [
    "# 函数的缺省参数\n",
    "- 语法\n",
    "      def 函数（形参名1=默认实参1,形参名2=默认实参2...)\n",
    "- 说明：\n",
    "  - 缺省参数必须自右至左依次存在，如果一个参数有缺省参数，则其右侧的所有参数都必须"
   ]
  },
  {
   "cell_type": "code",
   "execution_count": 3,
   "metadata": {},
   "outputs": [
    {
     "name": "stdout",
     "output_type": "stream",
     "text": [
      "小李今年1岁，住在：未填写\n",
      "tarena今年15岁，住在：未填写\n",
      "小伟今年3岁，住在：北京朝阳区\n"
     ]
    }
   ],
   "source": [
    "'''\n",
    "示例：\n",
    "'''\n",
    "def info(name,age=1,address=\"未填写\"):\n",
    "    print(name,\"今年\",age,'岁，住在：',address,sep=\"\")\n",
    "info(\"小李\")\n",
    "info(\"tarena\",15)\n",
    "info(\"小伟\",3,'北京朝阳区')"
   ]
  },
  {
   "cell_type": "code",
   "execution_count": 31,
   "metadata": {},
   "outputs": [
    {
     "name": "stdout",
     "output_type": "stream",
     "text": [
      "[]\n"
     ]
    }
   ],
   "source": [
    "# 写一个myrange(),要求myrange()\n",
    "def myrange(*args):\n",
    "    L = []\n",
    "    if len(args) == 1:\n",
    "        x = 0\n",
    "        y = args[0]\n",
    "        z = 1\n",
    "    elif len(args) == 2:\n",
    "        x,y = args\n",
    "        z = 1\n",
    "    elif len(args) == 3:\n",
    "        x,y,z = args\n",
    "    elif len(args)==0:\n",
    "        return L\n",
    "    else:\n",
    "        print(\"输入错误\")\n",
    "    while x<y:\n",
    "        L.append(x)\n",
    "        x += z\n",
    "    return L\n",
    "print(myrange(10,3))"
   ]
  },
  {
   "cell_type": "code",
   "execution_count": 9,
   "metadata": {},
   "outputs": [
    {
     "name": "stdout",
     "output_type": "stream",
     "text": [
      "30\n"
     ]
    }
   ],
   "source": [
    "'''\n",
    "练习:\n",
    "  写一个函数，mysum , 可以传入任意个实参的数字，返回所有实参的和\n",
    "    def mysum(.....):\n",
    "        ......\n",
    "    print(mysum(1, 2, 3, 4))  # 10\n",
    "    print(mysum(2,4,6))  # 12\n",
    "\n",
    "'''\n",
    "def myadd(a,b,c=0):\n",
    "    return a+b+c\n",
    "print(myadd(10,20))"
   ]
  },
  {
   "cell_type": "markdown",
   "metadata": {},
   "source": [
    "# 函数的形参定义方式:\n",
    "  - 位置形参\n",
    "  - 星号元组形参\n",
    "  - 命名关键字形参\n",
    "  - 双星号字典形参\n",
    "- 位置形参：\n",
    "      语法：\n",
    "         def 函数名（形参名1,形参名2,....）：\n",
    "             语句块\n",
    "             \n",
    "- 星号元组形参:\n",
    "      语法\n",
    "          def 函数名(*元组形参名):\n",
    "              语句块\n",
    "      作用：\n",
    "         收集多合的位置传参\n",
    "      说明:\n",
    "         元组形参名通常用: 'args'\n",
    "              "
   ]
  },
  {
   "cell_type": "code",
   "execution_count": 24,
   "metadata": {},
   "outputs": [
    {
     "name": "stdout",
     "output_type": "stream",
     "text": [
      "10\n",
      "12\n"
     ]
    }
   ],
   "source": [
    "'''\n",
    "练习:\n",
    "  写一个函数，mysum , 可以传入任意个实参的数字，返回所有实参的和\n",
    "    def mysum(.....):\n",
    "        ......\n",
    "    print(mysum(1, 2, 3, 4))  # 10\n",
    "    print(mysum(2,4,6))  # 12\n",
    "\n",
    "'''\n",
    "def mynum(*args):\n",
    "    return sum(args)\n",
    "\n",
    "print(mynum(1, 2, 3, 4))  \n",
    "print(mynum(2,4,6))  "
   ]
  },
  {
   "cell_type": "markdown",
   "metadata": {},
   "source": [
    "- 命名关键字形参\n",
    "      语法：\n",
    "           def 函数名（*,命名关键字形参）：\n",
    "               语句块\n",
    "           或\n",
    "           def 函数名（*args，命名关键字形参）\n",
    "      作用：\n",
    "             强制所有的传参都必须用关键字传参"
   ]
  },
  {
   "cell_type": "code",
   "execution_count": 26,
   "metadata": {},
   "outputs": [
    {
     "name": "stdout",
     "output_type": "stream",
     "text": [
      "1 2 300 300\n"
     ]
    }
   ],
   "source": [
    "'''\n",
    "示例：\n",
    "'''\n",
    "def fa(a,b,*,c,d):\n",
    "    print(a,b,c,d)\n",
    "# fa(1,2,3,4)  # 错的\n",
    "fa(1,2,c=300,d=300)  # * 号之后强制所有的传参都必须用关键字传参"
   ]
  },
  {
   "cell_type": "markdown",
   "metadata": {},
   "source": [
    "- 双星号字典形参\n",
    "      语法\n",
    "        def 函数名（**字典形参名）\n",
    "            语句\n",
    "      作用\n",
    "         收集多余的关键传参         "
   ]
  },
  {
   "cell_type": "code",
   "execution_count": 27,
   "metadata": {},
   "outputs": [
    {
     "name": "stdout",
     "output_type": "stream",
     "text": [
      "多余的关键字传参的个数 3\n",
      "kwargs= {'a': 10, 'b': 20, 'c': 30}\n"
     ]
    }
   ],
   "source": [
    "'''示例1'''\n",
    "def fa(**kwargs):\n",
    "    '''kwargs绑定'''\n",
    "    print('多余的关键字传参的个数',len(kwargs))\n",
    "    print('kwargs=',kwargs)\n",
    "    \n",
    "fa(a=10,b=20,c=30)"
   ]
  },
  {
   "cell_type": "markdown",
   "metadata": {},
   "source": [
    "- 函数的参数说明：\n",
    "    - 位置形参，星号元组形参，命名关键字形参和双号星字典形参可以混合使用\n",
    "- 函数参数自左至右的顺序为:\n",
    "  - 位置形参\n",
    "  - 星号元组形参\n",
    "  - 命名关键字形参\n",
    "  - 双星号字典形参\n",
    "- 综合示例:\n",
    "      def f1(a, b, *args, c, **kwargs):\n",
    "          pass\n",
    "      f1(1, 2, 3, 4, d=6, c=5, e=7)\n",
    "- 函数的不定长参数:\n",
    "      def fn(*args, **kwargs):\n",
    "          pass\n",
    "      可以接收任意的位置传参和关键字传参"
   ]
  },
  {
   "cell_type": "code",
   "execution_count": 15,
   "metadata": {},
   "outputs": [
    {
     "name": "stdout",
     "output_type": "stream",
     "text": [
      "[0, 1, 2, 3, 4, 5, 6, 7, 8, 9]\n"
     ]
    }
   ],
   "source": [
    "'''练习:\n",
    "  写一个myrange函数，此函数返回一个符合range规则的整数列表\n",
    "  如:\n",
    "    L = myrange(3)\n",
    "    print(L)  # [0,1,2]\n",
    "    L = myrange(3, 6)\n",
    "    print(L)  # [3, 4, 5]\n",
    "    L = myrange(1, 10, 3)\n",
    "    print(L)  # [1, 4, 7] '''\n",
    "# 方法一\n",
    "def myrange(end,start=0,step=1):\n",
    "    L=[]\n",
    "    if start != 0:\n",
    "        end,start = start,end\n",
    "    if step>0:\n",
    "        while start<end:\n",
    "            L.append(start)\n",
    "            start += step\n",
    "    else:\n",
    "        while end < start:\n",
    "            L.append(start)\n",
    "            start += step\n",
    "    return L\n",
    "print(myrange(10))"
   ]
  },
  {
   "cell_type": "code",
   "execution_count": 1,
   "metadata": {},
   "outputs": [
    {
     "name": "stdout",
     "output_type": "stream",
     "text": [
      "[153, 370, 371, 407]\n"
     ]
    }
   ],
   "source": [
    "''' 1. 算出100~999之间的水仙花数(Narcissistic number)\n",
    "    水仙花数是指百位的3次方 加上 十位的3次方 加上 个位的3次方等于原数的整数\n",
    "      例如:\n",
    "        153 等于 1 ** 3 + 5 ** 3 + 3 ** 3\n",
    "  建议,先写一个了数is_narcissistic(n) 来判断n是否为水仙花数,如果是返回True, 否则返回False\n",
    "    再调用此函数进行判断'''\n",
    "# 方法1\n",
    "def is_narcissistic(n):\n",
    "    return n == (n//100)**3+(n%100//10)**3+(n%10)**3\n",
    "L= [i for i in range(100,1000) if is_narcissistic(i)]\n",
    "print(L)\n",
    "# 方法2\n",
    "# for x in range(100,1000):\n",
    "#     bai = x//100\n",
    "#     shi = x%100//10\n",
    "#     ge = x%10\n",
    "#     if x == bai**3+shi**3+ge**3:\n",
    "#         print(x)"
   ]
  },
  {
   "cell_type": "code",
   "execution_count": 3,
   "metadata": {},
   "outputs": [
    {
     "name": "stdout",
     "output_type": "stream",
     "text": [
      "[2, 3, 5, 7, 11, 13, 17, 19, 23, 29, 31, 37, 41, 43, 47, 53, 59, 61, 67, 71, 73, 79, 83, 89, 97]\n"
     ]
    }
   ],
   "source": [
    "# 2. 求100以内的全部素数(质数)\n",
    "#       2 3 5 7 11 ......\n",
    "#     建议用函数来做\n",
    "#     两个函数:\n",
    "#       def is_prime(x):\n",
    "#           '''判断x是否为素数,如果是素数返回True,\n",
    "#           否则返回False'''\n",
    "#           ...\n",
    "#       def print_primes(n):\n",
    "#           '''此函数打印小于 n的全部素数\n",
    "\n",
    "#       print_primes(100)  # 开始打印....\n",
    "def is_prime(n):\n",
    "    for i in range(2,n):\n",
    "        if n % i == 0:\n",
    "            return False\n",
    "    return True\n",
    "def print_primes(n):\n",
    "    print([x for x in range(2,n) if is_prime(x) ])\n",
    "print_primes(100)"
   ]
  },
  {
   "cell_type": "code",
   "execution_count": 2,
   "metadata": {},
   "outputs": [
    {
     "name": "stdout",
     "output_type": "stream",
     "text": [
      "请输入姓名：dhfksdf\n",
      "请输入年龄：56\n",
      "请输入成绩：12\n",
      "请输入姓名：sdfhsk\n",
      "请输入年龄：56\n",
      "请输入成绩：12\n",
      "请输入姓名：\n",
      "+-------------+-------------+-------------+\n",
      "|     name    |     age     |    score    |\n",
      "+-------------+-------------+-------------+\n",
      "|   dhfksdf   |      56     |      12     |\n",
      "|    sdfhsk   |      56     |      12     |\n",
      "+-------------+-------------+-------------+\n",
      "请再添加几个学生信息...\n",
      "请输入姓名：sdfs\n",
      "请输入年龄：56\n",
      "请输入成绩：23\n",
      "请输入姓名：\n",
      "添加之后的学生信息是\n",
      "+-------------+-------------+-------------+\n",
      "|     name    |     age     |    score    |\n",
      "+-------------+-------------+-------------+\n",
      "|   dhfksdf   |      56     |      12     |\n",
      "|    sdfhsk   |      56     |      12     |\n",
      "|     sdfs    |      56     |      23     |\n",
      "+-------------+-------------+-------------+\n"
     ]
    }
   ],
   "source": [
    "# ''' 3. 将上次的student_info.py改写为两个函数:\n",
    "#       1)  def input_student():\n",
    "#               '''此函数返回用户输入的学生信息的列表\n",
    "#               返回的列表格式写之前完全相同\n",
    "#               '''\n",
    "#              ......\n",
    "#       2)  def output_student(L):\n",
    "#              '''此函数把传入的列表L 打印成为表格'''\n",
    "#              ......\n",
    "#       主程序调用:\n",
    "#       docs = input_student()\n",
    "#       output_student(docs)\n",
    "#       print(\"请再添加几个学生信息...\")\n",
    "#       docs += input_student()\n",
    "#       print(\"添加之后的学生信息是\")\n",
    "#       output_student(docs)\n",
    "#  '''\n",
    "def input_student():    \n",
    "    L = []\n",
    "    while True:\n",
    "        z = {}\n",
    "        z[\"name\"] = input('请输入姓名：')\n",
    "        if not z[\"name\"]:\n",
    "            break\n",
    "        z[\"age\"] = int(input('请输入年龄：'))\n",
    "        z[\"score\"] = int(input('请输入成绩：'))\n",
    "        L.append(z)\n",
    "    return L\n",
    "def output_student(L):\n",
    "    a = \"+\"+\"-\"*13+\"+\"+\"-\"*13+\"+\"+\"-\"*13+\"+\"\n",
    "    print(a)\n",
    "    print(\"|\"+\"name\".center(13)+\"|\"+\"age\"\n",
    "          .center(13)+\"|\"+\"score\".center(13)+\"|\")\n",
    "    print(a)\n",
    "    for i in L:\n",
    "        print(\"|\"+i[\"name\"].center(13)+\"|\"+str(i[\"age\"])\n",
    "              .center(13)+\"|\"+str(i[\"score\"]).center(13)+\"|\")\n",
    "    print(a)\n",
    "    \n",
    "docs = input_student()\n",
    "output_student(docs)\n",
    "print(\"请再添加几个学生信息...\")\n",
    "docs += input_student()\n",
    "print(\"添加之后的学生信息是\")\n",
    "output_student(docs)"
   ]
  }
 ],
 "metadata": {
  "kernelspec": {
   "display_name": "Python 3",
   "language": "python",
   "name": "python3"
  },
  "language_info": {
   "codemirror_mode": {
    "name": "ipython",
    "version": 3
   },
   "file_extension": ".py",
   "mimetype": "text/x-python",
   "name": "python",
   "nbconvert_exporter": "python",
   "pygments_lexer": "ipython3",
   "version": "3.6.4"
  }
 },
 "nbformat": 4,
 "nbformat_minor": 2
}
