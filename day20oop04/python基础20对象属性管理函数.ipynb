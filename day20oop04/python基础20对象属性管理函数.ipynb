{
 "cells": [
  {
   "cell_type": "markdown",
   "metadata": {},
   "source": [
    "# 对象属性管理函数：\n",
    "- getattr(obj, name[, default])\t从一个对象得到对象的属性；getattr(x, 'y') 等同于x.y; 当属性不存在时,如果给\n",
    "出default参数,则返回default,如果没有给出default 则产生一个AttributeError错误\n",
    "- hasattr(obj, name)\t用给定的name返回对象obj是否有此属性,此种做法可以避免在getattr(obj, name)时引发错误\n",
    "- setattr(obj, name, value)\t给对象obj的名为name的属性设置相应的值value, set(x, 'y', v) 等同于 x.y = v\n",
    "- delattr(obj, name)\t删除对象obj中的name属性, delattr(x, 'y') 等同于 del x.y"
   ]
  },
  {
   "cell_type": "code",
   "execution_count": 77,
   "metadata": {},
   "outputs": [
    {
     "name": "stdout",
     "output_type": "stream",
     "text": [
      "胸无定力 何以星辰大海\n",
      "-1\n",
      "True\n"
     ]
    }
   ],
   "source": [
    "# 示例属性管理函数\n",
    "class Dog:\n",
    "    def __init__(self,name,colse):\n",
    "        self.name = name\n",
    "        self.colse = colse\n",
    "a1 =Dog(\"jiangkanglei\",\"白色\")\n",
    "setattr(a1, \"heronghua\",\"黑色\")\n",
    "a1.heronghua = \"胸无定力 何以星辰大海\"\n",
    "print(a1.heronghua)\n",
    "delattr(a1,\"heronghua\")\n",
    "print(getattr(a1,\"heronghua\",-1))\n",
    "print(hasattr(a1,\"name\"))\n"
   ]
  },
  {
   "cell_type": "markdown",
   "metadata": {},
   "source": [
    "# 异常（高级）\n",
    "- 异常相关的语句：\n",
    "  - try - except\n",
    "  - try - finally  一定会执行\n",
    "  - raise 触发异常，发生错误通知\n",
    "  - assert 根据条件触发AssertionError类型的错误通知\n",
    "## with语句\n",
    "- 语法：\n",
    "  - with 表达式1 [as 变量1]，表达式2 [as 变量2]， ...\n",
    "        语句块\n",
    "- 作用：\n",
    "  - 使用于对资源进行访问的场合，确保使用过程中不管是否发生异常，都会执行必须“清理”操作，并释放资源\n",
    "  - 如：文件使用后自动关闭，线程中锁的自动获取和释放等。\n",
    "- 说明：\n",
    "  - 执行表达式，用as子句的变量绑定生成的对象\n",
    "  - with 语句并不必变异常的状态\n",
    "## 环境管理器（也叫上下文管理器）\n",
    "- 类内有\\__enter\\__方法和\\__exit\\__实例方法的类被称为环境管理器\n",
    "- 能够用with语句进行管理的对象必须是环境管理器\n",
    "- \\__enter\\__将在进入with语句时被调用，并返回由as变量绑定的对象\n",
    "- \\__exit\\__将在离开with语句时被调用，且可以用参数来判断在离开with语句时是否有异常发生并做出相应的处理\n",
    "- 如：hlpe(obj)\n",
    "          Methods inherited from _IOBase:\n",
    "         |  \n",
    "         |  __del__(...)\n",
    "         |  \n",
    "         |  __enter__(...)\n",
    "         |  \n",
    "         |  __exit__(...)\n",
    "         |  \n",
    "         |  __iter__(self, /)\n",
    "         |      Implement iter(self)."
   ]
  },
  {
   "cell_type": "code",
   "execution_count": 96,
   "metadata": {},
   "outputs": [
    {
     "name": "stdout",
     "output_type": "stream",
     "text": [
      "请输入源文件：\n",
      "请输入目标文件：\n",
      "复制失败\n"
     ]
    }
   ],
   "source": [
    "# with.py\n",
    "\n",
    "\n",
    "# 此示例示意with语句的用法\n",
    "src_file = input(\"请输入源文件：\")\n",
    "dst_file = input(\"请输入目标文件：\")\n",
    "try:\n",
    "    with open(src_file,\"rb\") as src,open(dst_file,\"wb\") as dst:\n",
    "        b = src.read()\n",
    "        dst.write(b)\n",
    "except OSError:\n",
    "    print(\"复制失败\")"
   ]
  },
  {
   "cell_type": "code",
   "execution_count": 95,
   "metadata": {},
   "outputs": [
    {
     "name": "stdout",
     "output_type": "stream",
     "text": [
      "已经进入了with语句\n",
      "这是with语句里的打印的\n",
      "已经离开了with语句\n",
      "离开with语句时出现异常\n",
      "异常类型是 <class 'ZeroDivisionError'>\n",
      "错误的值是 division by zero\n",
      "有异常发生，程序已转为正常\n",
      "程序正常报错\n"
     ]
    }
   ],
   "source": [
    "# with.py\n",
    "\n",
    "\n",
    "# 此示例示意环境管理类的管理定义的使用\n",
    "class A:\n",
    "    '''此类的对象可以用于with语句进行管理'''\n",
    "    def __enter__(self):\n",
    "        print('已经进入了with语句')\n",
    "        return self\n",
    "    def __exit__(self,exc_type,exc_value,exc_tb): # j里面必须要三个行参\n",
    "        print('已经离开了with语句')\n",
    "        if exc_type is None:\n",
    "            print(\"在with语句内部没有发生异常，正常离开with\")\n",
    "        else:\n",
    "            print(\"离开with语句时出现异常\")\n",
    "            print(\"异常类型是\",exc_type)\n",
    "            print(\"错误的值是\",exc_value)\n",
    "try:    \n",
    "    with A() as a:\n",
    "        print('这是with语句里的打印的')\n",
    "        3/0\n",
    "except:\n",
    "    print(\"有异常发生，程序已转为正常\")\n",
    "print(\"程序正常报错\")\n"
   ]
  },
  {
   "cell_type": "markdown",
   "metadata": {},
   "source": [
    "## 运算符重载\n",
    "- 什么是运算符重载：\n",
    "  - 让自定义的类生成的对象（实例）能够实例运算符进行操作\n",
    "- 作用：\n",
    "  - 让自定义类的实例像内建对象一样进行运算符操作\n",
    "  - 让程序简洁易读\n",
    "  - 对自定义的对象将运算符赋予新的运算规则\n",
    "- 说明：\n",
    "  - 运算符重载方法的参数已经有固定的含义，不建议改变原有的意义算术运算重载\n",
    "\n",
    "- \\--------------方法名--------------------------运算符和表达式-------------------------说明\n",
    "        __add__(self, rhs)             self + rhs                加法\n",
    "        __sub__(self, rhs)             self - rhs                减法\n",
    "        __mul__(self, rhs)             self * rhs                乘法\n",
    "        __truediv__(self, rhs）          self / rhs                除法\n",
    "        __floordiv__(self, rhs)          self // rhs               地板除法\n",
    "        __mod__(self, rhs)             self % rhs                求余\n",
    "        __pow__(self, rhs)             self ** rhs               冪\n"
   ]
  },
  {
   "cell_type": "code",
   "execution_count": 146,
   "metadata": {},
   "outputs": [
    {
     "name": "stdout",
     "output_type": "stream",
     "text": [
      "MyNumber(300)\n",
      "MyNumber(-100)\n"
     ]
    }
   ],
   "source": [
    "# mynumber.py\n",
    "\n",
    "\n",
    "# 此示例示意自定义的类通过运算符重载实现运算符扣件\n",
    "class MyNumber:\n",
    "    def __init__(self,v):\n",
    "        self.data = v\n",
    "    def __repr__(self):\n",
    "        return \"MyNumber(%d)\"%self.data\n",
    "    def __add__(self,other):\n",
    "        \"\"\"实现加法操作，生成一个新的对象并返回给调用者\"\"\"\n",
    "        return MyNumber(self.data + other.data)\n",
    "    def __sub__(self,other):\n",
    "        return MyNumber(self.data - other.data)\n",
    "\n",
    "n1 = MyNumber(100)\n",
    "n2 = MyNumber(200)\n",
    "n3 = n1 + n2 # 等同于n1.__add__(n2)\n",
    "n4 = n1 - n2\n",
    "\n",
    "print(n3)\n",
    "print(n4)"
   ]
  },
  {
   "cell_type": "markdown",
   "metadata": {},
   "source": [
    "## 二元运算符重载方法格式\n",
    "    def \\__xxx\\__(self,other):\n",
    "          运算规则的语句..."
   ]
  },
  {
   "cell_type": "code",
   "execution_count": 155,
   "metadata": {},
   "outputs": [
    {
     "name": "stdout",
     "output_type": "stream",
     "text": [
      "MyList([1, 2, 3, 4, 5, 6])\n",
      "MyList([4, 5, 6, 1, 2, 3])\n",
      "MyList([1, 2, 3, 1, 2, 3])\n"
     ]
    }
   ],
   "source": [
    "'''在昨天练习Mylist 中加入加法跟乘法'''\n",
    "class Mylist:\n",
    "    class MyListIterator:\n",
    "        def __init__(self, iter_data):\n",
    "            self.cur = 0   # 迭代的起始位置\n",
    "            self.it_data = iter_data  # 绑定要迭代的列表\n",
    "\n",
    "        def __next__(self):\n",
    "            if self.cur >= len(self.it_data):\n",
    "                raise StopIteration\n",
    "            r = self.it_data[self.cur]  \n",
    "            self.cur += 1  \n",
    "            return r    # 返回此次提供的数据\n",
    "    def __init__(self, iterator):\n",
    "        self.data = list(iterator)\n",
    "    def __repr__(self):\n",
    "        return 'MyList(%r)' % self.data\n",
    "    def append(self,v):\n",
    "        self.data += v\n",
    "    def __len__(self):\n",
    "        return len(self.data)\n",
    "    def __add__(self,other):                 # 加法\n",
    "        return Mylist(self.data + other.data)\n",
    "    def __mul__(self, rhs):                  # 乘法\n",
    "        return Mylist(self.data * rhs)\n",
    "    def __iter__(self):\n",
    "        return  Mylist.MyListIterator(self.data)  # 把MyListIterator类放到Mylist类里面 需要加上Mylist\n",
    "\n",
    "# class MyListIterator:\n",
    "#     def __init__(self, iter_data):\n",
    "#         self.cur = 0   # 迭代的起始位置\n",
    "#         self.it_data = iter_data  # 绑定要迭代的列表\n",
    "\n",
    "#     def __next__(self):\n",
    "#         if self.cur >= len(self.it_data):\n",
    "#             raise StopIteration\n",
    "#         r = self.it_data[self.cur]  \n",
    "#         self.cur += 1  \n",
    "#         return r    # 返回此次提供的数据\n",
    "\n",
    "        \n",
    "# L = Mylist([2,3,4,6])\n",
    "# print(L) #['A','B','C','D']\n",
    "# L.append('E')\n",
    "# print(L) #Mylist(['A','B','C','D','E'])\n",
    "# for x in L:\n",
    "#     print(x)#ABCDE\n",
    "# print(\"列表L的长度是: \",len(L))#5\n",
    "L1 = Mylist([1,2,3])\n",
    "L2 = Mylist([4,5,6])\n",
    "L5 = L1 * 2\n",
    "L3 = L1 + L2\n",
    "L4 = L2 + L1\n",
    "print(L3)\n",
    "print(L4)\n",
    "print(L5)"
   ]
  },
  {
   "cell_type": "markdown",
   "metadata": {},
   "source": [
    "## 反向算术符的重载\n",
    "- 当运算符的左侧为内建类型时，右侧为自定义类型进行算术运算时，会出现TypeError错误，因无法修改内建类型的代码来实现运算符重载，此时需要使用反向算术运算符重载来完成重载\n",
    "      反向算术运算符的重载:\n",
    "      __radd__(self, lhs)        lhs + self   加法\n",
    "      __rsub__(self, lhs)        lhs - self   减法\n",
    "      __rmul__(self, lhs)        lhs * self   乘法\n",
    "      __rtruediv__(self, lhs)    lhs / self   除法\n",
    "      __rfloordiv__(self, lhs)   lhs // self  地板除法\n",
    "      __rmod__(self, lhs)        lhs % self   求余\n",
    "      __rpow__(self, lhs)        lhs ** self  冪"
   ]
  },
  {
   "cell_type": "code",
   "execution_count": 157,
   "metadata": {},
   "outputs": [
    {
     "name": "stdout",
     "output_type": "stream",
     "text": [
      "MyList([1, 2, 3, 1, 2, 3])\n",
      "MyList([1, 2, 3, 1, 2, 3])\n"
     ]
    }
   ],
   "source": [
    "# 此示例示意反向算术符重载\n",
    "\n",
    "class Mylist:\n",
    "    def __init__(self, iterator):\n",
    "        self.data = list(iterator)\n",
    "    def __repr__(self):\n",
    "        return 'MyList(%r)' % self.data\n",
    "    def __mul__(self, rhs):                  # 乘法\n",
    "        return Mylist(self.data * rhs)\n",
    "    def __rmul__(self,rhs):\n",
    "        return Mylist(self.data * rhs)\n",
    "\n",
    "L1 = Mylist([1,2,3])\n",
    "L5 = L1 * 2\n",
    "L6 = 2 * L1\n",
    "print(L5)\n",
    "print(L6)\n"
   ]
  },
  {
   "cell_type": "markdown",
   "metadata": {},
   "source": [
    "## 复会赋值算术运算符重载\n",
    "- 以复合赋值算术符 x += y 为例，此运算符会优先调用x.\\__iadd\\__(y)方法，如果没有\\__iadd\\__方法时会将复合赋值运算符拆为x = x + y,然后调用x = x.\\__add\\__方法，如果不存在\\__add\\__方法则会触发TypeError异常\n",
    "      复合赋值算术运算符的重载\n",
    "      __iadd__(self, rhs)        self += rhs   加法\n",
    "      __isub__(self, rhs)        self -= rhs   减法\n",
    "      __imul__(self, rhs)        self *= rhs   乘法\n",
    "      __itruediv__(self, rhs)    self /= rhs   除法\n",
    "      __ifloordiv__(self, rhs)   self //= rhs  地板除法\n",
    "      __imod__(self, rhs)        self %= rhs   求余\n",
    "      __ipow__(self, rhs)        self **= rhs  冪"
   ]
  },
  {
   "cell_type": "code",
   "execution_count": 167,
   "metadata": {},
   "outputs": [
    {
     "name": "stdout",
     "output_type": "stream",
     "text": [
      "2584973469176\n",
      "__iadd__\n",
      "L1= MyList([1, 2, 3, 4, 5, 6])\n",
      "2584973469176\n"
     ]
    }
   ],
   "source": [
    "# 此示例示意复合赋值算术运算符重载 \n",
    "\n",
    "\n",
    "class Mylist:\n",
    "    def __init__(self, iterator):\n",
    "        self.data = list(iterator)\n",
    "    def __repr__(self):\n",
    "        return 'MyList(%r)' % self.data\n",
    "    def __add__(self, rhs):\n",
    "        print(\"__add__\")\n",
    "        return Mylist(self.data + rhs.data)\n",
    "    def __iadd__(self, rhs):\n",
    "        print(\"__iadd__\")\n",
    "        self.data.extend(rhs.data)\n",
    "        return self\n",
    "\n",
    "\n",
    "L1 = Mylist([1,2,3])\n",
    "print(id(L1))\n",
    "L2 = Mylist([4,5,6])\n",
    "\n",
    "L1 += L2\n",
    "print(\"L1=\",L1)\n",
    "print(id(L1))"
   ]
  },
  {
   "cell_type": "markdown",
   "metadata": {},
   "source": [
    "## 比较运算符的重载\n",
    "      比较运算符的重载\n",
    "      __lt__(self, rhs)     self <  rhs   小于\n",
    "      __le__(self, rhs)     self <= rhs   小于等于\n",
    "      __gt__(self, rhs)     self >  rhs   大于\n",
    "      __ge__(self, rhs)     self >= rhs   大于等于\n",
    "      __eq__(self, rhs)     self == rhs   等于\n",
    "      __ne__(self, rhs)     self != rhs   不等于\n",
    "      注:\n",
    "      比较运算符通常返回True或False\n",
    "\n",
    "\n",
    "\n",
    "\n",
    "\n",
    "\n"
   ]
  },
  {
   "cell_type": "code",
   "execution_count": 194,
   "metadata": {},
   "outputs": [
    {
     "name": "stdout",
     "output_type": "stream",
     "text": [
      "MyList([1, 2, 3]) > MyList([4, 5, 6]) = True\n"
     ]
    }
   ],
   "source": [
    "# 此示例示意比较运算符重载 \n",
    "\n",
    "\n",
    "class Mylist:\n",
    "    def __init__(self, iterator):\n",
    "        self.data = list(iterator)\n",
    "    def __repr__(self):\n",
    "        return 'MyList(%r)' % self.data\n",
    "    def __gt__(self,rhs):\n",
    "        return self.data > rhs.data\n",
    " \n",
    "    \n",
    "L1 = Mylist(range(1,4))\n",
    "L2 = Mylist(range(4,7))\n",
    "print(L1,\">\",L2,\"=\",L2 > L1)"
   ]
  },
  {
   "cell_type": "markdown",
   "metadata": {},
   "source": [
    "## 位运算符的重载\n",
    "    __invert__(self)       　 ~self   　　　　取反(一元运算符)\n",
    "    __and__(self, rhs)        self & 　rhs     位与\n",
    "    __or__(self, rhs)         self | 　rhs     位或\n",
    "    __xor__(self, rhs)        self ^ 　rhs     位异或\n",
    "    __lshift__(self, rhs)     self << rhs      左移\n",
    "    __rshift__(self, rhs)     self >> rhs      右移\n",
    "## 反向位运算符重载\n",
    "      __rand__(self, lhs)       lhs & 　self  位与\n",
    "      __ror__(self, lhs)        lhs | 　self  位或\n",
    "      __rxor__(self, lhs)       lhs ^ 　self  位异或\n",
    "      __rlshift__(self, lhs)    lhs << self   左移\n",
    "      __rrshift__(self, lhs)    lhs >> self   右移\n",
    "## 复合赋值位运算符重载\n",
    "      __iand__(self, rhs)       self &= 　rhs  位与\n",
    "      __ior__(self, rhs)        self |= 　rhs  位或\n",
    "      __ixor__(self, rhs)       self ^= 　rhs  位异或\n",
    "      __ilshift__(self, rhs)    self <<= rhs   左移\n",
    "      __irshift__(self, rhs)    self >>= rhs   右移\n",
    "## 一元运算符的重载\n",
    "      __neg__(self)        - self   负号\n",
    "      __pos__(self)　　　　+ self   正号\n",
    "      __invert__(self)     ~ self   取反\n",
    "- 语法格式：\n",
    "      class 类名:\n",
    "          def __xxx__(self):\n",
    "              ...\n"
   ]
  },
  {
   "cell_type": "code",
   "execution_count": 208,
   "metadata": {},
   "outputs": [
    {
     "name": "stdout",
     "output_type": "stream",
     "text": [
      "MyList([-1, 2, -3, 4, -5])\n"
     ]
    }
   ],
   "source": [
    "# 此示例示意一元运算符的重载\n",
    "\n",
    "\n",
    "class Mylist:\n",
    "    def __init__(self, iterator):\n",
    "        self.data = list(iterator)\n",
    "    def __repr__(self):\n",
    "        return 'MyList(%r)' % self.data\n",
    "    def __neg__(self):\n",
    "        ''' 规则是正变负，负变正'''\n",
    "        L = (-x for x in self.data)\n",
    "        return Mylist(L)\n",
    "\n",
    "\n",
    "L1 = Mylist([1,-2,3,-4,5])\n",
    "L2 = - L1\n",
    "print(L2)"
   ]
  },
  {
   "cell_type": "markdown",
   "metadata": {},
   "source": [
    "## in / not in 运算符的重载\n",
    "      重载方法:\n",
    "        __contains__(self, e)      e in self 成员运算"
   ]
  },
  {
   "cell_type": "code",
   "execution_count": 210,
   "metadata": {},
   "outputs": [
    {
     "name": "stdout",
     "output_type": "stream",
     "text": [
      "3在L1\n",
      "4不在L1\n"
     ]
    }
   ],
   "source": [
    "# 此示例示意in / not in 运算符的重载\n",
    "class Mylist:\n",
    "    def __init__(self, iterator):\n",
    "        self.data = list(iterator)\n",
    "    def __repr__(self):\n",
    "        return 'MyList(%r)' % self.data\n",
    "    def __contains__(self,e):\n",
    "        return e in self.data\n",
    "    \n",
    "L1 = Mylist([1,-2,3,-4,5])\n",
    "if 3 in L1:\n",
    "    print(\"3在L1\")\n",
    "else:\n",
    "    print(\"3不在L1\")\n",
    "    \n",
    "if 4 not in L1:\n",
    "    print(\"4不在L1\")\n",
    "else:\n",
    "    print(\"4在L1\")"
   ]
  },
  {
   "cell_type": "markdown",
   "metadata": {},
   "source": [
    "## 索引和切片运算符的重载\n",
    "    __getitem__(self, i)      x = self[i]   索引/切片取值\n",
    "    __setitem__(self, i, v)   self[i] = v   索引/切片赋值\n",
    "    __delitem__(self, i)      del self[i]   del语句删除索引等\n",
    "\n",
    "      作用:\n",
    "        让自定义的类型的对象能够支持索引和切片操作\n"
   ]
  },
  {
   "cell_type": "code",
   "execution_count": 217,
   "metadata": {},
   "outputs": [
    {
     "name": "stdout",
     "output_type": "stream",
     "text": [
      "i= 0\n",
      "1\n",
      "MyList([1, 2, 3, -4, 5])\n"
     ]
    }
   ],
   "source": [
    "# 此示例示意索引和切片运算符的重载\n",
    "class Mylist:\n",
    "    def __init__(self,iterator):\n",
    "        self.data = list(iterator)\n",
    "    def __repr__(self):\n",
    "        return 'MyList(%r)' % self.data\n",
    "    def __getitem__(self,i):\n",
    "        print(\"i=\",i)\n",
    "        return self.data[i]\n",
    "    def __setitem__(self, i, v):\n",
    "        self.data[i] = v\n",
    "    \n",
    "\n",
    "L1 = Mylist([1,-2,3,-4,5])\n",
    "x = L1[0]\n",
    "print(x)\n",
    "L1[1] = 2\n",
    "print(L1)\n"
   ]
  },
  {
   "cell_type": "markdown",
   "metadata": {},
   "source": [
    "## slice 构造函数\n",
    "- 作用:\n",
    "  - 用于创建一个Slice切片对象, 此对象存储一个切片的起始值，终止值和步长信息\n",
    "  - 格式：\n",
    "        slice(start, stop=None, step=None)  创建一个切片对象\n",
    "- slice的对象的属性:\n",
    "        s.start  切片起始值,默认为None\n",
    "        s.stop   切片终止值,默认为None\n",
    "        s.step   切片步长  ,默认为None\n",
    "        "
   ]
  },
  {
   "cell_type": "code",
   "execution_count": 224,
   "metadata": {},
   "outputs": [
    {
     "name": "stdout",
     "output_type": "stream",
     "text": [
      "i= slice(None, None, 2)\n",
      "你正在执行切片取值操作\n",
      "起始值 None\n",
      "终止值 None\n",
      "步长是 2\n",
      "[1, 3, 5]\n"
     ]
    }
   ],
   "source": [
    "# 此示例示意slice构造函数\n",
    "class Mylist:\n",
    "    def __init__(self,iterator):\n",
    "        self.data = list(iterator)\n",
    "    def __repr__(self):\n",
    "        return 'MyList(%r)' % self.data\n",
    "    def __getitem__(self,i):\n",
    "        print(\"i=\",i)\n",
    "        if type(i) is slice:\n",
    "            print(\"你正在执行切片取值操作\")\n",
    "            print(\"起始值\",i.start)\n",
    "            print(\"终止值\",i.stop)\n",
    "            print(\"步长是\",i.step)\n",
    "        return self.data[i]\n",
    "\n",
    "    \n",
    "\n",
    "L1 = Mylist([1,-2,3,-4,5])\n",
    "x = L1[::2]\n",
    "print(x)"
   ]
  },
  {
   "cell_type": "markdown",
   "metadata": {},
   "source": [
    "## 特性属性 @ property\n",
    "- 实现其它语言所拥有的getter和setter功能\n",
    "- 作用：\n",
    "  - 用来模拟一个属性\n",
    "  - 通过@ property 装饰器可以对模拟的属性赋值和取值加以控制"
   ]
  },
  {
   "cell_type": "code",
   "execution_count": 228,
   "metadata": {},
   "outputs": [
    {
     "name": "stdout",
     "output_type": "stream",
     "text": [
      "59\n",
      "97\n"
     ]
    }
   ],
   "source": [
    "# property1.py\n",
    "\n",
    "# 此示例示意特性属性的用法\n",
    "class Student:\n",
    "    def __init__(self,score):\n",
    "        self.__score = score\n",
    "    def get_score(self):\n",
    "        return self.__score\n",
    "    def set_score(self,s):\n",
    "        if 0 <= S <= 100:\n",
    "            self.__score = s\n",
    "        else:\n",
    "            raise ValueError\n",
    "    score = property(get_score,set_score)\n",
    "\n",
    "c = Student(59)\n",
    "print(c.score)  #print(s.get_score())\n",
    "s.score = 97\n",
    "print(s.score)  #print(s.set_score())"
   ]
  },
  {
   "cell_type": "code",
   "execution_count": 230,
   "metadata": {},
   "outputs": [
    {
     "name": "stdout",
     "output_type": "stream",
     "text": [
      "59\n",
      "97\n"
     ]
    }
   ],
   "source": [
    "# property2.py\n",
    "\n",
    "# 此示例示意特性属性的用法\n",
    "class Student:\n",
    "    def __init__(self,score):\n",
    "        self.__score = score\n",
    "    @property\n",
    "    def score(self):\n",
    "        return self.__score\n",
    "    @score.setter\n",
    "    def score(self,s):\n",
    "        if 0 <= S <= 100:\n",
    "            self.__score = s\n",
    "        else:\n",
    "            raise ValueError\n",
    "#     score = property(get_score,set_score)\n",
    "\n",
    "c = Student(59)\n",
    "print(c.score)  #print(s.get_score())\n",
    "s.score = 97\n",
    "print(s.score)  #print(s.set_score())"
   ]
  },
  {
   "cell_type": "code",
   "execution_count": null,
   "metadata": {},
   "outputs": [],
   "source": []
  }
 ],
 "metadata": {
  "kernelspec": {
   "display_name": "Python 3",
   "language": "python",
   "name": "python3"
  },
  "language_info": {
   "codemirror_mode": {
    "name": "ipython",
    "version": 3
   },
   "file_extension": ".py",
   "mimetype": "text/x-python",
   "name": "python",
   "nbconvert_exporter": "python",
   "pygments_lexer": "ipython3",
   "version": "3.6.4"
  }
 },
 "nbformat": 4,
 "nbformat_minor": 2
}
