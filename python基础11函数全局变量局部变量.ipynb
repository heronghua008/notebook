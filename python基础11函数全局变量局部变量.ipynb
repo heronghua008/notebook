{
 "cells": [
  {
   "cell_type": "markdown",
   "metadata": {},
   "source": [
    "# 全局变量(global)局部变量(nonlocal)\n",
    "- 局部变量:\n",
    "  - 定义在函数内部的变量称为局部变量(函数的形参也是局部变量)\n",
    "  - 局部变量只能在函数内部使用\n",
    "  - 局部变量在函数调用时才能够被创建，在函数调用之后会自动销毁\n",
    "- 局部变量说明：\n",
    "  - 在函数内首次对变量赋值是创建局部变量，再次为变量赋值是修改局部变量的绑定关系\n",
    "  - 在函数内部的赋值语句不会对全局\n",
    "- 全局变量\n",
    "  - 定义在函数外部，模块内部的变量称为全局变量\n",
    "  - 全局变量，所有的函数都可以直接访问（但函数内部不能将其直接赋值)"
   ]
  },
  {
   "cell_type": "code",
   "execution_count": 12,
   "metadata": {},
   "outputs": [
    {
     "name": "stdout",
     "output_type": "stream",
     "text": [
      "hello\n",
      "100 200 400 300\n"
     ]
    }
   ],
   "source": [
    "'''示例：'''\n",
    "a = 100\n",
    "b = 200\n",
    "def fx(c):\n",
    "    print(\"hello\")\n",
    "    d = 400\n",
    "    print(a,b,d,c)\n",
    "\n",
    "fx(300)\n",
    "# print(c) #  会报错 name 'c' is not defined  因为c 是函数内部变量外部无法访问\n",
    "# print(d)\n",
    "'''练习\n",
    "'''\n",
    "# L =[]\n",
    "def input_number():\n",
    "    lst=[]\n",
    "    while True:\n",
    "        n = input(\"请输入整数：\")\n",
    "        if not n:\n",
    "            return lst\n",
    "        lst.append(int(n))\n",
    "\n",
    "L = input_number()\n",
    "print(L)\n",
    "L += input_number()\n",
    "print(L)"
   ]
  },
  {
   "cell_type": "markdown",
   "metadata": {},
   "source": [
    "# globals 函数和locals 函数\n",
    "      globals()  返回当前全局作用域内变量的字典\n",
    "      locals()  返回当前局部作用域内为量的字典\n",
    "- 函数变量\n",
    "    函数名是变量，它在创建时绑定一个函数\n",
    "- 一个函数可以作为另一个函数的实参\n",
    "- 函数的嵌套定义\n",
    "  - 函数嵌套定义是指一个函数里用def\n",
    "  - 语句来创建\n",
    "\n"
   ]
  },
  {
   "cell_type": "code",
   "execution_count": 53,
   "metadata": {},
   "outputs": [
    {
     "name": "stdout",
     "output_type": "stream",
     "text": [
      "fn绑定调用 <function f1 at 0x7f9785fe42f0>\n",
      "hello f1\n"
     ]
    }
   ],
   "source": [
    "'''示例:'''\n",
    "# a = 1\n",
    "# b = 2\n",
    "# c = 3\n",
    "# def f1(c, d):\n",
    "#     e = 300\n",
    "#     print(\"locals()返回: \", locals())\n",
    "#     print('globals()返回', globals())\n",
    "\n",
    "# f1(100, 200)\n",
    "'''示例2'''\n",
    "def f1():\n",
    "    print('hello f1')\n",
    "def f2():\n",
    "    print('hello f2')\n",
    "    \n",
    "def fx(fn):\n",
    "    print('fn绑定调用',fn)\n",
    "    fn()  # 调用fn绑定的函数，此处调用谁就看调用者传过来的谁\n",
    "\n",
    "# f1,f2 = f2,f1\n",
    "# f1()\n",
    "# f2()\n",
    "fx(f1)"
   ]
  },
  {
   "cell_type": "code",
   "execution_count": 66,
   "metadata": {},
   "outputs": [
    {
     "name": "stdout",
     "output_type": "stream",
     "text": [
      "fn_outer被调用!\n",
      "fn_outter调用结束\n",
      "fn_inner被调用\n"
     ]
    }
   ],
   "source": [
    "# def get():\n",
    "#     s = input(\"请输入\")\n",
    "#     if s == \"求最大\":\n",
    "#         return max\n",
    "#     elif s == \"求最小\":\n",
    "#         return min\n",
    "#     elif s == \"求和\":\n",
    "#         return sum\n",
    "# L = [1,2,34,5]\n",
    "\n",
    "# print(get()(L))   \n",
    "def fn_outer():\n",
    "    print(\"fn_outer被调用!\")\n",
    "    def fn_inner():\n",
    "        print(\"fn_inner被调用\")\n",
    "    \n",
    "    print('fn_outter调用结束')\n",
    "    return fn_inner\n",
    "\n",
    "a = fn_outer()\n",
    "a()"
   ]
  },
  {
   "cell_type": "markdown",
   "metadata": {},
   "source": [
    "# python 作用域\n",
    "- 作用域也叫名字空间，是访问变量时，查找变量名的范围空间\n",
    "- python的四个作用域   LEGB\n",
    "       作用域                        英文解释               英文简写\n",
    "      局部作用域                   Local function              L  \n",
    "      外部嵌套函数作用域            Enclosing Function Locals   E\n",
    "      函数定义所在模块(文件)的作用域  Global(Mudule)              G\n",
    "      python 内置模块的作用域       Builtin(python)             B\n",
    "- 变量名的查找规则\n",
    "      在访问变量时先查找本地变量，然后是包裹此函数外部的函数内部的变量，之后是全局变量，最后是内置变量\n",
    "      L --> E  --> G  --> B\n",
    "      在默认情况下，对变量名赋值会创建或改变本作用域内的变量      "
   ]
  },
  {
   "cell_type": "code",
   "execution_count": 23,
   "metadata": {},
   "outputs": [
    {
     "name": "stdout",
     "output_type": "stream",
     "text": [
      "fun1.v= 200\n",
      "fun2.v= 300\n",
      "全局的v= 100\n"
     ]
    }
   ],
   "source": [
    "'''示意四个作用域'''\n",
    "v = 100\n",
    "def fun1():\n",
    "    v = 200\n",
    "    print('fun1.v=',v)\n",
    "    def fun2():\n",
    "        v = 300\n",
    "        print('fun2.v=',v)\n",
    "    fun2()\n",
    "    \n",
    "fun1()\n",
    "print(\"全局的v=\",v)"
   ]
  },
  {
   "cell_type": "markdown",
   "metadata": {},
   "source": [
    "# global语句\n",
    "- 作用:\n",
    "  - 1.告诉解释器, global语句声明的一个或多个变量，这些变量的作用域为模块级的作用域，也称作全局变量\n",
    "  - 2.全局声明(global)将赋值变量映身到模块文内部的作用域\n",
    "- 语法\n",
    "      global 变量1, 变量2, ...\n",
    "- global说明\n",
    "  - 1. 全局变量如果要在函数内部被赋值，则必须经过全局声明（否则会被认为是局部变量)\n",
    "  - 2. 全局变量在函数内部不经过声明就可以直接访问\n",
    "  - 3. 不能先声明局部的变量，再用global声明为全局变量，此做法不附合规则\n",
    "  - 4. global 变量列表里的变量不能出现在此作用域内的形参列表里"
   ]
  },
  {
   "cell_type": "code",
   "execution_count": 26,
   "metadata": {},
   "outputs": [
    {
     "ename": "SyntaxError",
     "evalue": "name 'v' is assigned to before global declaration (<ipython-input-26-a8bf8e922650>, line 5)",
     "output_type": "error",
     "traceback": [
      "\u001b[0;36m  File \u001b[0;32m\"<ipython-input-26-a8bf8e922650>\"\u001b[0;36m, line \u001b[0;32m5\u001b[0m\n\u001b[0;31m    global v\u001b[0m\n\u001b[0m    ^\u001b[0m\n\u001b[0;31mSyntaxError\u001b[0m\u001b[0;31m:\u001b[0m name 'v' is assigned to before global declaration\n"
     ]
    }
   ],
   "source": [
    "'''示例:'''\n",
    "v = 100\n",
    "def fn():\n",
    "    global v\n",
    "    v = 200\n",
    "# fn()  # 如果不调用函数 全局变量不变\n",
    "print(v)  # 200 "
   ]
  },
  {
   "cell_type": "code",
   "execution_count": 30,
   "metadata": {},
   "outputs": [
    {
     "name": "stdout",
     "output_type": "stream",
     "text": [
      "小张\n",
      "小李\n",
      "函数hello已经被调用了2\n",
      "小赵\n",
      "函数hello已经被调用了3\n"
     ]
    }
   ],
   "source": [
    "'''练习\n",
    "写一个函数名叫 \n",
    "def hello(name):\n",
    "   ... 此处自己实现\n",
    "   count = 0\n",
    "   hello(\"小张\")\n",
    "   hello(\"小李\")\n",
    "   hello(\"函数hello已经被调用了%d\"%count) #2\n",
    "   hello(\"小赵\")\n",
    "   hello(\"函数hello已经被调用了%d\"%count\") #3\n",
    "   \n",
    "'''\n",
    "def hello(name):\n",
    "    print(name)\n",
    "    global count\n",
    "    count += 1\n",
    "    \n",
    "count = 0\n",
    "hello(\"小张\")\n",
    "hello(\"小李\")\n",
    "print(\"函数hello已经被调用了%d\"%count) #2\n",
    "hello(\"小赵\")\n",
    "print(\"函数hello已经被调用了%d\"%count) #3\n"
   ]
  },
  {
   "cell_type": "markdown",
   "metadata": {},
   "source": [
    "# nonlocal 语句\n",
    "- 作用：\n",
    "      告诉解释器，nonlocal声明的变量不是局部变量，也不是全局变量，而是外部嵌套函数内的变量\n",
    "- nonlocal 说明\n",
    "  - 1. nonlocal语句只能在被嵌套函数内部进行使用\n",
    "  - 2. 访问nonlocal变量将对外部嵌套函数的作用域的变量进行操作\n",
    "  - 3. 当有两层或两层以上的函数嵌套时，访问nonlocal变量只对最近一层的变量进行操作\n",
    "  - 4. nonlocal语句的变量列表里的变量名，不能出现在此函数的参数列表中"
   ]
  },
  {
   "cell_type": "code",
   "execution_count": 41,
   "metadata": {},
   "outputs": [
    {
     "name": "stdout",
     "output_type": "stream",
     "text": [
      "f1里的var= 200\n",
      "f1调用结束时var= 300\n",
      "全局变量var= 100\n",
      "f2j里的v= 400\n",
      "f1里的v= 200\n"
     ]
    }
   ],
   "source": [
    "'''示例'''\n",
    "var = 100\n",
    "def f1():\n",
    "    var = 200\n",
    "    print(\"f1里的var=\",var)\n",
    "    def f2():\n",
    "        nonlocal var\n",
    "        var = 300\n",
    "    f2()\n",
    "    print(\"f1调用结束时var=\",var)\n",
    "f1()\n",
    "print(\"全局变量var=\",var)\n",
    "'''--------------------示例2------------------------------'''\n",
    "v = 100\n",
    "def f1():\n",
    "#     nonlocal v # 错的 \n",
    "    v = 200\n",
    "    def f2():\n",
    "        v = 300\n",
    "        def f3():\n",
    "            nonlocal v\n",
    "            v = 400\n",
    "        f3()\n",
    "        print(\"f2j里的v=\",v)\n",
    "    f2()\n",
    "    print(\"f1里的v=\",v)\n",
    "f1()"
   ]
  },
  {
   "cell_type": "markdown",
   "metadata": {},
   "source": [
    "# lambda　表达式(又称匿名函数)\n",
    "      作用:\n",
    "        创建一个匿名函数对象\n",
    "        同 def 类似，但不提供函数名\n",
    "      语法:\n",
    "        lambda [参数1, 参数2, ...]: 表达式\n",
    "        [] 里的内容可以省略\n",
    "      语法说明:\n",
    "      1. lambda 只是一个表达式，它用来创建一个函数对象\n",
    "      2. 当lambda表达式调用时，先执行冒号后(:)的表达式，并返回表达式的结果的引用\n",
    "      3. lambda 表达式创建的函数只能包含一条\"表达式\"\n",
    "      4. lambda 比函数简单，且可以随时创建和销毁，有利于减少程序的偶合度"
   ]
  },
  {
   "cell_type": "code",
   "execution_count": 42,
   "metadata": {},
   "outputs": [
    {
     "name": "stdout",
     "output_type": "stream",
     "text": [
      "2 + 3 = 5\n"
     ]
    }
   ],
   "source": [
    "'''示例'''\n",
    "def myadd(x, y):\n",
    "        return x + y\n",
    "    # 以上函数可以改写为:\n",
    "myadd = lambda x, y: x + y\n",
    "print('2 + 3 =', myadd(2, 3))"
   ]
  },
  {
   "cell_type": "code",
   "execution_count": 65,
   "metadata": {},
   "outputs": [
    {
     "name": "stdout",
     "output_type": "stream",
     "text": [
      "True\n",
      "False\n",
      "230\n",
      "False\n"
     ]
    }
   ],
   "source": [
    "'''\n",
    "练习\n",
    "1.写一个lambda 表达式 判断这个数的2次方+1能否衩5整除，如果能被整除返回True 否则返回False\n",
    "'''\n",
    "fx = lambda n : (n**2+1)%5==0\n",
    "print(fx(3))\n",
    "print(fx(4))\n",
    "'''\n",
    "2.写一个lambda 表达式求两具变量的最大值\n",
    "'''\n",
    "f1 = lambda x,y: x if x>y else y\n",
    "print(f1(100,230))\n",
    "def mymax(x,y):\n",
    "    return max(x,y)\n",
    "print(mymax(100,200))"
   ]
  },
  {
   "cell_type": "code",
   "execution_count": 66,
   "metadata": {},
   "outputs": [
    {
     "name": "stdout",
     "output_type": "stream",
     "text": [
      "300\n",
      "81\n"
     ]
    }
   ],
   "source": [
    "''' 没事就看看'''\n",
    "def fx(f, x, y):\n",
    "      print(f(x, y))\n",
    "fx((lambda a, b: a + b), 100, 200)\n",
    "fx((lambda a, b: a ** b), 3, 4)  fx(300)"
   ]
  },
  {
   "cell_type": "code",
   "execution_count": 2,
   "metadata": {},
   "outputs": [
    {
     "name": "stdout",
     "output_type": "stream",
     "text": [
      "5050\n"
     ]
    }
   ],
   "source": [
    "'''练习:\n",
    "  1. 写一个函数mysum(n), 给出一个数n写一个函数来计算\n",
    "     1 + 2 + 3 + 4 + ...... + n的和\n",
    "      (要求用函数来做)\n",
    "    def mysum(n):\n",
    "        ....\n",
    "    print(mysum(100))  # 5050'''\n",
    "def mysum(n):\n",
    "    return sum(range(n+1))\n",
    "        \n",
    "print(mysum(100))  # 5050"
   ]
  },
  {
   "cell_type": "code",
   "execution_count": 4,
   "metadata": {},
   "outputs": [
    {
     "name": "stdout",
     "output_type": "stream",
     "text": [
      "120\n"
     ]
    }
   ],
   "source": [
    "'''2. 写一个函数myfac 来计算n!(n的阶乘)\n",
    "      n! = 1*2*3*4*....*n\n",
    "    def myfac(n):\n",
    "        ....\n",
    "    print(myfac(5))  # 120'''\n",
    "def myfac(n):\n",
    "    s =1\n",
    "    for x in range(1,n+1):\n",
    "        s*=x\n",
    "    return s\n",
    "        \n",
    "print(myfac(5))"
   ]
  },
  {
   "cell_type": "code",
   "execution_count": 11,
   "metadata": {},
   "outputs": [
    {
     "name": "stdout",
     "output_type": "stream",
     "text": [
      "32\n"
     ]
    }
   ],
   "source": [
    "'''3. 给出一个数n, 写一个函数计算:\n",
    "    1 + 2**2 + 3**3 + 4**4 + .... .+ n**n的和  \n",
    "    (n给个小点的数)'''\n",
    "# def mymi(n):\n",
    "#     return sum([x**x for x in range(1,n+1)])\n",
    "# print(mymi(3))\n",
    "mymi = lambda n : sum([x**x for x in range(1,n+1)])\n",
    "print(mymi(3))"
   ]
  },
  {
   "cell_type": "code",
   "execution_count": 5,
   "metadata": {},
   "outputs": [
    {
     "name": "stdout",
     "output_type": "stream",
     "text": [
      "+---------------------------+\n",
      "| 1)  添加学生信息            |\n",
      "| 2)  显示学生信息            |\n",
      "| 3)  删除学生信息            |\n",
      "| 4)  修改学生成绩            |\n",
      "| q)  退出学生程序            |\n",
      "+---------------------------+\n",
      "请输入您要查询的选项按q可以退出程序：2\n",
      "+-------------+----------+----------+\n",
      "|     name    |   age    |  score   |\n",
      "+-------------+----------+----------+\n",
      "|  heronghua  |    29    |    98    |\n",
      "+-------------+----------+----------+\n",
      "按任意键可返回主菜单：q\n",
      "+---------------------------+\n",
      "| 1)  添加学生信息            |\n",
      "| 2)  显示学生信息            |\n",
      "| 3)  删除学生信息            |\n",
      "| 4)  修改学生成绩            |\n",
      "| q)  退出学生程序            |\n",
      "+---------------------------+\n",
      "请输入您要查询的选项按q可以退出程序：4\n",
      "请输入学生名字,按q可以返回到主菜单：heronghua\n",
      "请输入要修改的分数：1000\n",
      "请输入学生名字,按q可以返回到主菜单：q\n",
      "+---------------------------+\n",
      "| 1)  添加学生信息            |\n",
      "| 2)  显示学生信息            |\n",
      "| 3)  删除学生信息            |\n",
      "| 4)  修改学生成绩            |\n",
      "| q)  退出学生程序            |\n",
      "+---------------------------+\n",
      "请输入您要查询的选项按q可以退出程序：2\n",
      "+-------------+----------+----------+\n",
      "|     name    |   age    |  score   |\n",
      "+-------------+----------+----------+\n",
      "|  heronghua  |    29    |   1000   |\n",
      "+-------------+----------+----------+\n",
      "按任意键可返回主菜单：d\n",
      "+---------------------------+\n",
      "| 1)  添加学生信息            |\n",
      "| 2)  显示学生信息            |\n",
      "| 3)  删除学生信息            |\n",
      "| 4)  修改学生成绩            |\n",
      "| q)  退出学生程序            |\n",
      "+---------------------------+\n",
      "请输入您要查询的选项按q可以退出程序：q\n",
      "程序结束\n"
     ]
    }
   ],
   "source": [
    "'''4. 修改之前的student_info.py 学生信息管理项目\n",
    "    为项目添加菜单界面\n",
    "      +---------------------------+\n",
    "      | 1)  添加学生信息            |\n",
    "      | 2)  显示学生信息            |\n",
    "      | 3)  删除学生信息            |\n",
    "      | 4)  修改学生成绩            |\n",
    "      | q)  退出程序                |\n",
    "      +---------------------------+\n",
    "      请选择:\n",
    "    (要求,每个功能至少对应一个函数)'''\n",
    "'''----------------------------------------------------------------------------------------'''\n",
    "def input_student():    # 此函数添加学行信息\n",
    "    while True:\n",
    "        z = {}\n",
    "        z[\"name\"] = input('请输入姓名按q可以返回到主菜单：')\n",
    "        if z[\"name\"] == \"q\":\n",
    "            break\n",
    "        z[\"age\"] = int(input('请输入年龄：'))\n",
    "        z[\"score\"] = int(input('请输入成绩：'))\n",
    "        L.append(z)\n",
    "'''----------------------------------------------------------------------------------------'''\n",
    "def output_student(L):  # 此函数为查询信息\n",
    "    a = \"+\"+\"-\"*13+\"+\"+\"-\"*10+\"+\"+\"-\"*10+\"+\"\n",
    "    print(a)\n",
    "    print(\"|\"+\"name\".center(13)+\"|\"+\"age\"\n",
    "          .center(10)+\"|\"+\"score\".center(10)+\"|\")\n",
    "    print(a)\n",
    "    for i in L:\n",
    "        print(\"|\"+i[\"name\"].center(13)+\n",
    "              \"|\"+str(i[\"age\"]).center(10)+\n",
    "              \"|\"+str(i[\"score\"]).center(10)+\"|\")\n",
    "    print(a)\n",
    "    input(\"按任意键可返回主菜单：\")\n",
    "'''----------------------------------------------------------------------------------------'''\n",
    "def shanchuxingxi():  # 此函数为删除学生信息\n",
    "    while True:\n",
    "        n = input(\"请输入学生名字,按q可以返回到主菜单：\")\n",
    "        if n == \"q\":\n",
    "            break\n",
    "        for i in L:\n",
    "            if i[\"name\"] == n:\n",
    "                L.remove(i)\n",
    "           \n",
    "'''----------------------------------------------------------------------------------------'''\n",
    "def xiugaixingxing():    # 此函数为修改学生成绩       \n",
    "    while True:\n",
    "            n = input(\"请输入学生名字,按q可以返回到主菜单：\")\n",
    "            if n == \"q\":\n",
    "                break\n",
    "            for i in L:\n",
    "                if i[\"name\"] == n:\n",
    "                    i[\"score\"]=int(input(\"请输入要修改的分数：\"))\n",
    "'''----------------------------------------------------------------------------------------'''\n",
    "def zhucaidan(): # 主菜单目录\n",
    "    print(\"+---------------------------+\")\n",
    "    print(\"| 1)  添加学生信息            |\")\n",
    "    print(\"| 2)  显示学生信息            |\")\n",
    "    print(\"| 3)  删除学生信息            |\")\n",
    "    print(\"| 4)  修改学生成绩            |\")\n",
    "    print(\"| q)  退出学生程序            |\")\n",
    "    print(\"+---------------------------+\")\n",
    "'''----------------------------------------------------------------------------------------'''   \n",
    "def xueshenglxt():# \n",
    "    global L\n",
    "    L=[{\"name\":\"heronghua\",\"age\":29,\"score\":98}]\n",
    "    while True:\n",
    "        zhucaidan()\n",
    "        n = input(\"请输入您要查询的选项按q可以退出程序：\")\n",
    "        if n == \"1\":\n",
    "            input_student()\n",
    "        elif n ==\"2\":\n",
    "            output_student(L)\n",
    "        elif n == \"3\":\n",
    "            shanchuxingxi()\n",
    "        elif n == \"4\":\n",
    "            xiugaixingxing()\n",
    "        elif n == \"q\":\n",
    "            print(\"程序结束\")\n",
    "            break\n",
    "xueshenglxt()"
   ]
  },
  {
   "cell_type": "code",
   "execution_count": null,
   "metadata": {},
   "outputs": [],
   "source": []
  },
  {
   "cell_type": "code",
   "execution_count": null,
   "metadata": {},
   "outputs": [],
   "source": [
    "    "
   ]
  }
 ],
 "metadata": {
  "kernelspec": {
   "display_name": "Python 3",
   "language": "python",
   "name": "python3"
  },
  "language_info": {
   "codemirror_mode": {
    "name": "ipython",
    "version": 3
   },
   "file_extension": ".py",
   "mimetype": "text/x-python",
   "name": "python",
   "nbconvert_exporter": "python",
   "pygments_lexer": "ipython3",
   "version": "3.6.4"
  }
 },
 "nbformat": 4,
 "nbformat_minor": 2
}
