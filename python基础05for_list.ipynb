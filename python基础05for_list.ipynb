{
 "cells": [
  {
   "cell_type": "markdown",
   "metadata": {},
   "source": [
    "# 今天内容:\n",
    "- for 语句\n",
    "- continue 语句\n",
    "- 列表 list\n",
    "\n",
    "\n",
    "- for 语句\n",
    "  - 作用:用来遍历可迭代对象的数据元素，可迭代对象是指能依次获取数据元素的对象\n",
    "  - 可迭代对象包括:\n",
    "    - 字符串str\n",
    "    - ----以下后再才讲----\n",
    "      - 列表 list\n",
    "      - 元组 tuple\n",
    "      - 字典 dict\n",
    "      - 集合 set\n",
    "      - range函数返回的对象等\n",
    "  - 语法:\n",
    "          for 变量列表 in 可迭代对象:\n",
    "                语句块1\n",
    "          else:\n",
    "                语句块2"
   ]
  },
  {
   "cell_type": "code",
   "execution_count": 26,
   "metadata": {},
   "outputs": [
    {
     "name": "stdout",
     "output_type": "stream",
     "text": [
      "请输入字符串：dslafhsdlafj\n",
      "您输入的字符串中有空格0个\n",
      "您输入的字符串中有\"a\"2个\n"
     ]
    }
   ],
   "source": [
    "'''\n",
    "练习:\n",
    "  1. 任意输入一个字符串:\n",
    "    1) 计算您输入的空格的个数，并打印出来\n",
    "'''\n",
    "n = 0 # 变量n是用来记录空格数量\n",
    "s = input('请输入字符串：')\n",
    "for i in s:\n",
    "    if i == \" \": #判断字符是不是空格\n",
    "        n+=1     #如果是空格就加1\n",
    "print('您输入的字符串中有空格',n,'个',sep='') \n",
    "\n",
    "'''\n",
    "2) 计算您输入的'a' 字符的个数，并打印出来\n",
    "      (要求用for语句实现)\n",
    "    思考:\n",
    "      用while语句能否实现上述功能?\n",
    "'''\n",
    "for i in s:\n",
    "    if i == \"a\": #判断字符是不是a\n",
    "        n+=1     #如果是空格就加1\n",
    "print('您输入的字符串中有\"a\"',n,'个',sep=\"\") "
   ]
  },
  {
   "cell_type": "markdown",
   "metadata": {},
   "source": [
    "- range 函数\n",
    "- 格式:\n",
    "- 见: >>> help(range)\n",
    "- 函数\n",
    "  - range(stop)从零开始，每次生成一个整数后加1操作，直到stop为止(不包含stop)\n",
    "  - range(start, stop[, step])  从start开始，每次生成一个整数后移动step, 直到stop为止(不包含stop, 且step可以是负整数)\n",
    "\n",
    "- 作用:用来创建一个生成一系列整数的可迭代对象(也叫整数序列生成器)\n",
    "- 示例:\n",
    "        range(4)         # 生成 0, 1, 2, 3\n",
    "        range(3, 6)      # 生成 3, 4, 5\n",
    "        range(1, 10, 2)  # 生成 1 3 5 7 9\n",
    "        range(5, 0, -2)  # 生成 5, 3, 1\n",
    "        range(4, 0)      # 生成空"
   ]
  },
  {
   "cell_type": "code",
   "execution_count": 33,
   "metadata": {},
   "outputs": [
    {
     "name": "stdout",
     "output_type": "stream",
     "text": [
      "1 2 3 4 5 6 7 8 9 10 11 12 13 14 15 16 17 18 19 20 \n",
      "******************************\n",
      "1 2 3 4 5 \n",
      "6 7 8 9 10 \n",
      "11 12 13 14 15 \n",
      "16 17 18 19 20 "
     ]
    }
   ],
   "source": [
    "'''\n",
    "练习:\n",
    "   1. 用for 语句打印 1 ~ 20, 打印在一行内\n",
    "'''\n",
    "for i in range(1,21):\n",
    "    print(i,end=' ')\n",
    "\n",
    "print('\\n'+'*'*30)\n",
    "\n",
    "'''\n",
    "2. 用for 语句打印 1 ~ 20, 每5个打印在一行内\n",
    "'''\n",
    "for i in range(1,21):\n",
    "    print(i,end=\" \")\n",
    "    if i == 5 or i == 10 or i == 15:\n",
    "        print()"
   ]
  },
  {
   "cell_type": "code",
   "execution_count": 36,
   "metadata": {},
   "outputs": [
    {
     "name": "stdout",
     "output_type": "stream",
     "text": [
      "5 16 27 38 49 60 71 82 93 "
     ]
    }
   ],
   "source": [
    "'''\n",
    "3. 求 100 以内在哪些数与 自身+1的乘积对11求余的结果等于8\n",
    "'''\n",
    "for i in range(100):\n",
    "    if (i + 1) * i % 11 == 8:\n",
    "        print(i,end=' ')"
   ]
  },
  {
   "cell_type": "code",
   "execution_count": 41,
   "metadata": {},
   "outputs": [
    {
     "name": "stdout",
     "output_type": "stream",
     "text": [
      "2500\n",
      "2500\n"
     ]
    }
   ],
   "source": [
    "'''\n",
    "2. 计算　1 + 3 + 5 + 7 + .... +97 + 99的和\n",
    "    分别用for 和 while 循环语句来实现\n",
    "'''\n",
    "#用for循环\n",
    "n = 0\n",
    "for i in range(1,100,2):\n",
    "    n += i\n",
    "print(n)\n",
    "\n",
    "#用while循环\n",
    "s = 0\n",
    "c = 1\n",
    "while c <= 99:\n",
    "    s += c\n",
    "    c += 2\n",
    "print(s)    "
   ]
  },
  {
   "cell_type": "markdown",
   "metadata": {},
   "source": [
    "- for　语句的注意事项:\n",
    "- 请问下面程序的打印结果是什么：\n",
    "      i = 6\n",
    "      for x in range(1, i):\n",
    "          print('x =', x, 'i=', i)\n",
    "          i -= 1  # <<<---注意此处\n",
    "- 结果:\n",
    "        x = 1 i= 6\n",
    "        x = 2 i= 5\n",
    "        x = 3 i= 4\n",
    "        x = 4 i= 3\n",
    "        x = 5 i= 2  \n",
    "\n",
    "\n",
    "- 如下语句的执行结果是什么？为什么?\n",
    "      for x in range(4, 0):\n",
    "          print(x)\n",
    "      print('x绑定', x)  # <<<此处打印什么？\n",
    "\n",
    "\n",
    "- for 语句的嵌套\n",
    "  - 示例:\n",
    "        for x in \"ABC\":\n",
    "            for y in '123':\n",
    "                print(x + y)\n",
    "- 思考：\n",
    "      for x in range(5):\n",
    "         for y in range(10):\n",
    "             print('hello')  # <<请问打印多少次?"
   ]
  },
  {
   "cell_type": "code",
   "execution_count": 47,
   "metadata": {},
   "outputs": [
    {
     "name": "stdout",
     "output_type": "stream",
     "text": [
      "请输入一个整数：3\n",
      "1 2 3 \n",
      "1 2 3 \n",
      "1 2 3 \n"
     ]
    }
   ],
   "source": [
    "'''\n",
    "练习:\n",
    "  1. 输入一个整数n，打印一个对应的正方形:\n",
    "    如：\n",
    "    　　请输入: 5\n",
    "      打印:\n",
    "      1 2 3 4 5\n",
    "      1 2 3 4 5\n",
    "      1 2 3 4 5\n",
    "      1 2 3 4 5\n",
    "      1 2 3 4 5\n",
    "'''\n",
    "n = int(input('请输入一个整数：'))\n",
    "for i in range(1,n+1):\n",
    "    for j in range(1,n+1):\n",
    "        print(j,end=' ')\n",
    "    print()"
   ]
  },
  {
   "cell_type": "code",
   "execution_count": 58,
   "metadata": {},
   "outputs": [
    {
     "name": "stdout",
     "output_type": "stream",
     "text": [
      "请输入一个整数：3\n",
      "1 2 3 \n",
      "2 3 4 \n",
      "3 4 5 \n"
     ]
    }
   ],
   "source": [
    "'''\n",
    "２. 输入一个整数n，打印一个对应的正方形:\n",
    "    如：\n",
    "    打印:\n",
    "      1 2 3\n",
    "      2 3 4\n",
    "      3 4 5\n",
    "'''\n",
    "n = int(input('请输入一个整数：'))\n",
    "for i in range(1,n+1):\n",
    "    for j in range(0,n):\n",
    "            print(i+j,end=' ')\n",
    "    print()"
   ]
  },
  {
   "cell_type": "markdown",
   "metadata": {},
   "source": [
    "- 问题\n",
    "  - 如何让程序不再向下执行，重新开始一次新的循环\n",
    "\n",
    "- continue 语句\n",
    "  - 用于循环语句(while,for语句)中，不再执行本次循环 continue之后的语句，重新开始一次新的循环\n",
    "\n",
    "- 说明:\n",
    "  - 在for 语句中执行continue语句，将会从可迭代对象中取下一个元素，绑定变量后再次开始执行\n",
    "  - 在while语句中执行continue,将会直接跳转到 while语句的真值表达式处重新判断循环条件"
   ]
  },
  {
   "cell_type": "code",
   "execution_count": 62,
   "metadata": {},
   "outputs": [
    {
     "name": "stdout",
     "output_type": "stream",
     "text": [
      "请输入一个起始数：1\n",
      "请输入一个结束数：10\n",
      "1 3 5 7 9 "
     ]
    }
   ],
   "source": [
    "'''\n",
    "练习:\n",
    "  输入一个起始数用start绑定, 输入一个结束数用stop绑定\n",
    "  打印start 到 stop(不包含stop)内的所有的奇数\n",
    "    (用什么方法都可以)\n",
    "'''\n",
    "start = int(input('请输入一个起始数：'))\n",
    "stop = int(input('请输入一个结束数：'))\n",
    "for i in range(start,stop):\n",
    "    if i % 2 == 0:\n",
    "#         pass\n",
    "        continue\n",
    "    else:\n",
    "        print(i,end=' ')"
   ]
  },
  {
   "cell_type": "code",
   "execution_count": 69,
   "metadata": {},
   "outputs": [
    {
     "name": "stdout",
     "output_type": "stream",
     "text": [
      "3007\n"
     ]
    }
   ],
   "source": [
    "'''\n",
    " 2, 求 1 ~ 100 之间所有不能被 5, 7, 11 整除的数以及这些数的和\n",
    "'''\n",
    "s = 0\n",
    "for i in range(1,101):\n",
    "    if i%5==0 or i % 7 == 0 or i % 11 == 0:\n",
    "        pass\n",
    "    else:\n",
    "        s += i\n",
    "print(s)"
   ]
  },
  {
   "cell_type": "markdown",
   "metadata": {},
   "source": [
    "- 循环语句总结:\n",
    "  - while 语句\n",
    "      - 可以用于死循环\n",
    "  -  for 语句\n",
    "      - 用于可迭代对象的循环\n",
    "      - (字符串, range()返回的对象)\n",
    "  - break 语句:\n",
    "      - 用于终止当前循环\n",
    "  - continue 语句:\n",
    "      - 用于开始一次新的循环\n",
    "# 列表 list\n",
    "- 问题:\n",
    "  - 如何将计算机运算的数据临时存入一个地方，同时又方便添加，删除，修改等操作\n",
    "- 列表的定义:\n",
    "  - 列表是一种容器\n",
    "  - 列表是序列的一种\n",
    "  - 列表是可以被改变的序列\n",
    "  - 列表中由一系列特定元素组成的，元素与元素之间可以没有任何的关联关系，但他们之间有先后顺序关系\n",
    "- 创建空列表的字面值\n",
    "  - L = [ ]  # L变量绑定空列表\n",
    "- 创建非空列表的字面值\n",
    "      L = [1, 2, 3, 4]\n",
    "      L = ['Beijing', 'Shanghai', 'Shenzhen']\n",
    "      L = [1, 'Two', 3.14, '四']\n",
    "      L = [1, 2, [3.1, 3.2, 3.3], 4]\n",
    "\n",
    "- 列表的构造(创建)函数 list\n",
    "  - list()          生成一个空的列表，等同于 []\n",
    "  - list(iterable)  用可迭代对象创建一个列表\n",
    "\n",
    "- 示例:\n",
    "      L = list()  # L绑定空列表\n",
    "      L = list(\"hello\")  # L绑定['h', 'e', 'l', 'l', 'o']\n",
    "      L = list(range(1, 10, 2))\n",
    "- 列表的运算:\n",
    "  - 算术运算:\n",
    "         +  +=  *  *= \n",
    "       1.+ 用于拼接列表\n",
    "            x = [1, 2, 3]\n",
    "            y = [4, 5, 6]\n",
    "            z = x + y  # z = [1,2,3,4,5,6]\n",
    "      2.+=  用原列表与左侧列表拼接，用变量绑定拼接后的列表\n",
    "            x = [1,2,3]\n",
    "            x += [4,5,6]\n",
    "            print(x)\n",
    "      3.* 生成重复的列表\n",
    "            x = [1, 2] * 3  # x = [1,2,1,2,1,2]\n",
    "            x *= y 等同于 x = x * y\n",
    "\n",
    "- 列表的比较运算:\n",
    "  - 运算符:\n",
    "        <  <=  >  >=  ==  != \n",
    "      比较的规则同字符串的规则相同\n",
    "        x = [1, 2, 3]\n",
    "        y = [1, 2, 4]\n",
    "        x != y  # True\n",
    "        x <= y  # True\n",
    "        y > x   # True\n",
    "        [\"AB\", 'abc', '123'] < ['AB', '123', 'abc']\n",
    "        [1, 'two'] > ['two', 1]  # TypeError\n",
    "\n",
    "- 列表的 in / not in 运算符\n",
    "- 作用:\n",
    "    判断一个值是否存在于列表中。如果存在返回True, 否则返回False\n",
    "    not in 的返回值与 in 运算符相反\n",
    "- 示例:\n",
    "        2 in [1, 2, 3, 4]  # True\n",
    "        '2' in [1, 2, 3, 4]  # False\n",
    "\n",
    "- 列表是可迭代对象:\n",
    "        for x in [2, 3, 5, 7]:\n",
    "            print(x)  # x绑定列表内的元素\n",
    "\n"
   ]
  },
  {
   "cell_type": "code",
   "execution_count": 70,
   "metadata": {},
   "outputs": [
    {
     "name": "stdout",
     "output_type": "stream",
     "text": [
      "请输入第一行字符串：abc\n",
      "请输入第二行字符串：1234\n",
      "请输入第三行字符串：你好\n",
      "['abc', '1234', '你好']\n"
     ]
    }
   ],
   "source": [
    "'''\n",
    "练习:\n",
    "  1. 输入三行文字，将这三行文字保有存于列表L中，并打印\n",
    "    如:\n",
    "    请输入:abc<回车>\n",
    "    请输入:1234<回车>\n",
    "    请输入:你好<回车>\n",
    "    生成如下列表:\n",
    "        ['abc', '1234', '你好']\n",
    "    print(L)  # 打印\n",
    "'''\n",
    "a = input('请输入第一行字符串：')\n",
    "b = input('请输入第二行字符串：')\n",
    "c = input('请输入第三行字符串：')\n",
    "L = [a,b,c]\n",
    "print(L)"
   ]
  },
  {
   "cell_type": "code",
   "execution_count": 77,
   "metadata": {},
   "outputs": [
    {
     "name": "stdout",
     "output_type": "stream",
     "text": [
      "请输入字符串：dslkfhj\n",
      "请输入字符串：sajfk\n",
      "请输入字符串：sdjfl\n",
      "请输入字符串：\n",
      "['dslkfhjsajfksdjfl']\n",
      "4 行内容\n",
      "17 个字符\n"
     ]
    }
   ],
   "source": [
    "'''\n",
    "2. 输入任意行文字，存于列表L中，当不输入内容回车后退出输入，\n",
    "    1) 打印L列表中的内容\n",
    "    2) 计算您共输入的几行内容\n",
    "    3) 计算您共输入了多少个字符\n",
    "\n",
    "'''\n",
    "z1 = \"\"\n",
    "b = 0\n",
    "while True:\n",
    "    z = input('请输入字符串：')\n",
    "    z1 += z\n",
    "    b += 1\n",
    "    if z == \"\":\n",
    "        break\n",
    "L = [z1]\n",
    "print(L)\n",
    "print(b,\"行内容\")\n",
    "print(len(z1),'个字符')"
   ]
  },
  {
   "cell_type": "code",
   "execution_count": 95,
   "metadata": {},
   "outputs": [
    {
     "name": "stdout",
     "output_type": "stream",
     "text": [
      "请输入一个数：9\n",
      "9 是质数\n",
      "9 不是质数\n"
     ]
    }
   ],
   "source": [
    "'''\n",
    "3. 写一个程序．任意输入一个数，判断这个数是否是素数(prime)\n",
    "     素数（也叫质数) 是只能被１和自身整除的数\n",
    "     如:\n",
    "       2 3 5 7 11 13 17 19 ...\n",
    "提示：要用循环，先排出能被2 3 4 5...自身整数-1　 的非素数，剩余的即为素数\n",
    "'''\n",
    "n = int(input('请输入一个数：'))\n",
    "if n < 2:\n",
    "    print(n,'不是质数')\n",
    "    # 此处n一定是大于1的数\n",
    "    # 用排除法判断n 能否被 从2开始到n-1之间的数整除\n",
    "    # 如果能整除就一定不是素数，否则就一定是素数\n",
    "else:\n",
    "    for i in range(2,n):\n",
    "        if n % i == 0:\n",
    "            print(n,'不是质数')\n",
    "            break\n",
    "    else:\n",
    "        print(n,'是质数')"
   ]
  },
  {
   "cell_type": "code",
   "execution_count": null,
   "metadata": {},
   "outputs": [],
   "source": [
    "'''\n",
    "4. 编写程序求下列多项式的值\n",
    "    Sn = 1/1 - 1/3 + 1/5 - 1/7 + ....  \n",
    "      1000000个分式的值是多少\n",
    "    将此值乘以4后打印出来.\n",
    "\n",
    "'''\n",
    "Sn = 0\n",
    "# 方法1\n",
    "# for x in range(1000000):\n",
    "#     Sn += (-1) ** x * 1 / (2 * x + 1)\n",
    "sign = 1  # 表求符号\n",
    "for x in range(100000000):\n",
    "    Sn += sign * 1 / (2 * x + 1)\n",
    "    sign *= -1\n",
    "print(\"Sn * 4 = \", Sn * 4)"
   ]
  },
  {
   "cell_type": "code",
   "execution_count": 99,
   "metadata": {},
   "outputs": [
    {
     "name": "stdout",
     "output_type": "stream",
     "text": [
      "请输入: 3\n",
      "  *  \n",
      " *** \n",
      "*****\n",
      "  *\n",
      "  *\n",
      "  *\n"
     ]
    }
   ],
   "source": [
    "'''\n",
    "5. 输入一个整数（代表树干的高度)\n",
    "      打印如下形式的圣诞树\n",
    "      输入:2\n",
    " *\n",
    "***\n",
    " *\n",
    " * \n",
    "      输入:3\n",
    "  *\n",
    " ***\n",
    "*****\n",
    "  *\n",
    "  * \n",
    "  * \n",
    "\n",
    "'''\n",
    "n = int(input(\"请输入: \"))\n",
    "\n",
    "# 打印树冠\n",
    "# 方法1\n",
    "# for i in range(1, n + 1):\n",
    "#     starts = '*' * (2 * i - 1)  # 星号个数\n",
    "#     blanks = ' ' * (n - i)  # 计算空格个数\n",
    "#     print(blanks + starts)\n",
    "\n",
    "# 方法2\n",
    "for i in range(1, n + 1):\n",
    "    starts = '*' * (2 * i - 1)\n",
    "    print(starts.center(2 * n - 1))\n",
    "\n",
    "for _ in range(n):\n",
    "    print(' ' * (n - 1) + '*')\n"
   ]
  }
 ],
 "metadata": {
  "kernelspec": {
   "display_name": "Python 3",
   "language": "python",
   "name": "python3"
  },
  "language_info": {
   "codemirror_mode": {
    "name": "ipython",
    "version": 3
   },
   "file_extension": ".py",
   "mimetype": "text/x-python",
   "name": "python",
   "nbconvert_exporter": "python",
   "pygments_lexer": "ipython3",
   "version": "3.6.4"
  }
 },
 "nbformat": 4,
 "nbformat_minor": 2
}
