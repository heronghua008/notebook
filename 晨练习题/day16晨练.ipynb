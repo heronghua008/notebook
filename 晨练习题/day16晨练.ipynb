{
 "cells": [
  {
   "cell_type": "code",
   "execution_count": 10,
   "metadata": {},
   "outputs": [
    {
     "name": "stdout",
     "output_type": "stream",
     "text": [
      "index0:hello\n",
      "index1:world\n"
     ]
    }
   ],
   "source": [
    "'''\n",
    "练习1\n",
    "现有一个列表alist = [\"hello\",'world\"],\n",
    "写一个程序要求实现如下输出：\n",
    "index 0:hello\n",
    "index 2:world\n",
    "\n",
    "'''\n",
    "alist = [\"hello\",\"world\"]\n",
    "for i in enumerate(alist):\n",
    "    print(\"index%d:%s\"%i)"
   ]
  },
  {
   "cell_type": "code",
   "execution_count": 1,
   "metadata": {},
   "outputs": [
    {
     "data": {
      "text/plain": [
       "<function TextIOWrapper.close>"
      ]
     },
     "execution_count": 1,
     "metadata": {},
     "output_type": "execute_result"
    }
   ],
   "source": [
    "'''\n",
    "练习\n",
    "写一个程序，要求实现如下功能：\n",
    "1）创建一个文件student_info.txt\n",
    "2）在文件中写入如下两行内容\n",
    "name:Bob    age:30   score:90\n",
    "name:Lucy   age:25   score:99\n",
    "'''\n",
    "f = open(\"student_info.txt\",\"a\")\n",
    "f.writelines(['name:Bob','age:30','score:90\\n','name:Lucy', 'age:25',\"score:99\"])\n",
    "f.close\n"
   ]
  },
  {
   "cell_type": "code",
   "execution_count": null,
   "metadata": {},
   "outputs": [],
   "source": [
    "'''\n",
    "练习3\n",
    "写一个生成器函数myyield(),将练习2中student_info.txt中的两行内容生成一个生成器\n",
    "然后用for语句打印这两行内容：\n",
    "for x in myyield():\n",
    "    print(x)\n",
    "'''"
   ]
  }
 ],
 "metadata": {
  "kernelspec": {
   "display_name": "Python 3",
   "language": "python",
   "name": "python3"
  },
  "language_info": {
   "codemirror_mode": {
    "name": "ipython",
    "version": 3
   },
   "file_extension": ".py",
   "mimetype": "text/x-python",
   "name": "python",
   "nbconvert_exporter": "python",
   "pygments_lexer": "ipython3",
   "version": "3.6.4"
  }
 },
 "nbformat": 4,
 "nbformat_minor": 2
}
