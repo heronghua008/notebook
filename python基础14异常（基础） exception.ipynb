{
 "cells": [
  {
   "cell_type": "markdown",
   "metadata": {},
   "source": [
    "# day13回顾\n",
    "      __doc__属性  （绑定文档字符串）\n",
    "      __file__属性  （绑定当前模块的路径）\n",
    "      __name__属性 （绑定模块名的）\n",
    "      1.绑定模块名\n",
    "      2.如果是主模块（绑定\"__main__\")\n",
    "      __all__列表：\n",
    "      只对from xxx import * 语句起作用\n",
    "      包\n",
    "      __init__.py\n",
    "      包的导入：\n",
    "      import 语句\n",
    "      from import 语句\n",
    "      from import * 语句"
   ]
  },
  {
   "cell_type": "markdown",
   "metadata": {},
   "source": [
    "# 异常（基础） exception\n",
    "- 什么是错误\n",
    "  - 错误是指由于逻辑或语法等导入一个程序无法正常执行问题\n",
    "  - 特点：\n",
    "    - 有些错误是无法预知的\n",
    "- 什么是异常\n",
    "  - 异常是程序出错时标识的一种状态\n",
    "  - 当异常发生时，程序不会再向下执行，而转去调用此函数的地方待处理此错误并恢复为正常状\n",
    "  - 作用：\n",
    "    - 用作信号，通知上层调用者有错误需要处理\n",
    "- try语句：\n",
    "  - try-except 语句\n",
    "  - try-finally 语句\n",
    "- try-except语句语法\n",
    "  - try:\n",
    "    - 可能触发异常的语句\n",
    "    \n"
   ]
  },
  {
   "cell_type": "code",
   "execution_count": 29,
   "metadata": {},
   "outputs": [
    {
     "name": "stdout",
     "output_type": "stream",
     "text": [
      "10个苹果您想分给几个人？\n",
      "请输入人数：5\n",
      "每个人分了2个苹果\n",
      "分完草果\n",
      "分苹果时没有发生异常\n",
      "我想回家，不要苹果\n",
      "程序结束\n"
     ]
    }
   ],
   "source": [
    "'''示例'''\n",
    "def div_apple(n):\n",
    "    print('%d个苹果您想分给几个人？'%n)\n",
    "    s = input(\"请输入人数：\")\n",
    "    cnt = int(s) # 此处可能触发Value\n",
    "    result = n/cnt\n",
    "    print(\"每个人分了%d个苹果\"%result)\n",
    "try:\n",
    "    div_apple(10)\n",
    "    print(\"分完草果\")\n",
    "except ValueError as e:\n",
    "    print('分苹果失败，程序已捕获通知并转发为正常状态')\n",
    "    print('错误的值是:',e)\n",
    "except:\n",
    "    print(\"其它类型的错误已捕获\")\n",
    "else:\n",
    "    print(\"分苹果时没有发生异常\")\n",
    "finally:\n",
    "    print(\"我想回家，不要苹果\")\n",
    "print(\"程序结束\")"
   ]
  },
  {
   "cell_type": "code",
   "execution_count": 13,
   "metadata": {},
   "outputs": [
    {
     "ename": "ZeroDivisionError",
     "evalue": "division by zero",
     "output_type": "error",
     "traceback": [
      "\u001b[0;31m---------------------------------------------------------------------------\u001b[0m",
      "\u001b[0;31mZeroDivisionError\u001b[0m                         Traceback (most recent call last)",
      "\u001b[0;32m<ipython-input-13-e574edb36883>\u001b[0m in \u001b[0;36m<module>\u001b[0;34m()\u001b[0m\n\u001b[0;32m----> 1\u001b[0;31m \u001b[0;36m10\u001b[0m\u001b[0;34m/\u001b[0m\u001b[0;36m0\u001b[0m\u001b[0;34m\u001b[0m\u001b[0m\n\u001b[0m",
      "\u001b[0;31mZeroDivisionError\u001b[0m: division by zero"
     ]
    }
   ],
   "source": [
    "'''练习\n",
    "     写一个函数：\n",
    "     def get_score():\n",
    "         ...'''"
   ]
  }
 ],
 "metadata": {
  "kernelspec": {
   "display_name": "Python 3",
   "language": "python",
   "name": "python3"
  },
  "language_info": {
   "codemirror_mode": {
    "name": "ipython",
    "version": 3
   },
   "file_extension": ".py",
   "mimetype": "text/x-python",
   "name": "python",
   "nbconvert_exporter": "python",
   "pygments_lexer": "ipython3",
   "version": "3.6.4"
  }
 },
 "nbformat": 4,
 "nbformat_minor": 2
}
