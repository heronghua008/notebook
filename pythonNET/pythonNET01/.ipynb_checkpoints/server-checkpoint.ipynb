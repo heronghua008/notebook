{
 "cells": [
  {
   "cell_type": "code",
   "execution_count": null,
   "metadata": {},
   "outputs": [],
   "source": [
    "\n",
    "import socket\n",
    "import time\n",
    "sk = socket.socket()\n",
    "sk.bind(('0.0.0.0',8080))\n",
    "sk.listen()\n",
    "conn,addr = sk.accept()\n",
    "# while True:\n",
    "    ret = conn.recv(1024).decode()\n",
    "\n",
    "    c = time.localtime(float(ret))\n",
    "    print(\"\\r%02d:%02d:%02d\"%(c[3],c[4],c[5]),end = \"\")\n",
    "    conn.send(b\"\\r%02d:%02d:%02d\"%(c[3],c[4],c[5]))\n",
    "conn.close()\n",
    "sk.close()\n",
    "\n",
    "\n",
    "\n",
    "\n"
   ]
  },
  {
   "cell_type": "code",
   "execution_count": 9,
   "metadata": {},
   "outputs": [
    {
     "name": "stdout",
     "output_type": "stream",
     "text": [
      "14:59:59\n",
      "1531033199.60869\n"
     ]
    }
   ],
   "source": [
    "import time\n",
    "a=time.time()\n",
    "c = time.localtime(a)\n",
    "print(c[3],c[4],c[5],sep=\":\")\n",
    "print(a)"
   ]
  }
 ],
 "metadata": {
  "kernelspec": {
   "display_name": "Python 3",
   "language": "python",
   "name": "python3"
  },
  "language_info": {
   "codemirror_mode": {
    "name": "ipython",
    "version": 3
   },
   "file_extension": ".py",
   "mimetype": "text/x-python",
   "name": "python",
   "nbconvert_exporter": "python",
   "pygments_lexer": "ipython3",
   "version": "3.6.4"
  }
 },
 "nbformat": 4,
 "nbformat_minor": 2
}
