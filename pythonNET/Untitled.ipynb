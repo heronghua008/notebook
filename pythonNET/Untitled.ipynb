{
 "cells": [
  {
   "cell_type": "code",
   "execution_count": null,
   "metadata": {},
   "outputs": [],
   "source": [
    "# tcp_server.py \n",
    "from socket import *\n",
    "#创建套接字\n",
    "sockfd = socket(AF_INET,SOCK_STREAM)\n",
    "#绑定IP和端口\n",
    "sockfd.bind(('176.47.9.83',8668))\n",
    "#设置监听\n",
    "sockfd.listen(5)\n",
    "#等待客户端连接\n",
    "print('Waiting for connect....')\n",
    "connfd,addr = sockfd.accept()\n",
    "print('Connect from',addr)\n",
    "data = connfd.recv(1024)\n",
    "print('Receive message >>',data)\n",
    "#发送\n",
    "n = connfd.send(b'receive your message\\n')\n",
    "print('Send %d bytes data'%n)\n",
    "#关闭套接字\n",
    "connfd.close()\n",
    "sockfd.close()"
   ]
  }
 ],
 "metadata": {
  "kernelspec": {
   "display_name": "Python 3",
   "language": "python",
   "name": "python3"
  },
  "language_info": {
   "codemirror_mode": {
    "name": "ipython",
    "version": 3
   },
   "file_extension": ".py",
   "mimetype": "text/x-python",
   "name": "python",
   "nbconvert_exporter": "python",
   "pygments_lexer": "ipython3",
   "version": "3.6.4"
  }
 },
 "nbformat": 4,
 "nbformat_minor": 2
}
