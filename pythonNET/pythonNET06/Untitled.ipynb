{
 "cells": [
  {
   "cell_type": "markdown",
   "metadata": {},
   "source": [
    "## 进程间通信\n",
    "- 进程间由于空间独立，资源无法互相直接获取，此时在不同的进程间进行数据传递就需要专门的通信方法\n",
    "\n",
    "## 进程间通信方法（IPC）\n",
    "- 管道、  消息队列、  共享内存、  信号、  信号量、  套接字\n",
    "\n",
    "### 管道通信 Pipe\n",
    "\n",
    "- 管道：在内存中开辟一段空间，形成管道结构，管道对多个进程可见，进程可以对管道进行读写操作\n",
    "- multiprocess ----->> Pipe\n",
    "  - fd1,fd2 = Pipe(duplex = True)\n",
    "    - 功能：创建一个管道\n",
    "    - 参数：默认为双向通道  \n",
    "      如果设置为False 则为单向管道\n",
    "    - 返回值：\n",
    "      - 如果双向管道，fd1 fd2 都可以进行读写操作  \n",
    "      - 如果是单向管道，则fd1 只可读，fd2只可写\n",
    "  - fd.recv()\n",
    "    - 功能：从管道读取内容\n",
    "    - 返回值： 读到的内容\n",
    "  - 如果管道无内容则阻塞\n",
    "  - fd.send(data)\n",
    "    - 功能：\n",
    "    \n"
   ]
  },
  {
   "cell_type": "code",
   "execution_count": null,
   "metadata": {},
   "outputs": [],
   "source": []
  }
 ],
 "metadata": {
  "kernelspec": {
   "display_name": "Python 3",
   "language": "python",
   "name": "python3"
  },
  "language_info": {
   "codemirror_mode": {
    "name": "ipython",
    "version": 3
   },
   "file_extension": ".py",
   "mimetype": "text/x-python",
   "name": "python",
   "nbconvert_exporter": "python",
   "pygments_lexer": "ipython3",
   "version": "3.6.4"
  }
 },
 "nbformat": 4,
 "nbformat_minor": 2
}
