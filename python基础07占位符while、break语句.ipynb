{
 "cells": [
  {
   "cell_type": "markdown",
   "metadata": {},
   "source": [
    "#  格式 化字符串\n",
    "- 运算符 %\n",
    "- 作用：生成一定格式的字符串\n",
    "- 语法：\n",
    "  - 格式字符串%参数值\n",
    "  - 格式字符中% (参数值1, 参数值2, ...)\n",
    "  - 格式化字符串中的%为占位符位置将用参数值替换\n",
    "- 格式化字符串中的占位符和类型码\n",
    "  - 占位符类型码   意义\n",
    "        %s\t    字符串\n",
    "        %r\t    字符串，使用repr 而不是str\n",
    "        %c\t    整数转为单个字符\n",
    "        %d\t    十进制整数\n",
    "        %o\t    八进制整数\n",
    "        %x\t    十六进制整数(字符a-f小写)\n",
    "        %X\t    十六进制整数(字符A-F大写)\n",
    "        %e\t    指数型浮点数(e小写),如2.9e+10\n",
    "        %E\t    指数型浮点数(E大写),如2.9E+10\n",
    "        %f,%F\t浮点十进制形式\n",
    "        %g,%G\t十进制形式浮点或指数浮点自动转换\n",
    "         %%\t    等同于一个%字符"
   ]
  },
  {
   "cell_type": "code",
   "execution_count": 9,
   "metadata": {},
   "outputs": [
    {
     "name": "stdout",
     "output_type": "stream",
     "text": [
      "请输入姓名：herong\n",
      "请输入年龄：25\n",
      "姓名：_herong_,年龄_25_\n"
     ]
    }
   ],
   "source": [
    "# 示例：\n",
    "fmt = \"姓名：_%s_,年龄_%d_\"\n",
    "name = input('请输入姓名：')\n",
    "age = int(input(\"请输入年龄：\"))\n",
    "print(fmt%(name,age))"
   ]
  },
  {
   "cell_type": "markdown",
   "metadata": {},
   "source": [
    "- 占位符 % 和类型码之间的格式语法:\n",
    "  - % [格式语法] 类型码(d,s,f等)\n",
    "  - 格式语法:\n",
    "          - 左对齐\n",
    "          + 显示正号\n",
    "          0 补零\n",
    "          宽度\n",
    "          宽度.精度  \n",
    "  - 示例:\n",
    "        \"%10d\"  % 123   # '       123'\n",
    "        \"%-10d\" % 123   # '123       '\n",
    "        \"%10s\" % \"abc\"  # '       abc'\n",
    "        \"%-5s\" % 'abc'  # 'abc  '\n",
    "        \"%+10d\" % 123   # '      +123'\n",
    "        \"%010d\" % 123   # '0000000123'\n",
    "        \"%.2f\" % 3.1415926535897932  # '3.14'\n",
    "        \"%7.2f\" % 3.1415926535897932 # '   3.14'\n",
    "- 练习：\n",
    "  - 1. 输入三行文字，让这三行文字依次以20个字符的宽度右对齐输出.\n",
    "  - 如:\n",
    "    - 请输入第1行: hello world\n",
    "    - 请输入第2行: abcd\n",
    "    - 请输入第3行: a\n",
    "  - 打印结果:\n",
    "           hello world\n",
    "                  abcd\n",
    "                     a\n",
    "  - 2.写一个程序，定义一个合同的模板：\n",
    "        《合同》\n",
    "        甲方：_____       乙方：______\n",
    "        合同金额：_______元\n",
    "        ...\n",
    "        日期：____年___月___日\n",
    "        写程序输入相应的参数，打印出完整的合同文本信息：\n",
    "        如：\n",
    "        "
   ]
  },
  {
   "cell_type": "code",
   "execution_count": 37,
   "metadata": {},
   "outputs": [
    {
     "name": "stdout",
     "output_type": "stream",
     "text": [
      "请输入第1行:dskfjsld\n",
      "请输入第2行:dfkj\n",
      "请输入第3行:dks\n",
      "dskfjsld\n",
      "    dfkj\n",
      "     dks\n"
     ]
    }
   ],
   "source": [
    "# - 练习：\n",
    "#   - 1. 输入三行文字，让这三行文字依次以20个字符的宽度右对齐输出.\n",
    "a = input(\"请输入第1行:\")\n",
    "b = input(\"请输入第2行:\")\n",
    "c = input(\"请输入第3行:\")\n",
    "print(\"%20s\"%a)\n",
    "print(\"%20s\"%b)\n",
    "print(\"%20s\"%c)\n",
    "l = max(len(a),len(b),len(c))\n",
    "print((\"%\"+str(l)+\"s\")%a)\n",
    "print((\"%\"+str(l)+\"s\")%b)\n",
    "print((\"%\"+str(l)+\"s\")%c)"
   ]
  },
  {
   "cell_type": "code",
   "execution_count": 55,
   "metadata": {},
   "outputs": [
    {
     "name": "stdout",
     "output_type": "stream",
     "text": [
      "请输入甲方姓名:何荣华\n",
      "请输入乙方姓名:何荣\n",
      "请输入合同金额:10000\n",
      "请输入年:2018\n",
      "甲方：__何荣华___       乙方：___何荣___\n",
      "合同金额：___10000____元\n",
      "日期：__2018__年\n"
     ]
    }
   ],
   "source": [
    "# - 练习2：\n",
    "a = input(\"请输入甲方姓名:\")\n",
    "b = input(\"请输入乙方姓名:\")\n",
    "c = int(input(\"请输入合同金额:\"))\n",
    "d = int(input(\"请输入年:\"))\n",
    "print(\"甲方：__%s___       乙方：___%s___\"%(a,b))\n",
    "print(\"合同金额：___%d____元\"%c)\n",
    "print(\"日期：__%d__年\"%d)\n",
    "\n"
   ]
  },
  {
   "cell_type": "markdown",
   "metadata": {},
   "source": [
    "# 循环语句：\n",
    "- while 语句:\n",
    "- for   语句：\n",
    "- while 语句\n",
    "  - 作用：\n",
    "    根据一定条件，重复的执行一条语句或多条语句\n",
    "  - 语法:\n",
    "        while 真值表达式:\n",
    "            语句块1...\n",
    "        else:\n",
    "            语句块2\n",
    "  - 说明:\n",
    "    - 1. 先执行真值表达式,测试布尔值为 True 或 False\n",
    "    - 2. 如果真值表达式的测试值为True,则执行语句1,然后再返回到第1步重复进行测试\n",
    "    - 3. 如果真值表达式的测试值为False,则执行else子句中的语句块2,然后结束此while语句的执行。如果没有else子句，则直接结束while语句的执行\n",
    "    - 4. else子句部分可以省略(同if语句类似)  \n",
    "- while 语句的注意事项:\n",
    "  - 1. 要控制循环的真值表达式的值来防止死循环\n",
    "  - 2. 通常用真值表达式中的循环变量来控制循环条件\n",
    "  - 3. 通常在循环语句块内需要改变循环变量来控制循环的次数和变量的走向 "
   ]
  },
  {
   "cell_type": "code",
   "execution_count": 66,
   "metadata": {},
   "outputs": [
    {
     "name": "stdout",
     "output_type": "stream",
     "text": [
      "请输入整数：5\n",
      "0\n",
      "1\n",
      "2\n",
      "3\n",
      "4\n",
      "程序结束\n"
     ]
    }
   ],
   "source": [
    "# 示例1\n",
    "# 输入一个整数n，根据这个整数打印n行的‘hello'\n",
    "# n = int(input('请输入整数：'))\n",
    "# i = 0\n",
    "# while i < n:\n",
    "#     print('hello')\n",
    "#     i += 1\n",
    "# print('程序结束')\n",
    "# 练习\n",
    "#1.输入一个整数n，打印0～n之间的整数（不包含n)每个数字打印一行\n",
    "n = int(input('请输入整数：'))\n",
    "i = 0\n",
    "while i < n:\n",
    "    print(i)\n",
    "    i += 1\n",
    "print('程序结束')"
   ]
  },
  {
   "cell_type": "code",
   "execution_count": 84,
   "metadata": {},
   "outputs": [
    {
     "name": "stdout",
     "output_type": "stream",
     "text": [
      "1 2 3 4 5 6 7 8 9 10 11 12 13 14 15 16 17 18 19 20 \n",
      "1 2 3 4 5 \n",
      "6 7 8 9 10 \n",
      "11 12 13 14 15 \n",
      "16 17 18 19 20 \n",
      "程序结束\n"
     ]
    }
   ],
   "source": [
    "# 2.打印1~20的整数,打印在一行显示，每个数字之间用一个空格分隔:\n",
    "#     1 2 3 4 5 6 7 .... 18 19 20\n",
    "#     提示:  print(n, end=' ')\n",
    "n = 1\n",
    "while n <= 20:\n",
    "    print(n,end=\" \")\n",
    "    n += 1\n",
    "    \n",
    "print()\n",
    "\n",
    "\n",
    "# 3.打印1~20的整数，每行5个数，打印四行，如:\n",
    "#     1 2 3 4 5\n",
    "#     6 7 8 9 10\n",
    "#     ...\n",
    "#     提示需要嵌入if语句来打印换行符'\\n'\n",
    "i = 1\n",
    "while i <= 20:\n",
    "    print(i,end=\" \")\n",
    "    if i % 5==0:\n",
    "        print()\n",
    "#     print(i,end=\" \")\n",
    "\n",
    "    i += 1\n",
    "print('程序结束')\n",
    "\n",
    "i = 0\n",
    "while i < 20 :\n",
    "    i += 1\n",
    "    if i % 5!=0:\n",
    "        print(i,end=\" \")\n",
    "    else:\n",
    "        print(i)"
   ]
  },
  {
   "cell_type": "code",
   "execution_count": 94,
   "metadata": {},
   "outputs": [
    {
     "name": "stdout",
     "output_type": "stream",
     "text": [
      "请输入开始数：8\n",
      "请输入结束数：19\n",
      "8 9 10 11 12 \n",
      "13 14 15 16 17 \n",
      "18 \n"
     ]
    }
   ],
   "source": [
    "# 3.输入一个开始的整数用变量begin开始绑定，输入一个结束的整数变量end绑定，打印从bengin 开始到end结束（\n",
    "# 不包含end)的全部整数\n",
    "\n",
    "begin = int(input(\"请输入开始数：\"))\n",
    "end = int(input(\"请输入结束数：\"))\n",
    "# while begin < end:\n",
    "#     print(begin,end=\" \")\n",
    "#     begin += 1\n",
    "# print()\n",
    "i = 1\n",
    "while begin < end:\n",
    "    print(begin,end=\" \")\n",
    "    if i % 5 == 0:\n",
    "        print()\n",
    "    begin += 1  \n",
    "    i += 1\n",
    "print()"
   ]
  },
  {
   "cell_type": "code",
   "execution_count": 7,
   "metadata": {},
   "outputs": [
    {
     "name": "stdout",
     "output_type": "stream",
     "text": [
      "请输入字符串：dfhdjffd\n",
      "字符串编码值： 106 字符串: j\n"
     ]
    }
   ],
   "source": [
    "# # 4.用while语句打印10～1的整数\n",
    "# n = 10\n",
    "# i = 1\n",
    "# while i <= 10:\n",
    "#     print(n,end=\" \")\n",
    "#     i += 1\n",
    "#     n -= 1\n",
    "# print()\n",
    "# 5.输入一个开始的浮点数用begin绑定，输入一个结束的浮点数用end绑定，输入每个数的间隔用step来绑定\n",
    "# begin = float(input(\"请输入开始数：\"))\n",
    "# end = float(input(\"请输入结束数：\"))\n",
    "# step = float(input(\"请输入步长：\"))\n",
    "# i = 1\n",
    "# while begin < end:\n",
    "#     print(begin,end=\" \")\n",
    "#     begin += step  \n",
    "# print()\n",
    "# 6.输入一个字符串，将字符串中编码值最在的一个字符编码值和这个字符打印出来\n",
    "s = input(\"请输入字符串：\")\n",
    "b = len(s)\n",
    "i = 0\n",
    "max1 = ord(s[0])\n",
    "while i < b:\n",
    "    if ord(s[i]) > max1:\n",
    "        max1 = ord(s[i])\n",
    "    i += 1\n",
    "        \n",
    "print(\"字符串编码值：\",max1,\"字符串:\",chr(max1))"
   ]
  },
  {
   "cell_type": "markdown",
   "metadata": {},
   "source": [
    "- while 语句嵌套\n",
    "  - while语句本身是语句，和其它语句一样可以嵌套在其它复合语句中(如:if语句，while语句，for语句...的内部)\n",
    "\n",
    "  - while 语句嵌套示意:\n",
    "        while 真值表达式:\n",
    "            ....\n",
    "            while 真值表达式2:\n",
    "                ....\n",
    "            else:\n",
    "                ....\n",
    "        else:\n",
    "            ....\n",
    "- break 语句:\n",
    "  - 作用：\n",
    "    - 用于循环语句(while, for语句)中,用来终止当前循环语句的执行\n",
    "  - 说明：\n",
    "    - 1. 当break语句执行后，此循环语句break之后的语句将不再执行\n",
    "    - 2. break语句通常和if语句组合使用\n",
    "    - 3. break语句终止循环时，循环语句的else子句将不会被执行\n",
    "    - 4. break语句只能终止当前循环的执行，如果有循环嵌套时，不会跳出嵌套的外重循环\n",
    "    - 5. break 语句只能在循环语句(while或 for语句)内部使用\n",
    "- 死循环 death loop:\n",
    "  - 1. 死循环是指循环条件一直成立的循环\n",
    "  - 2. 死循环通常用break语句来终止循环\n",
    "  - 3. 死循环的else子句永远不会执行"
   ]
  },
  {
   "cell_type": "code",
   "execution_count": 21,
   "metadata": {},
   "outputs": [
    {
     "name": "stdout",
     "output_type": "stream",
     "text": [
      "请输入一个整数：5\n",
      "1 2 3 4 5 \n",
      "1 2 3 4 5 \n",
      "1 2 3 4 5 \n",
      "1 2 3 4 5 \n",
      "1 2 3 4 5 \n",
      "我的老家\n",
      "循环开始时： 1\n",
      "循环结束时： 1\n",
      "循环开始时： 2\n",
      "循环结束时： 2\n",
      "循环开始时： 3\n",
      "请输入整数：5\n",
      "你刚才输入的 5 5\n",
      "请输入整数：4\n",
      "你刚才输入的 4 9\n",
      "请输入整数：5\n",
      "你刚才输入的 5 14\n",
      "请输入整数：6\n",
      "你刚才输入的 6 20\n",
      "请输入整数：-1\n"
     ]
    }
   ],
   "source": [
    "# 示例嵌套\n",
    "n = int(input(\"请输入一个整数：\"))\n",
    "i = 1\n",
    "while i <= n:\n",
    "    k = 1\n",
    "    while k <= n:\n",
    "        print(k,end=\" \")\n",
    "        k +=1\n",
    "    print()\n",
    "    i+=1\n",
    "print(\"我的老家\")\n",
    "#示例break语句\n",
    "i = 1\n",
    "while i < 6:\n",
    "    print(\"循环开始时：\",i)\n",
    "    if i == 3:\n",
    "        break\n",
    "    print(\"循环结束时：\",i)\n",
    "    i += 1\n",
    "else:\n",
    "    print(i,\"不存在\")\n",
    "\n",
    "#示例死循环\n",
    "# 任意输入一些正整数，当输入小于零的数时结束输入，求刚才输入这些数的和\n",
    "s = 0\n",
    "while True:\n",
    "    n = int(input('请输入整数：'))\n",
    "    if n < 0:\n",
    "        break\n",
    "    s+=n\n",
    "        \n",
    "    print(\"你刚才输入的\",n)\n",
    "print('你刚才输入的和',s)"
   ]
  },
  {
   "cell_type": "code",
   "execution_count": 12,
   "metadata": {},
   "outputs": [
    {
     "name": "stdout",
     "output_type": "stream",
     "text": [
      "1×1=1 \n",
      "1×2=2 2×2=4 \n",
      "1×3=3 2×3=6 3×3=9 \n",
      "1×4=4 2×4=8 3×4=12 4×4=16 \n",
      "1×5=5 2×5=10 3×5=15 4×5=20 5×5=25 \n",
      "1×6=6 2×6=12 3×6=18 4×6=24 5×6=30 6×6=36 \n",
      "1×7=7 2×7=14 3×7=21 4×7=28 5×7=35 6×7=42 7×7=49 \n",
      "1×8=8 2×8=16 3×8=24 4×8=32 5×8=40 6×8=48 7×8=56 8×8=64 \n",
      "1×9=9 2×9=18 3×9=27 4×9=36 5×9=45 6×9=54 7×9=63 8×9=72 9×9=81 \n",
      "------------------------------------------------------------------------------------------------------------------------\n",
      "1×1=1  2×1=2  3×1=3  4×1=4  5×1=5  6×1=6  7×1=7  8×1=8  9×1=9  \n",
      "2×2=4  3×2=6  4×2=8  5×2=10  6×2=12  7×2=14  8×2=16  9×2=18  \n",
      "3×3=9  4×3=12  5×3=15  6×3=18  7×3=21  8×3=24  9×3=27  \n",
      "4×4=16  5×4=20  6×4=24  7×4=28  8×4=32  9×4=36  \n",
      "5×5=25  6×5=30  7×5=35  8×5=40  9×5=45  \n",
      "6×6=36  7×6=42  8×6=48  9×6=54  \n",
      "7×7=49  8×7=56  9×7=63  \n",
      "8×8=64  9×8=72  \n",
      "9×9=81  \n"
     ]
    }
   ],
   "source": [
    "# 乘法口决方法1\n",
    "i = 1\n",
    "while i <= 9:\n",
    "    k = 1\n",
    "    while k <= 9:\n",
    "        print(k,\"×\",i,\"=\",k*i,sep=\"\",end=\" \")\n",
    "        if k==i:\n",
    "            break\n",
    "        k +=1\n",
    "        \n",
    "    print()\n",
    "    i += 1\n",
    "print(\"--\"*60)\n",
    "# 方法2\n",
    "i = 1\n",
    "while i <= 9:\n",
    "    k = i\n",
    "    while k <= 9:\n",
    "        print(k,\"×\",i,\"=\",k*i,sep=\"\",end=\"  \")\n",
    "        k +=1\n",
    "        \n",
    "    print()\n",
    "    i += 1\n"
   ]
  },
  {
   "cell_type": "code",
   "execution_count": 32,
   "metadata": {},
   "outputs": [
    {
     "name": "stdout",
     "output_type": "stream",
     "text": [
      "5050\n"
     ]
    }
   ],
   "source": [
    "# 练习:\n",
    "#   1. 写程序，求 1 + 2 + 3 + 4 + ..... + 99 + 100的和\n",
    "#   　　（建议用循环语句来做)\n",
    "n = 1\n",
    "s = 0\n",
    "while n <= 100:\n",
    "    s+=n\n",
    "    n+=1\n",
    "print(s)"
   ]
  },
  {
   "cell_type": "code",
   "execution_count": 39,
   "metadata": {},
   "outputs": [
    {
     "name": "stdout",
     "output_type": "stream",
     "text": [
      "请输入一个整数：1\n",
      "1.5\n"
     ]
    }
   ],
   "source": [
    "# 2. 输入一个整数n，求下列多项式的和\n",
    "#     Sn = 1 + 1/2 + 1/ 4 + 1/8 + ... + 1/(2**n)\n",
    "n = int(input(\"请输入一个整数：\"))\n",
    "s = 0\n",
    "while n >= 0:\n",
    "    s += 1/(2**n)\n",
    "    n -= 1\n",
    "print(s)"
   ]
  },
  {
   "cell_type": "code",
   "execution_count": 35,
   "metadata": {},
   "outputs": [
    {
     "name": "stdout",
     "output_type": "stream",
     "text": [
      "请输入三角宽度：4\n",
      "*\n",
      "**\n",
      "***\n",
      "****\n"
     ]
    }
   ],
   "source": [
    "'''\n",
    " 3. 写程序，输入一个整数n代表直角三角形的宽度,打印出相应的直角三角形.\n",
    "    如:\n",
    "      请输入三角形宽度: 4\n",
    "    打印如下:\n",
    "      *\n",
    "      **\n",
    "      ***\n",
    "      ****\n",
    "'''\n",
    "# 方法1\n",
    "n = int(input(\"请输入三角宽度：\"))\n",
    "# i = 1\n",
    "# while i <= n:\n",
    "#     print(\"*\"*i)\n",
    "#     i += 1\n",
    "# 方法2\n",
    "i = 1\n",
    "while i <= n:\n",
    "    k = 1\n",
    "    while k <= n:\n",
    "        print(\"*\",end=\"\")\n",
    "        if k==i:\n",
    "            break\n",
    "        k +=1\n",
    "        \n",
    "    print()\n",
    "    i += 1"
   ]
  },
  {
   "cell_type": "code",
   "execution_count": 49,
   "metadata": {},
   "outputs": [
    {
     "name": "stdout",
     "output_type": "stream",
     "text": [
      "请输入三角宽度：4\n",
      "   *\n",
      "  **\n",
      " ***\n",
      "****\n",
      "\n"
     ]
    }
   ],
   "source": [
    "'''\n",
    "4. 修改第3题，打印如下的三角形:\n",
    "         *\n",
    "        **\n",
    "       ***\n",
    "      ****\n",
    "'''\n",
    "n = int(input(\"请输入三角宽度：\"))\n",
    "i = 1\n",
    "while i <= n:\n",
    "    print(\" \"*(n-i)+\"*\"*i)\n",
    "    i += 1"
   ]
  },
  {
   "cell_type": "code",
   "execution_count": 15,
   "metadata": {},
   "outputs": [
    {
     "name": "stdout",
     "output_type": "stream",
     "text": [
      "请输入三角宽度：4\n",
      " ****\n",
      "  ***\n",
      "   **\n",
      "    *\n",
      "     \n"
     ]
    }
   ],
   "source": [
    "'''\n",
    "5. 修改第3题， 打印如下三解形:\n",
    "      ****\n",
    "       ***\n",
    "        **\n",
    "         *\n",
    "\n",
    "'''\n",
    "n = int(input(\"请输入三角宽度：\"))\n",
    "i = 1\n",
    "while i <= n+1:\n",
    "    print(\" \"*i+((n+1)-i)*\"*\")\n",
    "    i += 1"
   ]
  },
  {
   "cell_type": "code",
   "execution_count": 21,
   "metadata": {},
   "outputs": [
    {
     "name": "stdout",
     "output_type": "stream",
     "text": [
      "请输入三角宽度：4\n",
      "****\n",
      "***\n",
      "**\n",
      "*\n",
      "\n"
     ]
    }
   ],
   "source": [
    "'''\n",
    "6. 修改第3题， 打印如下三解形:\n",
    "      ****\n",
    "      ***\n",
    "      **\n",
    "      *\n",
    "'''\n",
    "n = int(input(\"请输入三角宽度：\"))\n",
    "i = 1\n",
    "while i <= n+1:\n",
    "    print(\"*\"*(n+1-i))\n",
    "    i += 1\n",
    "\n",
    "i = 1\n",
    "while i <= n:\n",
    "    k = i\n",
    "    while k <= n:\n",
    "        print(\"*\",end=\"\")\n",
    "        k +=1\n",
    "        \n",
    "    print()\n",
    "    i += 1\n",
    "print()"
   ]
  }
 ],
 "metadata": {
  "kernelspec": {
   "display_name": "Python 3",
   "language": "python",
   "name": "python3"
  },
  "language_info": {
   "codemirror_mode": {
    "name": "ipython",
    "version": 3
   },
   "file_extension": ".py",
   "mimetype": "text/x-python",
   "name": "python",
   "nbconvert_exporter": "python",
   "pygments_lexer": "ipython3",
   "version": "3.6.4"
  }
 },
 "nbformat": 4,
 "nbformat_minor": 2
}
