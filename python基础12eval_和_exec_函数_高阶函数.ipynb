{
 "cells": [
  {
   "cell_type": "markdown",
   "metadata": {},
   "source": [
    "# eval 函数：\n",
    "  - 作用：\n",
    "       把一个字符串当成一个表达式来执行，返回表达式执行后的结果.\n",
    "  - 格式：\n",
    "         eval(source, globals=None, locals=None, /)\n",
    "  - 示例：\n",
    "          x = 100\n",
    "          y = 200\n",
    "          while True:\n",
    "              s = input(\"请输入表达式>>>\"）\n",
    "              if not s:\n",
    "                  break\n",
    "              print(eval(s)) "
   ]
  },
  {
   "cell_type": "code",
   "execution_count": 1,
   "metadata": {},
   "outputs": [
    {
     "name": "stdout",
     "output_type": "stream",
     "text": [
      "请办入表达式 >>>\n",
      "5\n"
     ]
    }
   ],
   "source": [
    "'''示例 eval 函数'''\n",
    "x = 100\n",
    "y = 200\n",
    "while True:\n",
    "    s = input(\"请办入表达式 >>>\")\n",
    "    if not s:\n",
    "        break\n",
    "    print(eval(s))\n",
    "dict_local = {'x':1,'y':2}\n",
    "v = eval(\"x+y\",dict_local,{\"y\":4})  # 先计算局部变量 再计算全局变量\n",
    "print(v)"
   ]
  },
  {
   "cell_type": "markdown",
   "metadata": {},
   "source": [
    "# exec函数：\n",
    "- 作用：\n",
    "     把一个字符串当成程序来执行\n",
    "- 格式：\n",
    "       exec(source, globals=None, locals=None, /)\n",
    "  "
   ]
  },
  {
   "cell_type": "code",
   "execution_count": 24,
   "metadata": {},
   "outputs": [
    {
     "name": "stdout",
     "output_type": "stream",
     "text": [
      "z= 300\n",
      "herll world\n",
      "z= 201\n",
      "herll world\n",
      "{'x': 1}\n"
     ]
    }
   ],
   "source": [
    "'''此示例示意exec函数的使用'''\n",
    "x = 100\n",
    "y = 200\n",
    "s = '''z=x+y\n",
    "print(\"z=\",z)\n",
    "print(\"herll world\")\n",
    "del z'''\n",
    "exec(s)\n",
    "dict_local ={\"x\":1}\n",
    "exec(s,None,dict_local)\n",
    "print(dict_local)"
   ]
  },
  {
   "cell_type": "markdown",
   "metadata": {},
   "source": [
    "# 函数式编程\n",
    "- 是指用一系列函数解决问题\n",
    "- 函数是一等公民（Guido)\n",
    "  - 函数本身可以赋值给变量，赋值后变量绑定函数\n",
    "  - 允许将函数本身作为参数传入加一个函数\n",
    "  - 允许函数返回一个函数\n",
    "- 好处：\n",
    "  - 用每一个函数完成细小的功能，一系列函数在任意组合可以完成问题\n",
    "- 函数的可重入性：\n",
    "  - 当一函数在运行时不读取和改变除局部作用域以外的变量时，此函数为可重入函数\n",
    "  - 可重入函数在每次调用时，如果参数一定，则结果必然一定"
   ]
  },
  {
   "cell_type": "code",
   "execution_count": null,
   "metadata": {},
   "outputs": [],
   "source": [
    "'''此函数示意 可重入函数'''\n",
    "def add1(x,y):    \n",
    "    return x+y\n",
    "'''不可重入函数示例'''\n",
    "y = 200\n",
    "def add2(x):\n",
    "    return x+y\n",
    "print(add2(10))  # 210\n",
    "y = 300\n",
    "print(add2(10))  # 310"
   ]
  },
  {
   "cell_type": "markdown",
   "metadata": {},
   "source": [
    "# 高阶函数 high order function\n",
    "- 什么是高阶函数\n",
    "  - 满足下列条件中一个的函数即为高阶函数\n",
    "    - 函数接收一个或多个函数作为参数传入\n",
    "    - 函数返回一个函数\n",
    "- python中内建的高阶函数：\n",
    "      map  filter  sorted\n",
    "- map 函数\n",
    "  - map(func,*iterables)用函数和对可迭代对象 中的第一个元素作为参数返回新的可迭代对象，当最短的一个可迭代对象不再提供数据时迭代结束\n",
    "  - 要求：\n",
    "    - func函数接收的参数个数必须与可迭代对象的个数相同"
   ]
  },
  {
   "cell_type": "code",
   "execution_count": 28,
   "metadata": {},
   "outputs": [
    {
     "name": "stdout",
     "output_type": "stream",
     "text": [
      "1 64 2187 65536 "
     ]
    }
   ],
   "source": [
    "'''示例map函数'''\n",
    "def power2(x):\n",
    "    return x**2\n",
    "# # 生成一可迭代对象，此可迭代对旬可以生成1--9的函数的平方\n",
    "for x in map(power2,range(1,10)):\n",
    "    print(x) # 1 4 9 16 25 36 49 64 81 \n",
    "    \n",
    "L1 = [1,2,3,4]\n",
    "L2 = [5,6,7,8]\n",
    "# 生成一个可迭代对象，此可迭代对象生成的数据为：\n",
    "# 1**5,2**6,3**7,4**8\n",
    "def power_x_y(x,y):\n",
    "    return x**y\n",
    "for x in map(power_x_y,L1,L2):\n",
    "    print(x)  # 1 64 2187 65536 "
   ]
  },
  {
   "cell_type": "code",
   "execution_count": 32,
   "metadata": {},
   "outputs": [
    {
     "name": "stdout",
     "output_type": "stream",
     "text": [
      "285\n",
      "2025\n",
      "11377\n"
     ]
    }
   ],
   "source": [
    "'''练习\n",
    "1.求1**2+2**2+3**2...+9**2的和'''\n",
    "print(sum(map(lambda x:x**2,range(1,10))))\n",
    "'''2.求1**3+2**3+3**3......+9**3的和'''\n",
    "print(sum(map(lambda x:x**3,range(1,10))))\n",
    "'''3.求1**9+2**8....+9**1的和'''\n",
    "print(sum(map(pow,range(1,10),range(9,0,-1))))"
   ]
  },
  {
   "cell_type": "markdown",
   "metadata": {},
   "source": [
    "# filter 函数:\n",
    "- 格式：\n",
    "      filter(function or None, iterable)\n",
    "- 作用：\n",
    "  - 筛选可迭代对象iterable中的数据，返回一个可迭代对象，此可迭代对象对iterable提供的数据进行筛选\n",
    "- 说明：\n",
    "  - 函数func将对每个元素进行求值，返回False则将此数据丢弃，返回True则保留此数据\n",
    "  "
   ]
  },
  {
   "cell_type": "code",
   "execution_count": 38,
   "metadata": {},
   "outputs": [
    {
     "name": "stdout",
     "output_type": "stream",
     "text": [
      "41 43 45 47 49 51 "
     ]
    }
   ],
   "source": [
    "'''示意filter函数'''\n",
    "def isodd(x): # 此函数判断x是否为奇数\n",
    "    return x%2==1\n",
    "for x in filter(isodd,range(41,53)):\n",
    "    print(x) # 41 43 45 47 49 51 "
   ]
  },
  {
   "cell_type": "code",
   "execution_count": null,
   "metadata": {},
   "outputs": [],
   "source": [
    "'''练习\n",
    " 1. 将 1 ~20 内的偶数用filter筛选出来，形成列表\n",
    "  2. 用filter函数将1~100之间的所有素数(prime) 放入到列表中'''\n",
    "def is_prime(x):\n",
    "    if x < 2:\n",
    "        return False\n",
    "    for i in range(2, x):\n",
    "        if x % i == 0:\n",
    "            return False\n",
    "    return True\n",
    "\n",
    "# 1) 用filter函数把100到200的全部素数求出来,\n",
    "#     放入列表L中\n",
    "\n",
    "L = list(filter(is_prime, range(100, 200)))\n",
    "print(L)\n",
    "# 2) 求300 ~ 400之间全部素数的和\n",
    "s = sum(filter(is_prime, range(300, 400)))\n",
    "print(s)"
   ]
  },
  {
   "cell_type": "code",
   "execution_count": 63,
   "metadata": {},
   "outputs": [
    {
     "name": "stdout",
     "output_type": "stream",
     "text": [
      "[2, 2]\n"
     ]
    }
   ],
   "source": [
    "a = [1,2,1,1,2,3]\n",
    "b = [1,3,4]\n",
    "def quchong(x):\n",
    "    return x not in b \n",
    "print(list(filter(quchong,a)))"
   ]
  },
  {
   "cell_type": "markdown",
   "metadata": {},
   "source": [
    "# sorted 函数\n",
    "- 作用：\n",
    "  - 将原可迭代对象提供的数据进行排序，生成排序后的列表 \n",
    "- 格式：\n",
    "      sorted(iterable, key=None, reverse=False)\n",
    "- 说明：\n",
    "   - iterable 可迭代对象\n",
    "   - key 函数是用来提供一个排序参考值的函数，这个函数的返回值将作为排序的依据\n",
    "   - reverse 标志用来是否降序排序\n",
    "- 示例：\n",
    "       L = [5, -2, -4, 0, 3, 1]\n",
    "       L2 = sorted(L)  # L2 = [-4, -2, 0, 1, 3, 5]\n",
    "       L2 = sorted(L, reverse=True)\n",
    "       L3 = sorted(L, key=abs) # L3 = [0, 1, -2, 3, -4, 5]\n",
    "       names = ['Tom', 'Jerry', 'Spike', 'Tyke']\n",
    "      #结果 ['Tom', 'Tyke', 'Jerry', 'Spike']\n",
    "       L = sorted(names, key=len)"
   ]
  },
  {
   "cell_type": "code",
   "execution_count": 2,
   "metadata": {},
   "outputs": [
    {
     "name": "stdout",
     "output_type": "stream",
     "text": [
      "get_key的n= Tom\n",
      "get_key的n= Jerry\n",
      "get_key的n= Spike\n",
      "get_key的n= Tyke\n",
      "['Spike', 'Tyke', 'Tom', 'Jerry']\n"
     ]
    }
   ],
   "source": [
    "'''\n",
    "练习:\n",
    "    names = ['Tom', 'Jerry', 'Spike', 'Tyke']\n",
    "    让names排序\n",
    "      排序的依据是字符串的反序\n",
    "             'moT'    'yrreJ'  'ekipS'  'keyT'\n",
    "             '''\n",
    "names = ['Tom', 'Jerry', 'Spike', 'Tyke']\n",
    "\n",
    "def get_key(n):\n",
    "    '''\n",
    "    n用来绑定参数中每个元素，n绑定名字（字符串)\n",
    "    此函数需要返回一个能比较大小的依据\n",
    "    '''\n",
    "    print(\"get_key的n=\", n)\n",
    "    return n[::-1]\n",
    "\n",
    "L = sorted(names, key=get_key)\n",
    "print(L)\n",
    "\n",
    "# 排序的依据为原字符串反序的字符串\n",
    "#            'moT', 'yrreJ', 'ekipS', 'ekyT'\n",
    "# 结果:\n",
    "#   ['Spike', 'Tyke', 'Tom', 'Jerry']"
   ]
  },
  {
   "cell_type": "markdown",
   "metadata": {},
   "source": [
    "# 递归函数 recursion\n",
    "- 函数直接或间接的调用自身\n",
    "- 示例:\n",
    "      import time\n",
    "      def story():\n",
    "          #time.sleep(1)\n",
    "          print(\"从前有座山\")\n",
    "          print(\"山上有座庙\")\n",
    "          print('庙里有人老和尚讲故事:')\n",
    "          story()  # 直接调用自身\n",
    "      stroy()\n",
    "- 说明：\n",
    "      递归一定要控制递归的层数，当符合一定条件时要终止递归调用\n",
    "      几乎所有的递归都能用while循环\n",
    "- 优点：\n",
    "      递归可以把问题简单化，让思路更为清晰，代码更简洁\n",
    "- 缺点：\n",
    "      递归因系统环境影响大，当递归尝度太大时，可能会得到不可预知的结果\n",
    "- 递归的两个阶段：\n",
    "  - 递推阶段：从原问题出发，按递归公式递推从未知到已知，最终达到递归的终止条件\n",
    "  - 回归阶段: 按递归终止条件求出结果，逆向逐步代入递归公式，回归到问题求解\n",
    "- 递归的实现方法\n",
    "  - 先假设函数已经实现"
   ]
  },
  {
   "cell_type": "code",
   "execution_count": 5,
   "metadata": {},
   "outputs": [
    {
     "name": "stdout",
     "output_type": "stream",
     "text": [
      "5的阶乘是: 120\n"
     ]
    }
   ],
   "source": [
    "# def fn(n):\n",
    "#     print(\"递归进入第\", n, '层')\n",
    "#     # 当递归进入第三层时，将不再向下走，开始回归\n",
    "#     if n == 3:\n",
    "#         return\n",
    "#     fn(n + 1)\n",
    "#     print('递归退出第', n, '层')\n",
    "\n",
    "# fn(1)\n",
    "# print(\"程序结束\")\n",
    "# 写一个函数求n的阶乘（递归实现）\n",
    "#   1 * 2 * 3 * 4 * 5\n",
    "#   等同于\n",
    "#   5 * 4 * 3 * 2 * 1\n",
    "#   5! = 5 * 4!\n",
    "#   5! = 5 * 4 * 3!\n",
    "#   5! = 5 * 4 * 3 * 2!\n",
    "#   5! = 5 * 4 * 3 * 2 * 1!\n",
    "#  回归\n",
    "#   5! = 5 * 4 * 3 * 2\n",
    "#   5! = 5 * 4 * 6\n",
    "#   5! = 5 * 24\n",
    "#   5! = 120\n",
    "\n",
    "def myfac(n):\n",
    "    \n",
    "    if n == 1:\n",
    "        return 1\n",
    "    return n * myfac(n-1)\n",
    "\n",
    "print('5的阶乘是:', myfac(5))\n"
   ]
  },
  {
   "cell_type": "code",
   "execution_count": 25,
   "metadata": {},
   "outputs": [
    {
     "name": "stdout",
     "output_type": "stream",
     "text": [
      "5050\n"
     ]
    }
   ],
   "source": [
    "# 练习:\n",
    "#   写一个函数mysum(n), 用递归方法求\n",
    "#     1 + 2 + 3 + 4 + .... + n的和\n",
    "#   def mysum(n):\n",
    "#       ....\n",
    "#   print(mysum(100))  # 5050\n",
    "\n",
    "\n",
    "def mysum(n):\n",
    "    if n == 1:\n",
    "        return 1\n",
    "    return n + mysum(n-1)\n",
    "\n",
    "\n",
    "print(mysum(100))  # 5050"
   ]
  },
  {
   "cell_type": "markdown",
   "metadata": {},
   "source": [
    "# 闭包 closure\n",
    "- 闭包是指引用了此函数外部嵌套函数作用域变量的函数\n",
    "- 闭包必须满足三个条件：\n",
    "  - 必须有内嵌函数\n",
    "  - 内嵌函数必须引用外部函数中的变量\n",
    "  - 外部函数返回值必须是内嵌函数"
   ]
  },
  {
   "cell_type": "code",
   "execution_count": 51,
   "metadata": {},
   "outputs": [
    {
     "name": "stdout",
     "output_type": "stream",
     "text": [
      "5的平方是 25\n",
      "6的次方根 216\n"
     ]
    }
   ],
   "source": [
    "# 问题:\n",
    "# 如何写一个函数，让此函数能过调用参数y就\n",
    "#  能生成一个x的y次方的函数\n",
    "\n",
    "# def make_power(y):\n",
    "#     if y == 1:\n",
    "#         def fn(x):\n",
    "#             return x ** 1\n",
    "#         return fn\n",
    "#     if y == 2:\n",
    "#         def fn(x):\n",
    "#             return x ** 2\n",
    "#         return fn\n",
    "#     if y == 3:\n",
    "#         def fn(x):\n",
    "#             return x ** 3\n",
    "#         return fn\n",
    "#     if y == 4:\n",
    "#         def fn(x):\n",
    "#             return x ** 4\n",
    "#         return fn\n",
    "#     if y == 5:\n",
    "#         def fn(x):\n",
    "#             return x ** 5\n",
    "#         return fn\n",
    "\n",
    "\n",
    "def make_power(y):\n",
    "    def fn(x):\n",
    "        return x ** y\n",
    "    return fn\n",
    "\n",
    "pow2 = make_power(2)\n",
    "print('5的平方是:', pow2(5))\n",
    "\n",
    "pow3 = make_power(3)\n",
    "print(\"6的立方是\", pow3(6))\n",
    "\n",
    "# pow100 = make_power(100)\n",
    "# print(\"2的100次方是:\", pow100(2))\n",
    "\n",
    "# 计算\n",
    " # 1** 2 + 2**2 + 3**2 + ..... + 9 ** 2\n",
    "print(sum(map(lambda x: x**2, range(1, 9))))\n",
    "print(sum(map(make_power(2), range(1, 9))))\n"
   ]
  },
  {
   "cell_type": "markdown",
   "metadata": {},
   "source": [
    "# 练习:\n",
    "- 1. 已知:\n",
    "          第五个人比第四个人大2岁\n",
    "          第四个人比第三个人大2岁\n",
    "          第三个人比第二个人大2岁\n",
    "          第二个人比第一个人大2岁\n",
    "          第一个人说他10岁\n",
    "        编写程序算出第5个人几岁?\n",
    "          (思考是否可以使用递归和循环两种方式来做)\n",
    "\n",
    "- 2. 已知有列表:\n",
    "         L = [[3, 5, 8], 10, [[13, 14], 15, 18], 20]\n",
    "         1) 写一个函数print_list(lst)打印出列表内的所有元素\n",
    "            print_list(L)  # 3 5 8 10 13 14...\n",
    "         2) 写一个函数sum_list(lst): 返回这个列表中所有元素的和\n",
    "           print(sum_list(L))  # 86\n",
    "        注:\n",
    "          type(x) 可以返回一个变量的类型\n",
    "          如:\n",
    "            >>> type(20) is int  # True\n",
    "            >>> type([3, 5, 8]) is list  # True\n",
    "- 3. 改写之前的学生信息管理程序\n",
    "         要求添加四个功能:\n",
    "            | 5)  按学生成绩高-低显示学生信息 |\n",
    "            | 6)  按学生成绩低-高显示学生信息 |\n",
    "            | 7)  按学生年龄高-低显示学生信息 |\n",
    "            | 8)  按学生年龄低-高显示学生信息 |\n"
   ]
  },
  {
   "cell_type": "code",
   "execution_count": 1,
   "metadata": {},
   "outputs": [
    {
     "name": "stdout",
     "output_type": "stream",
     "text": [
      "18\n",
      "18\n"
     ]
    }
   ],
   "source": [
    "'''已知:\n",
    " 第五个人比第四个人大2岁\n",
    " 第四个人比第三个人大2岁\n",
    " 第三个人比第二个人大2岁\n",
    " 第二个人比第一个人大2岁\n",
    " 第一个人说他10岁\n",
    "编写程序算出第5个人几岁?\n",
    " (思考是否可以使用递归和循环两种方式来做)'''\n",
    "\n",
    "# 递规方法\n",
    "def digui(n):\n",
    "    if n == 1:\n",
    "        return 10\n",
    "    return 2 + digui(n-1)\n",
    "print(digui(5))\n",
    "# 循环方法\n",
    "s = 10\n",
    "for i in range(1,5):\n",
    "    s+=2\n",
    "#     i+=1\n",
    "print(s)"
   ]
  },
  {
   "cell_type": "code",
   "execution_count": 3,
   "metadata": {},
   "outputs": [
    {
     "name": "stdout",
     "output_type": "stream",
     "text": [
      "[3, 5, 8, 10, 13, 14, 15, 18, 20]\n",
      "106\n"
     ]
    }
   ],
   "source": [
    "'''已知有列表:\n",
    "L = [[3, 5, 8], 10, [[13, 14], 15, 18], 20]\n",
    "1) 写一个函数print_list(lst)打印出列表内的所有元素\n",
    "   print_list(L)  # 3 5 8 10 13 14...\n",
    "2) 写一个函数sum_list(lst): 返回这个列表中所有元素的和\n",
    "  print(sum_list(L))  # 86\n",
    "注:\n",
    " type(x) 可以返回一个变量的类型\n",
    " 如:\n",
    "   >>> type(20) is int  # True\n",
    "   >>> type([3, 5, 8]) is list  # True'''\n",
    "L = [[3, 5, 8], 10, [[13, 14], 15, 18], 20]\n",
    "def print_list(lst):\n",
    "    for i in L:\n",
    "        if type(i) is list:\n",
    "            L.remove(i)\n",
    "            L.extend(i)\n",
    "    print(sorted(L))\n",
    "print_list(L)\n",
    "def sum_list(lst):\n",
    "    return sum(lst)\n",
    "print(sum_list(L))\n",
    "# 方法二\n",
    "def print_list(lst):\n",
    "    if  lst"
   ]
  },
  {
   "cell_type": "code",
   "execution_count": 1,
   "metadata": {},
   "outputs": [
    {
     "name": "stdout",
     "output_type": "stream",
     "text": [
      "+-----------------------------+\n",
      "| 1)  添加学生信息              |\n",
      "| 2)  显示学生信息              |\n",
      "| 3)  删除学生信息              |\n",
      "| 4)  修改学生成绩              |\n",
      "| 5)  按学生成绩高-低显示学生信息 |\n",
      "| 6)  按学生成绩低-高显示学生信息 |\n",
      "| 7)  按学生年龄高-低显示学生信息 |\n",
      "| 8)  按学生年龄低-高显示学生信息 |\n",
      "| q)  退出学生程序              |\n",
      "+-----------------------------+\n",
      "请输入您要查询的选项按q可以退出程序：1\n",
      "请输入姓名按q可以返回到主菜单：heronghua\n",
      "请输入年龄：56\n",
      "请输入成绩：95\n",
      "请输入姓名按q可以返回到主菜单：q\n",
      "+-----------------------------+\n",
      "| 1)  添加学生信息              |\n",
      "| 2)  显示学生信息              |\n",
      "| 3)  删除学生信息              |\n",
      "| 4)  修改学生成绩              |\n",
      "| 5)  按学生成绩高-低显示学生信息 |\n",
      "| 6)  按学生成绩低-高显示学生信息 |\n",
      "| 7)  按学生年龄高-低显示学生信息 |\n",
      "| 8)  按学生年龄低-高显示学生信息 |\n",
      "| q)  退出学生程序              |\n",
      "+-----------------------------+\n",
      "请输入您要查询的选项按q可以退出程序：5\n",
      "+-------------+----------+----------+\n",
      "|     name    |   age    |  score   |\n",
      "+-------------+----------+----------+\n",
      "|  heronghua  |    29    |    98    |\n",
      "|  heronghua  |    56    |    95    |\n",
      "+-------------+----------+----------+\n",
      "+-----------------------------+\n",
      "| 1)  添加学生信息              |\n",
      "| 2)  显示学生信息              |\n",
      "| 3)  删除学生信息              |\n",
      "| 4)  修改学生成绩              |\n",
      "| 5)  按学生成绩高-低显示学生信息 |\n",
      "| 6)  按学生成绩低-高显示学生信息 |\n",
      "| 7)  按学生年龄高-低显示学生信息 |\n",
      "| 8)  按学生年龄低-高显示学生信息 |\n",
      "| q)  退出学生程序              |\n",
      "+-----------------------------+\n",
      "请输入您要查询的选项按q可以退出程序：6\n",
      "+-------------+----------+----------+\n",
      "|     name    |   age    |  score   |\n",
      "+-------------+----------+----------+\n",
      "|  heronghua  |    56    |    95    |\n",
      "|  heronghua  |    29    |    98    |\n",
      "+-------------+----------+----------+\n",
      "+-----------------------------+\n",
      "| 1)  添加学生信息              |\n",
      "| 2)  显示学生信息              |\n",
      "| 3)  删除学生信息              |\n",
      "| 4)  修改学生成绩              |\n",
      "| 5)  按学生成绩高-低显示学生信息 |\n",
      "| 6)  按学生成绩低-高显示学生信息 |\n",
      "| 7)  按学生年龄高-低显示学生信息 |\n",
      "| 8)  按学生年龄低-高显示学生信息 |\n",
      "| q)  退出学生程序              |\n",
      "+-----------------------------+\n",
      "请输入您要查询的选项按q可以退出程序：7\n",
      "+-------------+----------+----------+\n",
      "|     name    |   age    |  score   |\n",
      "+-------------+----------+----------+\n",
      "|  heronghua  |    56    |    95    |\n",
      "|  heronghua  |    29    |    98    |\n",
      "+-------------+----------+----------+\n",
      "+-----------------------------+\n",
      "| 1)  添加学生信息              |\n",
      "| 2)  显示学生信息              |\n",
      "| 3)  删除学生信息              |\n",
      "| 4)  修改学生成绩              |\n",
      "| 5)  按学生成绩高-低显示学生信息 |\n",
      "| 6)  按学生成绩低-高显示学生信息 |\n",
      "| 7)  按学生年龄高-低显示学生信息 |\n",
      "| 8)  按学生年龄低-高显示学生信息 |\n",
      "| q)  退出学生程序              |\n",
      "+-----------------------------+\n",
      "请输入您要查询的选项按q可以退出程序：8\n",
      "+-------------+----------+----------+\n",
      "|     name    |   age    |  score   |\n",
      "+-------------+----------+----------+\n",
      "|  heronghua  |    29    |    98    |\n",
      "|  heronghua  |    56    |    95    |\n",
      "+-------------+----------+----------+\n",
      "+-----------------------------+\n",
      "| 1)  添加学生信息              |\n",
      "| 2)  显示学生信息              |\n",
      "| 3)  删除学生信息              |\n",
      "| 4)  修改学生成绩              |\n",
      "| 5)  按学生成绩高-低显示学生信息 |\n",
      "| 6)  按学生成绩低-高显示学生信息 |\n",
      "| 7)  按学生年龄高-低显示学生信息 |\n",
      "| 8)  按学生年龄低-高显示学生信息 |\n",
      "| q)  退出学生程序              |\n",
      "+-----------------------------+\n",
      "请输入您要查询的选项按q可以退出程序：q\n",
      "程序结束\n"
     ]
    }
   ],
   "source": [
    "'''改写之前的学生信息管理程序\n",
    "要求添加四个功能:\n",
    "   | 5)  按学生成绩高-低显示学生信息 |\n",
    "   | 6)  按学生成绩低-高显示学生信息 |\n",
    "   | 7)  按学生年龄高-低显示学生信息 |\n",
    "   | 8)  按学生年龄低-高显示学生信息 |\n",
    "'''\n",
    "'''----------------------------------------------------------------------------------------'''\n",
    "def input_student():    # 此函数添加学行信息\n",
    "    while True:\n",
    "        z = {}\n",
    "        z[\"name\"] = input('请输入姓名按q可以返回到主菜单：')\n",
    "        if z[\"name\"] == \"q\":\n",
    "            break\n",
    "        z[\"age\"] = int(input('请输入年龄：'))\n",
    "        z[\"score\"] = int(input('请输入成绩：'))\n",
    "        L.append(z)\n",
    "'''----------------------------------------------------------------------------------------'''\n",
    "def output_student(L):  # 此函数为查询信息\n",
    "    a = \"+\"+\"-\"*13+\"+\"+\"-\"*10+\"+\"+\"-\"*10+\"+\"\n",
    "    print(a)\n",
    "    print(\"|\"+\"name\".center(13)+\"|\"+\"age\"\n",
    "          .center(10)+\"|\"+\"score\".center(10)+\"|\")\n",
    "    print(a)\n",
    "    for i in L:\n",
    "        print(\"|\"+i[\"name\"].center(13)+\n",
    "              \"|\"+str(i[\"age\"]).center(10)+\n",
    "              \"|\"+str(i[\"score\"]).center(10)+\"|\")\n",
    "    print(a)\n",
    "'''----------------------------------------------------------------------------------------'''\n",
    "def shanchuxingxi():  # 此函数为删除学生信息\n",
    "    while True:\n",
    "        n = input(\"请输入学生名字,按q可以返回到主菜单：\")\n",
    "        if n == \"q\":\n",
    "            break\n",
    "        for i in L:\n",
    "            if i[\"name\"] == n:\n",
    "                L.remove(i)\n",
    "           \n",
    "'''----------------------------------------------------------------------------------------'''\n",
    "def xiugaixingxing():    # 此函数为修改学生成绩       \n",
    "    while True:\n",
    "            n = input(\"请输入学生名字,按q可以返回到主菜单：\")\n",
    "            if n == \"q\":\n",
    "                break\n",
    "            for i in L:\n",
    "                if i[\"name\"] == n:\n",
    "                    i[\"score\"]=int(input(\"请输入要修改的分数：\"))\n",
    "'''--------------------------------此处是5到8的功能---------------------------------------------'''\n",
    "def score_sort(x):\n",
    "    return x[\"score\"] # x[\"score\"]用来绑定列表L中每个字典键对应的值\n",
    "def age_sort(x):\n",
    "    return x[\"age\"]\n",
    "\n",
    "'''----------------------------------------------------------------------------------------'''\n",
    "def zhucaidan(): # 主菜单目录\n",
    "    print(\"+-----------------------------+\")\n",
    "    print(\"| 1)  添加学生信息              |\")\n",
    "    print(\"| 2)  显示学生信息              |\")\n",
    "    print(\"| 3)  删除学生信息              |\")\n",
    "    print(\"| 4)  修改学生成绩              |\")\n",
    "    print(\"| 5)  按学生成绩高-低显示学生信息 |\")\n",
    "    print(\"| 6)  按学生成绩低-高显示学生信息 |\")\n",
    "    print(\"| 7)  按学生年龄高-低显示学生信息 |\")\n",
    "    print(\"| 8)  按学生年龄低-高显示学生信息 |\")\n",
    "    print(\"| q)  退出学生程序              |\")\n",
    "    print(\"+-----------------------------+\")\n",
    "'''----------------------------------------------------------------------------------------'''   \n",
    "def xueshenglxt():# \n",
    "    global L\n",
    "    L=[{\"name\":\"heronghua\",\"age\":29,\"score\":98}]\n",
    "    while True:\n",
    "        zhucaidan()\n",
    "        n = input(\"请输入您要查询的选项按q可以退出程序：\")\n",
    "        if n == \"1\":\n",
    "            input_student()\n",
    "        elif n ==\"2\":\n",
    "            output_student(L)\n",
    "        elif n == \"3\":\n",
    "            shanchuxingxi()\n",
    "        elif n == \"4\":\n",
    "            xiugaixingxing()\n",
    "        elif n == \"5\":\n",
    "            output_student(sorted(L, key=lambda x:x[\"score\"],reverse=True))\n",
    "        elif n == \"6\":\n",
    "            output_student(sorted(L, key=lambda x:x[\"score\"]))\n",
    "        elif n == \"7\":\n",
    "            output_student(sorted(L, key=lambda x:x['age'],reverse=True))\n",
    "        elif n == \"8\":\n",
    "            output_student(sorted(L, key=lambda x:x['age']))\n",
    "        elif n == \"q\":\n",
    "            print(\"程序结束\")\n",
    "            break\n",
    "        else:\n",
    "            print(\"您输入错误，请重新输入\")\n",
    "xueshenglxt()    \n",
    "        "
   ]
  },
  {
   "cell_type": "code",
   "execution_count": 3,
   "metadata": {},
   "outputs": [
    {
     "data": {
      "text/plain": [
       "'\\x07'"
      ]
     },
     "execution_count": 3,
     "metadata": {},
     "output_type": "execute_result"
    }
   ],
   "source": [
    "chr(7)"
   ]
  },
  {
   "cell_type": "code",
   "execution_count": null,
   "metadata": {},
   "outputs": [],
   "source": []
  }
 ],
 "metadata": {
  "kernelspec": {
   "display_name": "Python 3",
   "language": "python",
   "name": "python3"
  },
  "language_info": {
   "codemirror_mode": {
    "name": "ipython",
    "version": 3
   },
   "file_extension": ".py",
   "mimetype": "text/x-python",
   "name": "python",
   "nbconvert_exporter": "python",
   "pygments_lexer": "ipython3",
   "version": "3.6.4"
  }
 },
 "nbformat": 4,
 "nbformat_minor": 2
}
