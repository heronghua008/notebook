{
 "cells": [
  {
   "cell_type": "markdown",
   "metadata": {},
   "source": [
    "# day 15 回顾\n",
    "- 迭代器\n",
    "      it = iter(可迭代对象）\n",
    "      value = next(it)   # 从迭代器中获取值，当没有数据时触发\n",
    "      StopIteration 通知 \n",
    "- 生成器\n",
    "  - 生成器有两种:\n",
    "    - 生成器函数\n",
    "      - 含有yield语句的函数是生成函数\n",
    "    - 生成器表达式\n",
    "      （x**2 for i in range(10)）\n",
    "- 迭代相关的函数：\n",
    "      zip\n",
    "      enumerate\n",
    "- 容器类\n",
    "  - 字节串 bytes\n",
    "  - 字节数组 bytearray\n",
    "  - str.encode (编码字符串） 转为bytes\n",
    "  - bytes.decode(编码字符串）转为str"
   ]
  },
  {
   "cell_type": "markdown",
   "metadata": {},
   "source": [
    "# 文件 file\n",
    "- 文件是用于数据存储的单位\n",
    "- 文件通常用来长期存储数据\n",
    "- 文件中的数据是以字节为单位进行顺序存储的\n",
    "- 文件的操作流程\n",
    "  - 打开文件\n",
    "  - 读写文件\n",
    "  - 关闭文件\n",
    "        注：任何的操作系统，同一个应用程序同时打开文件的数量有最大数量限制，所在在用完文件后需要关闭\n",
    "- 文件的打开函数open：\n",
    "  - open (file,mode\"rt\")用于打开一个文件，返回此文件流对象，如果打开文件失败，则会触发OSError错误\n",
    "- 文件的关闭的方法：\n",
    "  - F.close()  # 关闭文件,释放系统资源\n",
    "- 文本文件操作模式\n",
    "  - 模式字符：\n",
    "        't'(默认）\n",
    "    - 默认文件中存储的数据为字符数据，以行为单位分隔，在python内部统一“\\n”作为换行符进行分隔\n",
    "    - 对文本文件的读写需要用字符串（str）进行数据读取和写入\n",
    "- 各种操作系统的换行符:\n",
    "  - Linux换行符       : '\\n'\n",
    "  - Window换行符      : '\\r\\n'\n",
    "  - 旧的Macintosh换行符: '\\r'\n",
    "  - 新的Mac Os 换行符  : '\\n'\n",
    "        说明：\n",
    "        在文件模式下，各操作系统的换行符在运行python内部时转换为字符“\\n”\n",
    "    \n",
    "      \n",
    "   "
   ]
  },
  {
   "cell_type": "code",
   "execution_count": 21,
   "metadata": {},
   "outputs": [
    {
     "name": "stdout",
     "output_type": "stream",
     "text": [
      "打开文件成功\n",
      "文件中的内容是 和人1\n",
      "文件已关闭\n"
     ]
    }
   ],
   "source": [
    "# file_open.py\n",
    "# 此函数示意文件的打开，读取及关闭\n",
    "try:\n",
    "    f = open(\"myfile.txt.txt\",'rt')\n",
    "    print(\"打开文件成功\")\n",
    "\n",
    "    s = f.read()\n",
    "    print(\"文件中的内容是\",s)\n",
    "\n",
    "    f.close()\n",
    "    print(\"文件已关闭\")\n",
    "except OSError:\n",
    "    print('文件打开失败')\n",
    "\n"
   ]
  },
  {
   "cell_type": "code",
   "execution_count": 73,
   "metadata": {},
   "outputs": [
    {
     "name": "stdout",
     "output_type": "stream",
     "text": [
      "打开文件成功！\n",
      "小张 20 100\n",
      "\n",
      "小李 21 96\n",
      "\n",
      "小王 22 98\n",
      "\n",
      "小王 22 98\n",
      "\n",
      "小王 22 98\n",
      "\n",
      "小王 22 98\n",
      "\n",
      "小王 22 98\n"
     ]
    }
   ],
   "source": [
    "# file_read_text.py\n",
    "# 此示例示意以文本文件模式读取myfile.txt中的内容\n",
    "try:\n",
    "    f = open(\"dh.txt\")\n",
    "    print('打开文件成功！')\n",
    "#     s = f.read()\n",
    "# #     print(\"字符串s的长度是：\",len(s))\n",
    "#     while True:\n",
    "#         s = f.readline()\n",
    "#         if s == \"\":\n",
    "#             break\n",
    "#         print(s)\n",
    "    for i in f:\n",
    "        print(i)\n",
    "    \n",
    "    f.close()\n",
    "except OSError:\n",
    "    print('文件打开失败')\n",
    "    "
   ]
  },
  {
   "cell_type": "code",
   "execution_count": 70,
   "metadata": {},
   "outputs": [
    {
     "name": "stdout",
     "output_type": "stream",
     "text": [
      "[{'name': '小张', 'age': 20, 'score': '100'}, {'name': '小李', 'age': 21, 'score': '96'}, {'name': '小王', 'age': 22, 'score': '98'}, {'name': '小王', 'age': 22, 'score': '98'}, {'name': '小王', 'age': 22, 'score': '98'}, {'name': '小王', 'age': 22, 'score': '98'}, {'name': '小王', 'age': 22, 'score': '98'}]\n"
     ]
    }
   ],
   "source": [
    "# 将文本文件转为字典\n",
    "def read_file_content():\n",
    "    L = []\n",
    "    try:\n",
    "        f = open(\"dh.txt\")\n",
    "        while True:\n",
    "            s = f.readline()\n",
    "            if not s:\n",
    "                break\n",
    "            s2 = s.strip()\n",
    "            name_age_score = s2.split()\n",
    "            n,a,s = name_age_score\n",
    "            d = {'name':n,'age':int(a),'score':s}\n",
    "            L.append(d)\n",
    "        f.close()\n",
    "    except OSError:\n",
    "        print(\"文件打开失败\")\n",
    "    return L\n",
    "if __name__ == \"__main__\":\n",
    "    print(read_file_content())\n",
    "    "
   ]
  },
  {
   "cell_type": "markdown",
   "metadata": {},
   "source": [
    "- 文件的迭代读取\n",
    "- open返回的文件流对象是可迭代对象\n",
    "- 示例：\n",
    "      f = open(\"myfile.txt\")\n",
    "      每次取出一行,相当于line = f.readline()\n",
    "      for line in f:\n",
    "          print(line)\n",
    "- 文本文件的写操作\n",
    "      写文件模式有:\n",
    "        'w'\n",
    "        'x'\n",
    "        'a'\n",
    "        详见:\n",
    "          python_base_docs_html/文件.htm"
   ]
  },
  {
   "cell_type": "code",
   "execution_count": 84,
   "metadata": {},
   "outputs": [],
   "source": [
    "# 此示例示意写文本文件操作\n",
    "f = open(\"mynote\",\"w\") # \"w\"代表以写模式打开文件 'a'\t以只写文件打开一个文件\n",
    "# ，如果有原文件则追加到文件末尾\n",
    "f.write(\"你好\")\n",
    "f.write(\"中国!\")\n",
    "f.write('\\n')\n",
    "f.write(\"hello china!\")\n",
    "f.writelines(['aaa\\n','bbbb\\n','cccc\\n'])\n",
    "f.close()"
   ]
  },
  {
   "cell_type": "code",
   "execution_count": 38,
   "metadata": {},
   "outputs": [
    {
     "name": "stdout",
     "output_type": "stream",
     "text": [
      "请输入姓名：何荣华\n",
      "请输入年龄：28\n",
      "请输入地址：上海\n",
      "请输入姓名：陈维捷\n",
      "请输入年龄：28\n",
      "请输入地址：上海\n",
      "请输入姓名：\n",
      "姓名:何荣华 年龄:28 住址:上海\n",
      "姓名:陈维捷 年龄:28 住址:上海\n"
     ]
    }
   ],
   "source": [
    "'''练习\n",
    "1写一个程序 输入很多人的姓名，年龄，家庭住址信息，存入文件“infos.txt\n",
    "中文件格式自己定义\n",
    "完后输入查看文件格式 是否是你想要的格式 （文本文件操作）\n",
    "2 写一个程序读入infos.txt中的内容，以如下格式打印infos.txt中的内容\n",
    "姓名：xxx 年龄：20 住址：xxx'''\n",
    "# def wh():\n",
    "#     L=[]\n",
    "#     while True:\n",
    "#         n = input(\"请输入信息：\")\n",
    "#         if not n:\n",
    "#             break\n",
    "#         L.append(n+\"\\n\")\n",
    "#     f = open(\"infos.txt\",\"a\")\n",
    "#     f.writelines(L)\n",
    "#     f.close()\n",
    "    \n",
    "# def read_infos():\n",
    "#     f = open(\"infos.txt\")\n",
    "#     for i in f:\n",
    "#         l = i.split()\n",
    "#         print(\"姓名:{0} 年龄:{1} 住址:{2}\".format(l[0],l[1],l[2]))\n",
    "#     f.close()\n",
    "# read_infos()\n",
    "file = open('infos',\"w\")\n",
    "while True:\n",
    "    n = input(\"请输入姓名：\")\n",
    "    if not n:\n",
    "        break\n",
    "    a = int(input(\"请输入年龄：\"))\n",
    "    addr = input('请输入地址：')\n",
    "    # 写入到文件中：\n",
    "    file.write(n)\n",
    "    file.write(\",\")\n",
    "    file.write(str(a))\n",
    "    file.write(\",\")\n",
    "    file.write(addr)\n",
    "    file.write(\"\\n\")\n",
    "file.close()\n",
    "file = open(\"infos\")\n",
    "for i in file:\n",
    "    s = i.strip()\n",
    "    l = s.split(\",\")\n",
    "    print(\"姓名:{0} 年龄:{1} 住址:{2}\".format(l[0],l[1],l[2]))\n",
    "file.close()    "
   ]
  },
  {
   "cell_type": "markdown",
   "metadata": {},
   "source": [
    "- 二进制文件操作:\n",
    "  - 默认文件中存储的都是以字节为单位的二进制数据，通常有人为规则的格式，需要以字节为单位进行读写\n",
    "- F.read()的返回类型：\n",
    "  - 对于文本模式（“t”）打开文件，返回字符串（str）\n",
    "  - 对于二进制模式（'b'）打开的文件，返回字节串（bytes)\n",
    "- F.write(x)\n",
    "  - 对于文本模式，x必须为字符串\n",
    "  - 对于二进制模式，x必须为字节串\n",
    "- 以十六进制方式查看文件内容的命令：\n",
    "      $xxd 文件名"
   ]
  },
  {
   "cell_type": "code",
   "execution_count": 35,
   "metadata": {},
   "outputs": [
    {
     "name": "stdout",
     "output_type": "stream",
     "text": [
      "打开文件成功\n"
     ]
    }
   ],
   "source": [
    "# 此示例示意以二进制方式写文件到“data.bin\"\n",
    "f = open('data.bin','wb')\n",
    "print(\"打开文件成功\")\n",
    "# 写入数据\n",
    "b = b'\\xe4\\xb8\\xad'\n",
    "f.write(b)\n",
    "f.write(b'\\x00\\x00')\n",
    "\n",
    "f.close()"
   ]
  },
  {
   "cell_type": "code",
   "execution_count": 37,
   "metadata": {},
   "outputs": [
    {
     "name": "stdout",
     "output_type": "stream",
     "text": [
      "b'\\xe4\\xb8\\xad\\x00\\x00'\n"
     ]
    }
   ],
   "source": [
    "# 此示例示意二进制方式读文件”data.bin“\n",
    "file = open('data.bin','rb')\n",
    "b = file.read()\n",
    "print(b)"
   ]
  },
  {
   "cell_type": "code",
   "execution_count": 45,
   "metadata": {},
   "outputs": [
    {
     "name": "stdout",
     "output_type": "stream",
     "text": [
      "打开文件成功\n"
     ]
    }
   ],
   "source": [
    "'''练习：\n",
    "    将如下数据用二进制文件操作方式写入到文件data.txt中\n",
    "    数据如下：\n",
    "    小李 13888888899\n",
    "    小王 13666666666\n",
    "    提示：b = str.encode(\"utf-8\")'''\n",
    "s = \"小李 13888888899\"\n",
    "b = '小王 13666666666'\n",
    "c = s.encode(\"utf-8\")\n",
    "m = \"\\n\".encode(\"utf-8\")\n",
    "d = b.encode(\"utf-8\")\n",
    "f = open('data.txt','wb')\n",
    "# 写入数据\n",
    "f.write(c)\n",
    "f.write(m)\n",
    "f.write(d)\n",
    "f.close()"
   ]
  }
 ],
 "metadata": {
  "kernelspec": {
   "display_name": "Python 3",
   "language": "python",
   "name": "python3"
  },
  "language_info": {
   "codemirror_mode": {
    "name": "ipython",
    "version": 3
   },
   "file_extension": ".py",
   "mimetype": "text/x-python",
   "name": "python",
   "nbconvert_exporter": "python",
   "pygments_lexer": "ipython3",
   "version": "3.6.4"
  }
 },
 "nbformat": 4,
 "nbformat_minor": 2
}
